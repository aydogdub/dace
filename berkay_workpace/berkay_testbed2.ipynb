{
 "cells": [
  {
   "cell_type": "code",
   "execution_count": null,
   "id": "323168ff",
   "metadata": {},
   "outputs": [],
   "source": [
    "import dace\n",
    "from dace import registry\n",
    "from dace.sdfg.scope import ScopeSubgraphView\n",
    "from dace.codegen.prettycode import CodeIOStream\n",
    "from dace.codegen.targets.target import TargetCodeGenerator\n",
    "from dace.codegen.targets.framecode import DaCeCodeGenerator\n",
    "from dace.codegen.targets.cpp import sym2cpp\n",
    "from IPython.display import Code"
   ]
  },
  {
   "cell_type": "code",
   "execution_count": null,
   "id": "851a8f17",
   "metadata": {},
   "outputs": [],
   "source": [
    "@dace.program\n",
    "def vector_copy(A: dace.float32[10] @ dace.dtypes.StorageType.GPU_Global, B: dace.float32[10] @ dace.dtypes.StorageType.GPU_Global):\n",
    "    for i in dace.map[0:10] @ dace.dtypes.ScheduleType.GPU_Device:\n",
    "        A[i] = B[i]\n",
    "\n",
    "sdfg = vector_copy.to_sdfg()\n",
    "sdfg"
   ]
  },
  {
   "cell_type": "code",
   "execution_count": null,
   "id": "69427604",
   "metadata": {},
   "outputs": [],
   "source": [
    "\n",
    "Code(sdfg.generate_code()[0].clean_code, language='cpp')"
   ]
  },
  {
   "cell_type": "code",
   "execution_count": null,
   "id": "ddd49236",
   "metadata": {},
   "outputs": [],
   "source": [
    "Code(sdfg.generate_code()[1].clean_code, language='cpp')"
   ]
  },
  {
   "cell_type": "code",
   "execution_count": null,
   "id": "567ceeff",
   "metadata": {},
   "outputs": [],
   "source": [
    "Code(sdfg.generate_code()[2].clean_code, language='cpp')"
   ]
  },
  {
   "cell_type": "code",
   "execution_count": null,
   "id": "80e4eea7",
   "metadata": {},
   "outputs": [],
   "source": [
    "Code(sdfg.generate_code()[3].clean_code, language='cpp')"
   ]
  }
 ],
 "metadata": {
  "kernelspec": {
   "display_name": "Python (dace_env)",
   "language": "python",
   "name": "dace_emv"
  },
  "language_info": {
   "codemirror_mode": {
    "name": "ipython",
    "version": 3
   },
   "file_extension": ".py",
   "mimetype": "text/x-python",
   "name": "python",
   "nbconvert_exporter": "python",
   "pygments_lexer": "ipython3",
   "version": "3.12.3"
  }
 },
 "nbformat": 4,
 "nbformat_minor": 5
}
