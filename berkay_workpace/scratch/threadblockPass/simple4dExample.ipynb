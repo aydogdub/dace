{
 "cells": [
  {
   "cell_type": "code",
   "execution_count": 1,
   "id": "f5ba4b8b",
   "metadata": {},
   "outputs": [
    {
     "data": {
      "text/html": [
       "<script src=\"https://spcl.github.io/dace-webclient/dist/sdfv.js\"></script>\n"
      ],
      "text/plain": [
       "<IPython.core.display.HTML object>"
      ]
     },
     "metadata": {},
     "output_type": "display_data"
    }
   ],
   "source": [
    "import dace\n",
    "import cupy as cp"
   ]
  },
  {
   "cell_type": "code",
   "execution_count": 2,
   "id": "fca45bfa",
   "metadata": {},
   "outputs": [
    {
     "data": {
      "text/html": [
       "\n",
       "<div class=\"sdfv\">\n",
       "<div id=\"contents_7408943574604732090\" style=\"position: relative; resize: vertical; overflow: auto\"></div>\n",
       "</div>\n",
       "<script>\n",
       "    var sdfg_7408943574604732090 = \"{\\n  \\\"type\\\": \\\"SDFG\\\",\\n  \\\"attributes\\\": {\\n    \\\"name\\\": \\\"vector_copy_strides4d\\\",\\n    \\\"arg_names\\\": [\\n      \\\"A\\\",\\n      \\\"B\\\"\\n    ],\\n    \\\"_arrays\\\": {\\n      \\\"A\\\": {\\n        \\\"type\\\": \\\"Array\\\",\\n        \\\"attributes\\\": {\\n          \\\"strides\\\": [\\n            \\\"J*K*M\\\",\\n            \\\"J*K\\\",\\n            \\\"K\\\",\\n            \\\"1\\\"\\n          ],\\n          \\\"total_size\\\": \\\"J*K*M*N\\\",\\n          \\\"offset\\\": [\\n            \\\"0\\\",\\n            \\\"0\\\",\\n            \\\"0\\\",\\n            \\\"0\\\"\\n          ],\\n          \\\"optional\\\": false,\\n          \\\"dtype\\\": \\\"uint32\\\",\\n          \\\"shape\\\": [\\n            \\\"N\\\",\\n            \\\"M\\\",\\n            \\\"J\\\",\\n            \\\"K\\\"\\n          ],\\n          \\\"storage\\\": \\\"GPU_Global\\\",\\n          \\\"debuginfo\\\": null\\n        }\\n      },\\n      \\\"B\\\": {\\n        \\\"type\\\": \\\"Array\\\",\\n        \\\"attributes\\\": {\\n          \\\"strides\\\": [\\n            \\\"J*K*M\\\",\\n            \\\"J*K\\\",\\n            \\\"K\\\",\\n            \\\"1\\\"\\n          ],\\n          \\\"total_size\\\": \\\"J*K*M*N\\\",\\n          \\\"offset\\\": [\\n            \\\"0\\\",\\n            \\\"0\\\",\\n            \\\"0\\\",\\n            \\\"0\\\"\\n          ],\\n          \\\"optional\\\": false,\\n          \\\"dtype\\\": \\\"uint32\\\",\\n          \\\"shape\\\": [\\n            \\\"N\\\",\\n            \\\"M\\\",\\n            \\\"J\\\",\\n            \\\"K\\\"\\n          ],\\n          \\\"storage\\\": \\\"GPU_Global\\\",\\n          \\\"debuginfo\\\": null\\n        }\\n      }\\n    },\\n    \\\"symbols\\\": {\\n      \\\"J\\\": \\\"int32\\\",\\n      \\\"K\\\": \\\"int32\\\",\\n      \\\"M\\\": \\\"int32\\\",\\n      \\\"N\\\": \\\"int32\\\"\\n    },\\n    \\\"global_code\\\": {\\n      \\\"frame\\\": {\\n        \\\"string_data\\\": \\\"\\\",\\n        \\\"language\\\": \\\"CPP\\\"\\n      }\\n    },\\n    \\\"init_code\\\": {\\n      \\\"frame\\\": {\\n        \\\"string_data\\\": \\\"\\\",\\n        \\\"language\\\": \\\"CPP\\\"\\n      }\\n    },\\n    \\\"exit_code\\\": {\\n      \\\"frame\\\": {\\n        \\\"string_data\\\": \\\"\\\",\\n        \\\"language\\\": \\\"CPP\\\"\\n      }\\n    },\\n    \\\"debuginfo\\\": {\\n      \\\"type\\\": \\\"DebugInfo\\\",\\n      \\\"start_line\\\": 11,\\n      \\\"end_line\\\": 14,\\n      \\\"start_column\\\": 0,\\n      \\\"end_column\\\": 0,\\n      \\\"filename\\\": \\\"/tmp/ipykernel_74370/2962076542.py\\\"\\n    },\\n    \\\"using_explicit_control_flow\\\": true,\\n    \\\"guid\\\": \\\"651599bb-ae14-4c13-a105-a5e085150b43\\\"\\n  },\\n  \\\"nodes\\\": [\\n    {\\n      \\\"type\\\": \\\"SDFGState\\\",\\n      \\\"label\\\": \\\"MapState\\\",\\n      \\\"id\\\": 0,\\n      \\\"collapsed\\\": false,\\n      \\\"scope_dict\\\": {\\n        \\\"-1\\\": [\\n          0,\\n          2,\\n          3\\n        ],\\n        \\\"0\\\": [\\n          1,\\n          4\\n        ]\\n      },\\n      \\\"nodes\\\": [\\n        {\\n          \\\"type\\\": \\\"MapEntry\\\",\\n          \\\"label\\\": \\\"vector_copy_strides4d_13[a=0:N:7, b=0:M:2, c=0:J:5, d=0:K:8]\\\",\\n          \\\"attributes\\\": {\\n            \\\"label\\\": \\\"vector_copy_strides4d_13\\\",\\n            \\\"params\\\": [\\n              \\\"a\\\",\\n              \\\"b\\\",\\n              \\\"c\\\",\\n              \\\"d\\\"\\n            ],\\n            \\\"range\\\": {\\n              \\\"type\\\": \\\"Range\\\",\\n              \\\"ranges\\\": [\\n                {\\n                  \\\"start\\\": \\\"0\\\",\\n                  \\\"end\\\": \\\"N - 1\\\",\\n                  \\\"step\\\": \\\"7\\\",\\n                  \\\"tile\\\": \\\"1\\\"\\n                },\\n                {\\n                  \\\"start\\\": \\\"0\\\",\\n                  \\\"end\\\": \\\"M - 1\\\",\\n                  \\\"step\\\": \\\"2\\\",\\n                  \\\"tile\\\": \\\"1\\\"\\n                },\\n                {\\n                  \\\"start\\\": \\\"0\\\",\\n                  \\\"end\\\": \\\"J - 1\\\",\\n                  \\\"step\\\": \\\"5\\\",\\n                  \\\"tile\\\": \\\"1\\\"\\n                },\\n                {\\n                  \\\"start\\\": \\\"0\\\",\\n                  \\\"end\\\": \\\"K - 1\\\",\\n                  \\\"step\\\": \\\"8\\\",\\n                  \\\"tile\\\": \\\"1\\\"\\n                }\\n              ]\\n            },\\n            \\\"schedule\\\": \\\"GPU_Device\\\",\\n            \\\"debuginfo\\\": {\\n              \\\"type\\\": \\\"DebugInfo\\\",\\n              \\\"start_line\\\": 13,\\n              \\\"end_line\\\": 13,\\n              \\\"start_column\\\": 4,\\n              \\\"end_column\\\": 4,\\n              \\\"filename\\\": \\\"/tmp/ipykernel_74370/2962076542.py\\\"\\n            },\\n            \\\"in_connectors\\\": {\\n              \\\"IN_B\\\": null\\n            },\\n            \\\"out_connectors\\\": {\\n              \\\"OUT_B\\\": null\\n            },\\n            \\\"guid\\\": \\\"e2fe66ed-0b79-43b3-8221-8cae33c5f15c\\\"\\n          },\\n          \\\"id\\\": 0,\\n          \\\"scope_entry\\\": null,\\n          \\\"scope_exit\\\": \\\"1\\\"\\n        },\\n        {\\n          \\\"type\\\": \\\"MapExit\\\",\\n          \\\"label\\\": \\\"vector_copy_strides4d_13[a=0:N:7, b=0:M:2, c=0:J:5, d=0:K:8]\\\",\\n          \\\"attributes\\\": {\\n            \\\"in_connectors\\\": {\\n              \\\"IN_A\\\": null\\n            },\\n            \\\"out_connectors\\\": {\\n              \\\"OUT_A\\\": null\\n            },\\n            \\\"guid\\\": \\\"40ecab33-cf33-4e37-9bab-a41a6bf55675\\\"\\n          },\\n          \\\"id\\\": 1,\\n          \\\"scope_entry\\\": \\\"0\\\",\\n          \\\"scope_exit\\\": \\\"1\\\"\\n        },\\n        {\\n          \\\"type\\\": \\\"AccessNode\\\",\\n          \\\"label\\\": \\\"B\\\",\\n          \\\"attributes\\\": {\\n            \\\"debuginfo\\\": {\\n              \\\"type\\\": \\\"DebugInfo\\\",\\n              \\\"start_line\\\": 13,\\n              \\\"end_line\\\": 13,\\n              \\\"start_column\\\": 4,\\n              \\\"end_column\\\": 4,\\n              \\\"filename\\\": \\\"/tmp/ipykernel_74370/2962076542.py\\\"\\n            },\\n            \\\"data\\\": \\\"B\\\",\\n            \\\"guid\\\": \\\"719a3c84-4079-411e-ab11-98e2b997e6c3\\\"\\n          },\\n          \\\"id\\\": 2,\\n          \\\"scope_entry\\\": null,\\n          \\\"scope_exit\\\": null\\n        },\\n        {\\n          \\\"type\\\": \\\"AccessNode\\\",\\n          \\\"label\\\": \\\"A\\\",\\n          \\\"attributes\\\": {\\n            \\\"debuginfo\\\": {\\n              \\\"type\\\": \\\"DebugInfo\\\",\\n              \\\"start_line\\\": 13,\\n              \\\"end_line\\\": 13,\\n              \\\"start_column\\\": 4,\\n              \\\"end_column\\\": 4,\\n              \\\"filename\\\": \\\"/tmp/ipykernel_74370/2962076542.py\\\"\\n            },\\n            \\\"data\\\": \\\"A\\\",\\n            \\\"guid\\\": \\\"170381d8-036f-4d6e-a91b-8ad6baba753b\\\"\\n          },\\n          \\\"id\\\": 3,\\n          \\\"scope_entry\\\": null,\\n          \\\"scope_exit\\\": null\\n        },\\n        {\\n          \\\"type\\\": \\\"Tasklet\\\",\\n          \\\"label\\\": \\\"assign_14_8\\\",\\n          \\\"attributes\\\": {\\n            \\\"code\\\": {\\n              \\\"string_data\\\": \\\"__out = __inp\\\",\\n              \\\"language\\\": \\\"Python\\\"\\n            },\\n            \\\"debuginfo\\\": {\\n              \\\"type\\\": \\\"DebugInfo\\\",\\n              \\\"start_line\\\": 14,\\n              \\\"end_line\\\": 14,\\n              \\\"start_column\\\": 19,\\n              \\\"end_column\\\": 19,\\n              \\\"filename\\\": \\\"/tmp/ipykernel_74370/2962076542.py\\\"\\n            },\\n            \\\"label\\\": \\\"assign_14_8\\\",\\n            \\\"in_connectors\\\": {\\n              \\\"__inp\\\": null\\n            },\\n            \\\"out_connectors\\\": {\\n              \\\"__out\\\": null\\n            },\\n            \\\"guid\\\": \\\"e1eddc71-9df4-4556-b48b-13e94ac0ce96\\\"\\n          },\\n          \\\"id\\\": 4,\\n          \\\"scope_entry\\\": \\\"0\\\",\\n          \\\"scope_exit\\\": \\\"1\\\"\\n        }\\n      ],\\n      \\\"edges\\\": [\\n        {\\n          \\\"type\\\": \\\"MultiConnectorEdge\\\",\\n          \\\"attributes\\\": {\\n            \\\"data\\\": {\\n              \\\"type\\\": \\\"Memlet\\\",\\n              \\\"attributes\\\": {\\n                \\\"volume\\\": \\\"ceiling(J/5)*ceiling(K/8)*ceiling(M/2)*ceiling(N/7)\\\",\\n                \\\"subset\\\": {\\n                  \\\"type\\\": \\\"Range\\\",\\n                  \\\"ranges\\\": [\\n                    {\\n                      \\\"start\\\": \\\"0\\\",\\n                      \\\"end\\\": \\\"7*int_floor(N - 1, 7)\\\",\\n                      \\\"step\\\": \\\"1\\\",\\n                      \\\"tile\\\": \\\"1\\\"\\n                    },\\n                    {\\n                      \\\"start\\\": \\\"0\\\",\\n                      \\\"end\\\": \\\"2*int_floor(M - 1, 2)\\\",\\n                      \\\"step\\\": \\\"1\\\",\\n                      \\\"tile\\\": \\\"1\\\"\\n                    },\\n                    {\\n                      \\\"start\\\": \\\"0\\\",\\n                      \\\"end\\\": \\\"5*int_floor(J - 1, 5)\\\",\\n                      \\\"step\\\": \\\"1\\\",\\n                      \\\"tile\\\": \\\"1\\\"\\n                    },\\n                    {\\n                      \\\"start\\\": \\\"0\\\",\\n                      \\\"end\\\": \\\"8*int_floor(K - 1, 8)\\\",\\n                      \\\"step\\\": \\\"1\\\",\\n                      \\\"tile\\\": \\\"1\\\"\\n                    }\\n                  ]\\n                },\\n                \\\"data\\\": \\\"B\\\",\\n                \\\"debuginfo\\\": null,\\n                \\\"guid\\\": \\\"10f9c226-99a1-443e-aea4-f4dec280af06\\\",\\n                \\\"src_subset\\\": {\\n                  \\\"type\\\": \\\"Range\\\",\\n                  \\\"ranges\\\": [\\n                    {\\n                      \\\"start\\\": \\\"0\\\",\\n                      \\\"end\\\": \\\"7*int_floor(N - 1, 7)\\\",\\n                      \\\"step\\\": \\\"1\\\",\\n                      \\\"tile\\\": \\\"1\\\"\\n                    },\\n                    {\\n                      \\\"start\\\": \\\"0\\\",\\n                      \\\"end\\\": \\\"2*int_floor(M - 1, 2)\\\",\\n                      \\\"step\\\": \\\"1\\\",\\n                      \\\"tile\\\": \\\"1\\\"\\n                    },\\n                    {\\n                      \\\"start\\\": \\\"0\\\",\\n                      \\\"end\\\": \\\"5*int_floor(J - 1, 5)\\\",\\n                      \\\"step\\\": \\\"1\\\",\\n                      \\\"tile\\\": \\\"1\\\"\\n                    },\\n                    {\\n                      \\\"start\\\": \\\"0\\\",\\n                      \\\"end\\\": \\\"8*int_floor(K - 1, 8)\\\",\\n                      \\\"step\\\": \\\"1\\\",\\n                      \\\"tile\\\": \\\"1\\\"\\n                    }\\n                  ]\\n                },\\n                \\\"dst_subset\\\": null,\\n                \\\"is_data_src\\\": true,\\n                \\\"num_accesses\\\": \\\"ceiling(J/5)*ceiling(K/8)*ceiling(M/2)*ceiling(N/7)\\\"\\n              }\\n            }\\n          },\\n          \\\"src\\\": \\\"2\\\",\\n          \\\"dst\\\": \\\"0\\\",\\n          \\\"dst_connector\\\": \\\"IN_B\\\",\\n          \\\"src_connector\\\": null\\n        },\\n        {\\n          \\\"type\\\": \\\"MultiConnectorEdge\\\",\\n          \\\"attributes\\\": {\\n            \\\"data\\\": {\\n              \\\"type\\\": \\\"Memlet\\\",\\n              \\\"attributes\\\": {\\n                \\\"volume\\\": \\\"ceiling(J/5)*ceiling(K/8)*ceiling(M/2)*ceiling(N/7)\\\",\\n                \\\"subset\\\": {\\n                  \\\"type\\\": \\\"Range\\\",\\n                  \\\"ranges\\\": [\\n                    {\\n                      \\\"start\\\": \\\"0\\\",\\n                      \\\"end\\\": \\\"7*int_floor(N - 1, 7)\\\",\\n                      \\\"step\\\": \\\"1\\\",\\n                      \\\"tile\\\": \\\"1\\\"\\n                    },\\n                    {\\n                      \\\"start\\\": \\\"0\\\",\\n                      \\\"end\\\": \\\"2*int_floor(M - 1, 2)\\\",\\n                      \\\"step\\\": \\\"1\\\",\\n                      \\\"tile\\\": \\\"1\\\"\\n                    },\\n                    {\\n                      \\\"start\\\": \\\"0\\\",\\n                      \\\"end\\\": \\\"5*int_floor(J - 1, 5)\\\",\\n                      \\\"step\\\": \\\"1\\\",\\n                      \\\"tile\\\": \\\"1\\\"\\n                    },\\n                    {\\n                      \\\"start\\\": \\\"0\\\",\\n                      \\\"end\\\": \\\"8*int_floor(K - 1, 8)\\\",\\n                      \\\"step\\\": \\\"1\\\",\\n                      \\\"tile\\\": \\\"1\\\"\\n                    }\\n                  ]\\n                },\\n                \\\"data\\\": \\\"A\\\",\\n                \\\"debuginfo\\\": null,\\n                \\\"guid\\\": \\\"64ed86c2-c69e-43d8-ba59-5ff6e217e24c\\\",\\n                \\\"src_subset\\\": null,\\n                \\\"dst_subset\\\": {\\n                  \\\"type\\\": \\\"Range\\\",\\n                  \\\"ranges\\\": [\\n                    {\\n                      \\\"start\\\": \\\"0\\\",\\n                      \\\"end\\\": \\\"7*int_floor(N - 1, 7)\\\",\\n                      \\\"step\\\": \\\"1\\\",\\n                      \\\"tile\\\": \\\"1\\\"\\n                    },\\n                    {\\n                      \\\"start\\\": \\\"0\\\",\\n                      \\\"end\\\": \\\"2*int_floor(M - 1, 2)\\\",\\n                      \\\"step\\\": \\\"1\\\",\\n                      \\\"tile\\\": \\\"1\\\"\\n                    },\\n                    {\\n                      \\\"start\\\": \\\"0\\\",\\n                      \\\"end\\\": \\\"5*int_floor(J - 1, 5)\\\",\\n                      \\\"step\\\": \\\"1\\\",\\n                      \\\"tile\\\": \\\"1\\\"\\n                    },\\n                    {\\n                      \\\"start\\\": \\\"0\\\",\\n                      \\\"end\\\": \\\"8*int_floor(K - 1, 8)\\\",\\n                      \\\"step\\\": \\\"1\\\",\\n                      \\\"tile\\\": \\\"1\\\"\\n                    }\\n                  ]\\n                },\\n                \\\"is_data_src\\\": false,\\n                \\\"num_accesses\\\": \\\"ceiling(J/5)*ceiling(K/8)*ceiling(M/2)*ceiling(N/7)\\\"\\n              }\\n            }\\n          },\\n          \\\"src\\\": \\\"1\\\",\\n          \\\"dst\\\": \\\"3\\\",\\n          \\\"dst_connector\\\": null,\\n          \\\"src_connector\\\": \\\"OUT_A\\\"\\n        },\\n        {\\n          \\\"type\\\": \\\"MultiConnectorEdge\\\",\\n          \\\"attributes\\\": {\\n            \\\"data\\\": {\\n              \\\"type\\\": \\\"Memlet\\\",\\n              \\\"attributes\\\": {\\n                \\\"volume\\\": \\\"1\\\",\\n                \\\"subset\\\": {\\n                  \\\"type\\\": \\\"Range\\\",\\n                  \\\"ranges\\\": [\\n                    {\\n                      \\\"start\\\": \\\"a\\\",\\n                      \\\"end\\\": \\\"a\\\",\\n                      \\\"step\\\": \\\"1\\\",\\n                      \\\"tile\\\": \\\"1\\\"\\n                    },\\n                    {\\n                      \\\"start\\\": \\\"b\\\",\\n                      \\\"end\\\": \\\"b\\\",\\n                      \\\"step\\\": \\\"1\\\",\\n                      \\\"tile\\\": \\\"1\\\"\\n                    },\\n                    {\\n                      \\\"start\\\": \\\"c\\\",\\n                      \\\"end\\\": \\\"c\\\",\\n                      \\\"step\\\": \\\"1\\\",\\n                      \\\"tile\\\": \\\"1\\\"\\n                    },\\n                    {\\n                      \\\"start\\\": \\\"d\\\",\\n                      \\\"end\\\": \\\"d\\\",\\n                      \\\"step\\\": \\\"1\\\",\\n                      \\\"tile\\\": \\\"1\\\"\\n                    }\\n                  ]\\n                },\\n                \\\"data\\\": \\\"B\\\",\\n                \\\"debuginfo\\\": null,\\n                \\\"guid\\\": \\\"9434a69c-590f-4f57-aa22-31c3ae053f08\\\",\\n                \\\"src_subset\\\": {\\n                  \\\"type\\\": \\\"Range\\\",\\n                  \\\"ranges\\\": [\\n                    {\\n                      \\\"start\\\": \\\"a\\\",\\n                      \\\"end\\\": \\\"a\\\",\\n                      \\\"step\\\": \\\"1\\\",\\n                      \\\"tile\\\": \\\"1\\\"\\n                    },\\n                    {\\n                      \\\"start\\\": \\\"b\\\",\\n                      \\\"end\\\": \\\"b\\\",\\n                      \\\"step\\\": \\\"1\\\",\\n                      \\\"tile\\\": \\\"1\\\"\\n                    },\\n                    {\\n                      \\\"start\\\": \\\"c\\\",\\n                      \\\"end\\\": \\\"c\\\",\\n                      \\\"step\\\": \\\"1\\\",\\n                      \\\"tile\\\": \\\"1\\\"\\n                    },\\n                    {\\n                      \\\"start\\\": \\\"d\\\",\\n                      \\\"end\\\": \\\"d\\\",\\n                      \\\"step\\\": \\\"1\\\",\\n                      \\\"tile\\\": \\\"1\\\"\\n                    }\\n                  ]\\n                },\\n                \\\"dst_subset\\\": null,\\n                \\\"is_data_src\\\": true,\\n                \\\"num_accesses\\\": \\\"1\\\"\\n              }\\n            }\\n          },\\n          \\\"src\\\": \\\"0\\\",\\n          \\\"dst\\\": \\\"4\\\",\\n          \\\"dst_connector\\\": \\\"__inp\\\",\\n          \\\"src_connector\\\": \\\"OUT_B\\\"\\n        },\\n        {\\n          \\\"type\\\": \\\"MultiConnectorEdge\\\",\\n          \\\"attributes\\\": {\\n            \\\"data\\\": {\\n              \\\"type\\\": \\\"Memlet\\\",\\n              \\\"attributes\\\": {\\n                \\\"volume\\\": \\\"1\\\",\\n                \\\"subset\\\": {\\n                  \\\"type\\\": \\\"Range\\\",\\n                  \\\"ranges\\\": [\\n                    {\\n                      \\\"start\\\": \\\"a\\\",\\n                      \\\"end\\\": \\\"a\\\",\\n                      \\\"step\\\": \\\"1\\\",\\n                      \\\"tile\\\": \\\"1\\\"\\n                    },\\n                    {\\n                      \\\"start\\\": \\\"b\\\",\\n                      \\\"end\\\": \\\"b\\\",\\n                      \\\"step\\\": \\\"1\\\",\\n                      \\\"tile\\\": \\\"1\\\"\\n                    },\\n                    {\\n                      \\\"start\\\": \\\"c\\\",\\n                      \\\"end\\\": \\\"c\\\",\\n                      \\\"step\\\": \\\"1\\\",\\n                      \\\"tile\\\": \\\"1\\\"\\n                    },\\n                    {\\n                      \\\"start\\\": \\\"d\\\",\\n                      \\\"end\\\": \\\"d\\\",\\n                      \\\"step\\\": \\\"1\\\",\\n                      \\\"tile\\\": \\\"1\\\"\\n                    }\\n                  ]\\n                },\\n                \\\"data\\\": \\\"A\\\",\\n                \\\"debuginfo\\\": null,\\n                \\\"guid\\\": \\\"97f2ce47-5a8a-49b5-bb98-aa71931ba886\\\",\\n                \\\"src_subset\\\": null,\\n                \\\"dst_subset\\\": {\\n                  \\\"type\\\": \\\"Range\\\",\\n                  \\\"ranges\\\": [\\n                    {\\n                      \\\"start\\\": \\\"a\\\",\\n                      \\\"end\\\": \\\"a\\\",\\n                      \\\"step\\\": \\\"1\\\",\\n                      \\\"tile\\\": \\\"1\\\"\\n                    },\\n                    {\\n                      \\\"start\\\": \\\"b\\\",\\n                      \\\"end\\\": \\\"b\\\",\\n                      \\\"step\\\": \\\"1\\\",\\n                      \\\"tile\\\": \\\"1\\\"\\n                    },\\n                    {\\n                      \\\"start\\\": \\\"c\\\",\\n                      \\\"end\\\": \\\"c\\\",\\n                      \\\"step\\\": \\\"1\\\",\\n                      \\\"tile\\\": \\\"1\\\"\\n                    },\\n                    {\\n                      \\\"start\\\": \\\"d\\\",\\n                      \\\"end\\\": \\\"d\\\",\\n                      \\\"step\\\": \\\"1\\\",\\n                      \\\"tile\\\": \\\"1\\\"\\n                    }\\n                  ]\\n                },\\n                \\\"is_data_src\\\": false,\\n                \\\"num_accesses\\\": \\\"1\\\"\\n              }\\n            }\\n          },\\n          \\\"src\\\": \\\"4\\\",\\n          \\\"dst\\\": \\\"1\\\",\\n          \\\"dst_connector\\\": \\\"IN_A\\\",\\n          \\\"src_connector\\\": \\\"__out\\\"\\n        }\\n      ],\\n      \\\"attributes\\\": {\\n        \\\"guid\\\": \\\"3325ce30-f71d-4094-a05b-69e5416ef3eb\\\",\\n        \\\"executions\\\": \\\"1\\\",\\n        \\\"dynamic_executions\\\": false\\n      }\\n    }\\n  ],\\n  \\\"edges\\\": [],\\n  \\\"collapsed\\\": false,\\n  \\\"label\\\": \\\"\\\",\\n  \\\"id\\\": null,\\n  \\\"cfg_list_id\\\": 0,\\n  \\\"start_block\\\": 0,\\n  \\\"dace_version\\\": \\\"1.0.0\\\"\\n}\";\n",
       "</script>\n",
       "<script>\n",
       "    new SDFGRenderer(\n",
       "        checkCompatLoad(parse_sdfg(sdfg_7408943574604732090)),\n",
       "        document.getElementById(\"contents_7408943574604732090\"),\n",
       "        undefined, null, null, false, null, null\n",
       "    );\n",
       "</script>"
      ],
      "text/plain": [
       "SDFG (vector_copy_strides4d)"
      ]
     },
     "execution_count": 2,
     "metadata": {},
     "output_type": "execute_result"
    }
   ],
   "source": [
    "N = dace.symbol(\"N\")\n",
    "M = dace.symbol(\"M\")\n",
    "J = dace.symbol(\"J\")\n",
    "K = dace.symbol(\"K\")\n",
    "\n",
    "sN = 7\n",
    "sM = 2\n",
    "sJ = 5\n",
    "sK = 8\n",
    "\n",
    "@dace.program\n",
    "def vector_copy_strides4d(A: dace.uint32[N, M, J, K] @ dace.dtypes.StorageType.GPU_Global, B: dace.uint32[N, M, J, K] @ dace.dtypes.StorageType.GPU_Global):\n",
    "    for a, b, c, d in dace.map[0:N:sN, 0:M:sM, 0:J:sJ, 0:K:sK] @ dace.dtypes.ScheduleType.GPU_Device:\n",
    "        A[a, b, c, d] = B[a, b, c, d]\n",
    "\n",
    "sdfg = vector_copy_strides4d.to_sdfg()\n",
    "sdfg\n"
   ]
  },
  {
   "cell_type": "code",
   "execution_count": 3,
   "id": "2678e814",
   "metadata": {},
   "outputs": [
    {
     "name": "stdout",
     "output_type": "stream",
     "text": [
      "\n",
      "\n",
      "SUCCESS: A matches the expected result.\n"
     ]
    }
   ],
   "source": [
    "# Example input \n",
    "n = 12\n",
    "m = 14\n",
    "j = 11\n",
    "k = 23\n",
    "\n",
    "B = cp.ones((n, m, j, k, ), dtype=cp.uint32)\n",
    "A = cp.zeros((n, m, j, k, ), dtype=cp.uint32)\n",
    "\n",
    "\n",
    "# Strided copy from B to A\n",
    "sdfg(A=A, B=B, N=n, M=m, J=j, K=k)\n",
    "\n",
    "\n",
    "\n",
    "# Verify correctness for 2D strided copy\n",
    "expected = cp.zeros((n, m, j, k, ), dtype=cp.uint32)\n",
    "expected[::sN, ::sM, ::sJ, ::sK] = 1\n",
    "if (A == expected).all():\n",
    "    print(\"\\n\\nSUCCESS: A matches the expected result.\")\n",
    "else:\n",
    "    print(\"\\n\\nERROR: A does not match the expected result.\")"
   ]
  }
 ],
 "metadata": {
  "kernelspec": {
   "display_name": "dace_env",
   "language": "python",
   "name": "python3"
  },
  "language_info": {
   "codemirror_mode": {
    "name": "ipython",
    "version": 3
   },
   "file_extension": ".py",
   "mimetype": "text/x-python",
   "name": "python",
   "nbconvert_exporter": "python",
   "pygments_lexer": "ipython3",
   "version": "3.12.3"
  }
 },
 "nbformat": 4,
 "nbformat_minor": 5
}
