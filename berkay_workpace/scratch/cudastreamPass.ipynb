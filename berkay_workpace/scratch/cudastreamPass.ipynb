{
 "cells": [
  {
   "cell_type": "code",
   "execution_count": 1,
   "id": "f4d111db",
   "metadata": {},
   "outputs": [
    {
     "data": {
      "text/html": [
       "<script src=\"https://spcl.github.io/dace-webclient/dist/sdfv.js\"></script>\n"
      ],
      "text/plain": [
       "<IPython.core.display.HTML object>"
      ]
     },
     "metadata": {},
     "output_type": "display_data"
    }
   ],
   "source": [
    "import dace\n",
    "from IPython.display import Code\n",
    "from dace.transformation import pass_pipeline\n"
   ]
  },
  {
   "cell_type": "markdown",
   "id": "7bdf4ea6",
   "metadata": {},
   "source": [
    "Here you can choose any of the 3 following programs to see how the sdfg assigns streams and how it adds synchronization tasklets if required.\n",
    "You can, if you wish, also change e.g. the StorageType of one input- as long as you don't choose a strategy where the GPU is not used (e.g. a direct CPU\n",
    "to CPU copy), a synchronization tasklet should be added. \n",
    "\n",
    "Note: test1 is a special case - where we have only one connected component. I thought it would be cool if we just use the default nullptr in this case instead of \n",
    "creating a stream."
   ]
  },
  {
   "cell_type": "code",
   "execution_count": 2,
   "id": "3dfa8ad3",
   "metadata": {},
   "outputs": [],
   "source": [
    "@dace.program\n",
    "def test1(A: dace.uint32[10] @ dace.dtypes.StorageType.GPU_Global,\n",
    "          B: dace.uint32[10] @ dace.dtypes.StorageType.GPU_Global\n",
    "         ):\n",
    "    A[:] = B[:]"
   ]
  },
  {
   "cell_type": "code",
   "execution_count": 3,
   "id": "ad689f3d",
   "metadata": {},
   "outputs": [],
   "source": [
    "@dace.program\n",
    "def test2(A: dace.uint32[10] @ dace.dtypes.StorageType.GPU_Global,\n",
    "         B: dace.uint32[10] @ dace.dtypes.StorageType.GPU_Global,\n",
    "         C: dace.uint32[10] @ dace.dtypes.StorageType.GPU_Global,\n",
    "         D: dace.uint32[10] @ dace.dtypes.StorageType.GPU_Global\n",
    "         ):\n",
    "    \n",
    "    for i in dace.map[0:10] @ dace.dtypes.ScheduleType.GPU_Device:\n",
    "        A[i] = B[i]\n",
    "    \n",
    "    for j in dace.map[0:10] @ dace.dtypes.ScheduleType.GPU_Device:\n",
    "        C[j] = D[j]"
   ]
  },
  {
   "cell_type": "code",
   "execution_count": 4,
   "id": "104de517",
   "metadata": {},
   "outputs": [],
   "source": [
    "@dace.program\n",
    "def test3(A: dace.uint32[10] @ dace.dtypes.StorageType.GPU_Global,\n",
    "          B: dace.uint32[10] @ dace.dtypes.StorageType.GPU_Global,\n",
    "          C: dace.uint32[10] @ dace.dtypes.StorageType.GPU_Global,\n",
    "          D: dace.uint32[10] @ dace.dtypes.StorageType.GPU_Global\n",
    "         ):\n",
    "    \n",
    "    A[:] = B[:]\n",
    "    \n",
    "    for i in dace.map[0:3] @ dace.dtypes.ScheduleType.Sequential:\n",
    "        for j in dace.map[0:10] @ dace.dtypes.ScheduleType.GPU_Device:\n",
    "            C[j] = D[j]"
   ]
  },
  {
   "cell_type": "markdown",
   "id": "3ce0f3af",
   "metadata": {},
   "source": [
    "Choose which program you want to select for generating the sdfg below. It will give you the sdfg, without any snychronization tasklets.\n",
    "The old codegen, would figure out where synchronization has to occur. We will make this explicit, as you wanted :)."
   ]
  },
  {
   "cell_type": "code",
   "execution_count": 5,
   "id": "5ba1505c",
   "metadata": {},
   "outputs": [
    {
     "data": {
      "text/html": [
       "\n",
       "<div class=\"sdfv\">\n",
       "<div id=\"contents_4303528818467801028\" style=\"position: relative; resize: vertical; overflow: auto\"></div>\n",
       "</div>\n",
       "<script>\n",
       "    var sdfg_4303528818467801028 = \"{\\n  \\\"type\\\": \\\"SDFG\\\",\\n  \\\"attributes\\\": {\\n    \\\"name\\\": \\\"test3\\\",\\n    \\\"arg_names\\\": [\\n      \\\"A\\\",\\n      \\\"B\\\",\\n      \\\"C\\\",\\n      \\\"D\\\"\\n    ],\\n    \\\"_arrays\\\": {\\n      \\\"A\\\": {\\n        \\\"type\\\": \\\"Array\\\",\\n        \\\"attributes\\\": {\\n          \\\"strides\\\": [\\n            \\\"1\\\"\\n          ],\\n          \\\"total_size\\\": \\\"10\\\",\\n          \\\"offset\\\": [\\n            \\\"0\\\"\\n          ],\\n          \\\"optional\\\": false,\\n          \\\"dtype\\\": \\\"uint32\\\",\\n          \\\"shape\\\": [\\n            \\\"10\\\"\\n          ],\\n          \\\"storage\\\": \\\"GPU_Global\\\",\\n          \\\"debuginfo\\\": null\\n        }\\n      },\\n      \\\"B\\\": {\\n        \\\"type\\\": \\\"Array\\\",\\n        \\\"attributes\\\": {\\n          \\\"strides\\\": [\\n            \\\"1\\\"\\n          ],\\n          \\\"total_size\\\": \\\"10\\\",\\n          \\\"offset\\\": [\\n            \\\"0\\\"\\n          ],\\n          \\\"optional\\\": false,\\n          \\\"dtype\\\": \\\"uint32\\\",\\n          \\\"shape\\\": [\\n            \\\"10\\\"\\n          ],\\n          \\\"storage\\\": \\\"GPU_Global\\\",\\n          \\\"debuginfo\\\": null\\n        }\\n      },\\n      \\\"C\\\": {\\n        \\\"type\\\": \\\"Array\\\",\\n        \\\"attributes\\\": {\\n          \\\"strides\\\": [\\n            \\\"1\\\"\\n          ],\\n          \\\"total_size\\\": \\\"10\\\",\\n          \\\"offset\\\": [\\n            \\\"0\\\"\\n          ],\\n          \\\"optional\\\": false,\\n          \\\"dtype\\\": \\\"uint32\\\",\\n          \\\"shape\\\": [\\n            \\\"10\\\"\\n          ],\\n          \\\"storage\\\": \\\"GPU_Global\\\",\\n          \\\"debuginfo\\\": null\\n        }\\n      },\\n      \\\"D\\\": {\\n        \\\"type\\\": \\\"Array\\\",\\n        \\\"attributes\\\": {\\n          \\\"strides\\\": [\\n            \\\"1\\\"\\n          ],\\n          \\\"total_size\\\": \\\"10\\\",\\n          \\\"offset\\\": [\\n            \\\"0\\\"\\n          ],\\n          \\\"optional\\\": false,\\n          \\\"dtype\\\": \\\"uint32\\\",\\n          \\\"shape\\\": [\\n            \\\"10\\\"\\n          ],\\n          \\\"storage\\\": \\\"GPU_Global\\\",\\n          \\\"debuginfo\\\": null\\n        }\\n      }\\n    },\\n    \\\"global_code\\\": {\\n      \\\"frame\\\": {\\n        \\\"string_data\\\": \\\"\\\",\\n        \\\"language\\\": \\\"CPP\\\"\\n      }\\n    },\\n    \\\"init_code\\\": {\\n      \\\"frame\\\": {\\n        \\\"string_data\\\": \\\"\\\",\\n        \\\"language\\\": \\\"CPP\\\"\\n      }\\n    },\\n    \\\"exit_code\\\": {\\n      \\\"frame\\\": {\\n        \\\"string_data\\\": \\\"\\\",\\n        \\\"language\\\": \\\"CPP\\\"\\n      }\\n    },\\n    \\\"debuginfo\\\": {\\n      \\\"type\\\": \\\"DebugInfo\\\",\\n      \\\"start_line\\\": 1,\\n      \\\"end_line\\\": 12,\\n      \\\"start_column\\\": 0,\\n      \\\"end_column\\\": 0,\\n      \\\"filename\\\": \\\"/tmp/ipykernel_261448/1354861503.py\\\"\\n    },\\n    \\\"using_explicit_control_flow\\\": true,\\n    \\\"guid\\\": \\\"1d222e65-5a95-4610-9d80-e9cc157193c5\\\"\\n  },\\n  \\\"nodes\\\": [\\n    {\\n      \\\"type\\\": \\\"SDFGState\\\",\\n      \\\"label\\\": \\\"assign_8_4\\\",\\n      \\\"id\\\": 0,\\n      \\\"collapsed\\\": false,\\n      \\\"scope_dict\\\": {\\n        \\\"-1\\\": [\\n          0,\\n          1,\\n          2,\\n          4,\\n          5\\n        ],\\n        \\\"2\\\": [\\n          3,\\n          6\\n        ],\\n        \\\"6\\\": [\\n          7,\\n          8\\n        ]\\n      },\\n      \\\"nodes\\\": [\\n        {\\n          \\\"type\\\": \\\"AccessNode\\\",\\n          \\\"label\\\": \\\"A\\\",\\n          \\\"attributes\\\": {\\n            \\\"debuginfo\\\": {\\n              \\\"type\\\": \\\"DebugInfo\\\",\\n              \\\"start_line\\\": 8,\\n              \\\"end_line\\\": 8,\\n              \\\"start_column\\\": 11,\\n              \\\"end_column\\\": 11,\\n              \\\"filename\\\": \\\"/tmp/ipykernel_261448/1354861503.py\\\"\\n            },\\n            \\\"data\\\": \\\"A\\\",\\n            \\\"guid\\\": \\\"a074c778-1f77-490b-b4fc-d0710186abf6\\\"\\n          },\\n          \\\"id\\\": 0,\\n          \\\"scope_entry\\\": null,\\n          \\\"scope_exit\\\": null\\n        },\\n        {\\n          \\\"type\\\": \\\"AccessNode\\\",\\n          \\\"label\\\": \\\"B\\\",\\n          \\\"attributes\\\": {\\n            \\\"debuginfo\\\": {\\n              \\\"type\\\": \\\"DebugInfo\\\",\\n              \\\"start_line\\\": 1291,\\n              \\\"end_line\\\": 1291,\\n              \\\"start_column\\\": 0,\\n              \\\"end_column\\\": 0,\\n              \\\"filename\\\": \\\"/home/berkay/master-thesis/dace/dace/frontend/python/newast.py\\\"\\n            },\\n            \\\"data\\\": \\\"B\\\",\\n            \\\"guid\\\": \\\"257bfb1e-cf35-4db4-a8b0-63845e28bf9f\\\"\\n          },\\n          \\\"id\\\": 1,\\n          \\\"scope_entry\\\": null,\\n          \\\"scope_exit\\\": null\\n        },\\n        {\\n          \\\"type\\\": \\\"MapEntry\\\",\\n          \\\"label\\\": \\\"test3_10[i=0:3]\\\",\\n          \\\"attributes\\\": {\\n            \\\"label\\\": \\\"test3_10\\\",\\n            \\\"params\\\": [\\n              \\\"i\\\"\\n            ],\\n            \\\"range\\\": {\\n              \\\"type\\\": \\\"Range\\\",\\n              \\\"ranges\\\": [\\n                {\\n                  \\\"start\\\": \\\"0\\\",\\n                  \\\"end\\\": \\\"2\\\",\\n                  \\\"step\\\": \\\"1\\\",\\n                  \\\"tile\\\": \\\"1\\\"\\n                }\\n              ]\\n            },\\n            \\\"schedule\\\": \\\"Sequential\\\",\\n            \\\"debuginfo\\\": {\\n              \\\"type\\\": \\\"DebugInfo\\\",\\n              \\\"start_line\\\": 10,\\n              \\\"end_line\\\": 10,\\n              \\\"start_column\\\": 4,\\n              \\\"end_column\\\": 4,\\n              \\\"filename\\\": \\\"/tmp/ipykernel_261448/1354861503.py\\\"\\n            },\\n            \\\"in_connectors\\\": {\\n              \\\"IN_D\\\": null\\n            },\\n            \\\"out_connectors\\\": {\\n              \\\"OUT_D\\\": null\\n            },\\n            \\\"guid\\\": \\\"cc9c7492-39a3-4474-b7dc-b9a6370e4a53\\\"\\n          },\\n          \\\"id\\\": 2,\\n          \\\"scope_entry\\\": null,\\n          \\\"scope_exit\\\": \\\"3\\\"\\n        },\\n        {\\n          \\\"type\\\": \\\"MapExit\\\",\\n          \\\"label\\\": \\\"test3_10[i=0:3]\\\",\\n          \\\"attributes\\\": {\\n            \\\"in_connectors\\\": {\\n              \\\"IN_C\\\": null\\n            },\\n            \\\"out_connectors\\\": {\\n              \\\"OUT_C\\\": null\\n            },\\n            \\\"guid\\\": \\\"71be6c9e-4399-41d3-a5e2-5cc62985087c\\\"\\n          },\\n          \\\"id\\\": 3,\\n          \\\"scope_entry\\\": \\\"2\\\",\\n          \\\"scope_exit\\\": \\\"3\\\"\\n        },\\n        {\\n          \\\"type\\\": \\\"AccessNode\\\",\\n          \\\"label\\\": \\\"D\\\",\\n          \\\"attributes\\\": {\\n            \\\"debuginfo\\\": {\\n              \\\"type\\\": \\\"DebugInfo\\\",\\n              \\\"start_line\\\": 10,\\n              \\\"end_line\\\": 10,\\n              \\\"start_column\\\": 4,\\n              \\\"end_column\\\": 4,\\n              \\\"filename\\\": \\\"/tmp/ipykernel_261448/1354861503.py\\\"\\n            },\\n            \\\"data\\\": \\\"D\\\",\\n            \\\"guid\\\": \\\"8ede0475-0540-48fa-a960-e98ec6bc9d3f\\\"\\n          },\\n          \\\"id\\\": 4,\\n          \\\"scope_entry\\\": null,\\n          \\\"scope_exit\\\": null\\n        },\\n        {\\n          \\\"type\\\": \\\"AccessNode\\\",\\n          \\\"label\\\": \\\"C\\\",\\n          \\\"attributes\\\": {\\n            \\\"debuginfo\\\": {\\n              \\\"type\\\": \\\"DebugInfo\\\",\\n              \\\"start_line\\\": 10,\\n              \\\"end_line\\\": 10,\\n              \\\"start_column\\\": 4,\\n              \\\"end_column\\\": 4,\\n              \\\"filename\\\": \\\"/tmp/ipykernel_261448/1354861503.py\\\"\\n            },\\n            \\\"data\\\": \\\"C\\\",\\n            \\\"guid\\\": \\\"c5154f4d-57fa-4a6b-80ca-7ae95ed37a4f\\\"\\n          },\\n          \\\"id\\\": 5,\\n          \\\"scope_entry\\\": null,\\n          \\\"scope_exit\\\": null\\n        },\\n        {\\n          \\\"type\\\": \\\"MapEntry\\\",\\n          \\\"label\\\": \\\"test3_10_4_11[j=0:10]\\\",\\n          \\\"attributes\\\": {\\n            \\\"label\\\": \\\"test3_10_4_11\\\",\\n            \\\"params\\\": [\\n              \\\"j\\\"\\n            ],\\n            \\\"range\\\": {\\n              \\\"type\\\": \\\"Range\\\",\\n              \\\"ranges\\\": [\\n                {\\n                  \\\"start\\\": \\\"0\\\",\\n                  \\\"end\\\": \\\"9\\\",\\n                  \\\"step\\\": \\\"1\\\",\\n                  \\\"tile\\\": \\\"1\\\"\\n                }\\n              ]\\n            },\\n            \\\"schedule\\\": \\\"GPU_Device\\\",\\n            \\\"debuginfo\\\": {\\n              \\\"type\\\": \\\"DebugInfo\\\",\\n              \\\"start_line\\\": 11,\\n              \\\"end_line\\\": 11,\\n              \\\"start_column\\\": 8,\\n              \\\"end_column\\\": 8,\\n              \\\"filename\\\": \\\"/tmp/ipykernel_261448/1354861503.py\\\"\\n            },\\n            \\\"in_connectors\\\": {\\n              \\\"IN___tmp_12_19_r_in_from_1_0\\\": null\\n            },\\n            \\\"out_connectors\\\": {\\n              \\\"OUT___tmp_12_19_r_in_from_1_0\\\": null\\n            },\\n            \\\"guid\\\": \\\"a1844f8d-5ec9-4038-8bcc-15d99afed4b6\\\"\\n          },\\n          \\\"id\\\": 6,\\n          \\\"scope_entry\\\": \\\"2\\\",\\n          \\\"scope_exit\\\": \\\"7\\\"\\n        },\\n        {\\n          \\\"type\\\": \\\"MapExit\\\",\\n          \\\"label\\\": \\\"test3_10_4_11[j=0:10]\\\",\\n          \\\"attributes\\\": {\\n            \\\"in_connectors\\\": {\\n              \\\"IN___tmp_12_12_w_out_of_1_1\\\": null\\n            },\\n            \\\"out_connectors\\\": {\\n              \\\"OUT___tmp_12_12_w_out_of_1_1\\\": null\\n            },\\n            \\\"guid\\\": \\\"b69f1669-848d-4e38-88bc-dbffbf31f173\\\"\\n          },\\n          \\\"id\\\": 7,\\n          \\\"scope_entry\\\": \\\"6\\\",\\n          \\\"scope_exit\\\": \\\"7\\\"\\n        },\\n        {\\n          \\\"type\\\": \\\"Tasklet\\\",\\n          \\\"label\\\": \\\"assign_12_12\\\",\\n          \\\"attributes\\\": {\\n            \\\"code\\\": {\\n              \\\"string_data\\\": \\\"__out = __inp\\\",\\n              \\\"language\\\": \\\"Python\\\"\\n            },\\n            \\\"debuginfo\\\": {\\n              \\\"type\\\": \\\"DebugInfo\\\",\\n              \\\"start_line\\\": 12,\\n              \\\"end_line\\\": 12,\\n              \\\"start_column\\\": 14,\\n              \\\"end_column\\\": 14,\\n              \\\"filename\\\": \\\"/tmp/ipykernel_261448/1354861503.py\\\"\\n            },\\n            \\\"label\\\": \\\"assign_12_12\\\",\\n            \\\"in_connectors\\\": {\\n              \\\"__inp\\\": null\\n            },\\n            \\\"out_connectors\\\": {\\n              \\\"__out\\\": null\\n            },\\n            \\\"guid\\\": \\\"253d6c95-d926-4aab-90f5-4d54eeec6718\\\"\\n          },\\n          \\\"id\\\": 8,\\n          \\\"scope_entry\\\": \\\"6\\\",\\n          \\\"scope_exit\\\": \\\"7\\\"\\n        }\\n      ],\\n      \\\"edges\\\": [\\n        {\\n          \\\"type\\\": \\\"MultiConnectorEdge\\\",\\n          \\\"attributes\\\": {\\n            \\\"data\\\": {\\n              \\\"type\\\": \\\"Memlet\\\",\\n              \\\"attributes\\\": {\\n                \\\"volume\\\": \\\"10\\\",\\n                \\\"subset\\\": {\\n                  \\\"type\\\": \\\"Range\\\",\\n                  \\\"ranges\\\": [\\n                    {\\n                      \\\"start\\\": \\\"0\\\",\\n                      \\\"end\\\": \\\"9\\\",\\n                      \\\"step\\\": \\\"1\\\",\\n                      \\\"tile\\\": \\\"1\\\"\\n                    }\\n                  ]\\n                },\\n                \\\"other_subset\\\": {\\n                  \\\"type\\\": \\\"Range\\\",\\n                  \\\"ranges\\\": [\\n                    {\\n                      \\\"start\\\": \\\"0\\\",\\n                      \\\"end\\\": \\\"9\\\",\\n                      \\\"step\\\": \\\"1\\\",\\n                      \\\"tile\\\": \\\"1\\\"\\n                    }\\n                  ]\\n                },\\n                \\\"data\\\": \\\"A\\\",\\n                \\\"debuginfo\\\": null,\\n                \\\"guid\\\": \\\"c4f33220-fee9-43f7-b597-b6e2ad428364\\\",\\n                \\\"src_subset\\\": {\\n                  \\\"type\\\": \\\"Range\\\",\\n                  \\\"ranges\\\": [\\n                    {\\n                      \\\"start\\\": \\\"0\\\",\\n                      \\\"end\\\": \\\"9\\\",\\n                      \\\"step\\\": \\\"1\\\",\\n                      \\\"tile\\\": \\\"1\\\"\\n                    }\\n                  ]\\n                },\\n                \\\"dst_subset\\\": {\\n                  \\\"type\\\": \\\"Range\\\",\\n                  \\\"ranges\\\": [\\n                    {\\n                      \\\"start\\\": \\\"0\\\",\\n                      \\\"end\\\": \\\"9\\\",\\n                      \\\"step\\\": \\\"1\\\",\\n                      \\\"tile\\\": \\\"1\\\"\\n                    }\\n                  ]\\n                },\\n                \\\"is_data_src\\\": false,\\n                \\\"num_accesses\\\": \\\"10\\\"\\n              }\\n            }\\n          },\\n          \\\"src\\\": \\\"1\\\",\\n          \\\"dst\\\": \\\"0\\\",\\n          \\\"dst_connector\\\": null,\\n          \\\"src_connector\\\": null\\n        },\\n        {\\n          \\\"type\\\": \\\"MultiConnectorEdge\\\",\\n          \\\"attributes\\\": {\\n            \\\"data\\\": {\\n              \\\"type\\\": \\\"Memlet\\\",\\n              \\\"attributes\\\": {\\n                \\\"volume\\\": \\\"30\\\",\\n                \\\"subset\\\": {\\n                  \\\"type\\\": \\\"Range\\\",\\n                  \\\"ranges\\\": [\\n                    {\\n                      \\\"start\\\": \\\"0\\\",\\n                      \\\"end\\\": \\\"9\\\",\\n                      \\\"step\\\": \\\"1\\\",\\n                      \\\"tile\\\": \\\"1\\\"\\n                    }\\n                  ]\\n                },\\n                \\\"data\\\": \\\"D\\\",\\n                \\\"debuginfo\\\": null,\\n                \\\"guid\\\": \\\"7d4bbd0f-f1c8-41b5-9ae8-91edb214f001\\\",\\n                \\\"src_subset\\\": {\\n                  \\\"type\\\": \\\"Range\\\",\\n                  \\\"ranges\\\": [\\n                    {\\n                      \\\"start\\\": \\\"0\\\",\\n                      \\\"end\\\": \\\"9\\\",\\n                      \\\"step\\\": \\\"1\\\",\\n                      \\\"tile\\\": \\\"1\\\"\\n                    }\\n                  ]\\n                },\\n                \\\"dst_subset\\\": null,\\n                \\\"is_data_src\\\": true,\\n                \\\"num_accesses\\\": \\\"30\\\"\\n              }\\n            }\\n          },\\n          \\\"src\\\": \\\"4\\\",\\n          \\\"dst\\\": \\\"2\\\",\\n          \\\"dst_connector\\\": \\\"IN_D\\\",\\n          \\\"src_connector\\\": null\\n        },\\n        {\\n          \\\"type\\\": \\\"MultiConnectorEdge\\\",\\n          \\\"attributes\\\": {\\n            \\\"data\\\": {\\n              \\\"type\\\": \\\"Memlet\\\",\\n              \\\"attributes\\\": {\\n                \\\"volume\\\": \\\"30\\\",\\n                \\\"subset\\\": {\\n                  \\\"type\\\": \\\"Range\\\",\\n                  \\\"ranges\\\": [\\n                    {\\n                      \\\"start\\\": \\\"0\\\",\\n                      \\\"end\\\": \\\"9\\\",\\n                      \\\"step\\\": \\\"1\\\",\\n                      \\\"tile\\\": \\\"1\\\"\\n                    }\\n                  ]\\n                },\\n                \\\"data\\\": \\\"C\\\",\\n                \\\"debuginfo\\\": null,\\n                \\\"guid\\\": \\\"0aaa3018-d1b9-439e-a9e4-642c45e3dd25\\\",\\n                \\\"src_subset\\\": null,\\n                \\\"dst_subset\\\": {\\n                  \\\"type\\\": \\\"Range\\\",\\n                  \\\"ranges\\\": [\\n                    {\\n                      \\\"start\\\": \\\"0\\\",\\n                      \\\"end\\\": \\\"9\\\",\\n                      \\\"step\\\": \\\"1\\\",\\n                      \\\"tile\\\": \\\"1\\\"\\n                    }\\n                  ]\\n                },\\n                \\\"is_data_src\\\": false,\\n                \\\"num_accesses\\\": \\\"30\\\"\\n              }\\n            }\\n          },\\n          \\\"src\\\": \\\"3\\\",\\n          \\\"dst\\\": \\\"5\\\",\\n          \\\"dst_connector\\\": null,\\n          \\\"src_connector\\\": \\\"OUT_C\\\"\\n        },\\n        {\\n          \\\"type\\\": \\\"MultiConnectorEdge\\\",\\n          \\\"attributes\\\": {\\n            \\\"data\\\": {\\n              \\\"type\\\": \\\"Memlet\\\",\\n              \\\"attributes\\\": {\\n                \\\"volume\\\": \\\"10\\\",\\n                \\\"subset\\\": {\\n                  \\\"type\\\": \\\"Range\\\",\\n                  \\\"ranges\\\": [\\n                    {\\n                      \\\"start\\\": \\\"0\\\",\\n                      \\\"end\\\": \\\"9\\\",\\n                      \\\"step\\\": \\\"1\\\",\\n                      \\\"tile\\\": \\\"1\\\"\\n                    }\\n                  ]\\n                },\\n                \\\"data\\\": \\\"D\\\",\\n                \\\"debuginfo\\\": null,\\n                \\\"guid\\\": \\\"c541808f-d1c0-445d-acbd-a8f6c187c77d\\\",\\n                \\\"src_subset\\\": {\\n                  \\\"type\\\": \\\"Range\\\",\\n                  \\\"ranges\\\": [\\n                    {\\n                      \\\"start\\\": \\\"0\\\",\\n                      \\\"end\\\": \\\"9\\\",\\n                      \\\"step\\\": \\\"1\\\",\\n                      \\\"tile\\\": \\\"1\\\"\\n                    }\\n                  ]\\n                },\\n                \\\"dst_subset\\\": null,\\n                \\\"is_data_src\\\": true,\\n                \\\"num_accesses\\\": \\\"10\\\"\\n              }\\n            }\\n          },\\n          \\\"src\\\": \\\"2\\\",\\n          \\\"dst\\\": \\\"6\\\",\\n          \\\"dst_connector\\\": \\\"IN___tmp_12_19_r_in_from_1_0\\\",\\n          \\\"src_connector\\\": \\\"OUT_D\\\"\\n        },\\n        {\\n          \\\"type\\\": \\\"MultiConnectorEdge\\\",\\n          \\\"attributes\\\": {\\n            \\\"data\\\": {\\n              \\\"type\\\": \\\"Memlet\\\",\\n              \\\"attributes\\\": {\\n                \\\"volume\\\": \\\"10\\\",\\n                \\\"subset\\\": {\\n                  \\\"type\\\": \\\"Range\\\",\\n                  \\\"ranges\\\": [\\n                    {\\n                      \\\"start\\\": \\\"0\\\",\\n                      \\\"end\\\": \\\"9\\\",\\n                      \\\"step\\\": \\\"1\\\",\\n                      \\\"tile\\\": \\\"1\\\"\\n                    }\\n                  ]\\n                },\\n                \\\"data\\\": \\\"C\\\",\\n                \\\"debuginfo\\\": null,\\n                \\\"guid\\\": \\\"21f5c1aa-3bcb-4399-9640-f48134cadaa1\\\",\\n                \\\"src_subset\\\": null,\\n                \\\"dst_subset\\\": {\\n                  \\\"type\\\": \\\"Range\\\",\\n                  \\\"ranges\\\": [\\n                    {\\n                      \\\"start\\\": \\\"0\\\",\\n                      \\\"end\\\": \\\"9\\\",\\n                      \\\"step\\\": \\\"1\\\",\\n                      \\\"tile\\\": \\\"1\\\"\\n                    }\\n                  ]\\n                },\\n                \\\"is_data_src\\\": false,\\n                \\\"num_accesses\\\": \\\"10\\\"\\n              }\\n            }\\n          },\\n          \\\"src\\\": \\\"7\\\",\\n          \\\"dst\\\": \\\"3\\\",\\n          \\\"dst_connector\\\": \\\"IN_C\\\",\\n          \\\"src_connector\\\": \\\"OUT___tmp_12_12_w_out_of_1_1\\\"\\n        },\\n        {\\n          \\\"type\\\": \\\"MultiConnectorEdge\\\",\\n          \\\"attributes\\\": {\\n            \\\"data\\\": {\\n              \\\"type\\\": \\\"Memlet\\\",\\n              \\\"attributes\\\": {\\n                \\\"volume\\\": \\\"1\\\",\\n                \\\"subset\\\": {\\n                  \\\"type\\\": \\\"Range\\\",\\n                  \\\"ranges\\\": [\\n                    {\\n                      \\\"start\\\": \\\"j\\\",\\n                      \\\"end\\\": \\\"j\\\",\\n                      \\\"step\\\": \\\"1\\\",\\n                      \\\"tile\\\": \\\"1\\\"\\n                    }\\n                  ]\\n                },\\n                \\\"data\\\": \\\"D\\\",\\n                \\\"debuginfo\\\": null,\\n                \\\"guid\\\": \\\"4b59762f-13e1-4d47-9379-6424d8c48130\\\",\\n                \\\"src_subset\\\": {\\n                  \\\"type\\\": \\\"Range\\\",\\n                  \\\"ranges\\\": [\\n                    {\\n                      \\\"start\\\": \\\"j\\\",\\n                      \\\"end\\\": \\\"j\\\",\\n                      \\\"step\\\": \\\"1\\\",\\n                      \\\"tile\\\": \\\"1\\\"\\n                    }\\n                  ]\\n                },\\n                \\\"dst_subset\\\": null,\\n                \\\"is_data_src\\\": true,\\n                \\\"num_accesses\\\": \\\"1\\\"\\n              }\\n            }\\n          },\\n          \\\"src\\\": \\\"6\\\",\\n          \\\"dst\\\": \\\"8\\\",\\n          \\\"dst_connector\\\": \\\"__inp\\\",\\n          \\\"src_connector\\\": \\\"OUT___tmp_12_19_r_in_from_1_0\\\"\\n        },\\n        {\\n          \\\"type\\\": \\\"MultiConnectorEdge\\\",\\n          \\\"attributes\\\": {\\n            \\\"data\\\": {\\n              \\\"type\\\": \\\"Memlet\\\",\\n              \\\"attributes\\\": {\\n                \\\"volume\\\": \\\"1\\\",\\n                \\\"subset\\\": {\\n                  \\\"type\\\": \\\"Range\\\",\\n                  \\\"ranges\\\": [\\n                    {\\n                      \\\"start\\\": \\\"j\\\",\\n                      \\\"end\\\": \\\"j\\\",\\n                      \\\"step\\\": \\\"1\\\",\\n                      \\\"tile\\\": \\\"1\\\"\\n                    }\\n                  ]\\n                },\\n                \\\"data\\\": \\\"C\\\",\\n                \\\"debuginfo\\\": null,\\n                \\\"guid\\\": \\\"4efe77f4-c8a3-4847-83de-66cc2d5ca90b\\\",\\n                \\\"src_subset\\\": null,\\n                \\\"dst_subset\\\": {\\n                  \\\"type\\\": \\\"Range\\\",\\n                  \\\"ranges\\\": [\\n                    {\\n                      \\\"start\\\": \\\"j\\\",\\n                      \\\"end\\\": \\\"j\\\",\\n                      \\\"step\\\": \\\"1\\\",\\n                      \\\"tile\\\": \\\"1\\\"\\n                    }\\n                  ]\\n                },\\n                \\\"is_data_src\\\": false,\\n                \\\"num_accesses\\\": \\\"1\\\"\\n              }\\n            }\\n          },\\n          \\\"src\\\": \\\"8\\\",\\n          \\\"dst\\\": \\\"7\\\",\\n          \\\"dst_connector\\\": \\\"IN___tmp_12_12_w_out_of_1_1\\\",\\n          \\\"src_connector\\\": \\\"__out\\\"\\n        }\\n      ],\\n      \\\"attributes\\\": {\\n        \\\"guid\\\": \\\"17831168-c9cc-460d-bcb7-25b1dd1f4b24\\\",\\n        \\\"executions\\\": \\\"1\\\",\\n        \\\"dynamic_executions\\\": false\\n      }\\n    }\\n  ],\\n  \\\"edges\\\": [],\\n  \\\"collapsed\\\": false,\\n  \\\"label\\\": \\\"\\\",\\n  \\\"id\\\": null,\\n  \\\"cfg_list_id\\\": 0,\\n  \\\"start_block\\\": 0,\\n  \\\"dace_version\\\": \\\"1.0.0\\\"\\n}\";\n",
       "</script>\n",
       "<script>\n",
       "    new SDFGRenderer(\n",
       "        checkCompatLoad(parse_sdfg(sdfg_4303528818467801028)),\n",
       "        document.getElementById(\"contents_4303528818467801028\"),\n",
       "        undefined, null, null, false, null, null\n",
       "    );\n",
       "</script>"
      ],
      "text/plain": [
       "SDFG (test3)"
      ]
     },
     "execution_count": 5,
     "metadata": {},
     "output_type": "execute_result"
    }
   ],
   "source": [
    "# Choose\n",
    "# sdfg = test1.to_sdfg()\n",
    "# sdfg = test2.to_sdfg()\n",
    "sdfg = test3.to_sdfg()\n",
    "sdfg"
   ]
  },
  {
   "cell_type": "markdown",
   "id": "16c0f318",
   "metadata": {},
   "source": [
    "Now we apply the pass to see the change:"
   ]
  },
  {
   "cell_type": "code",
   "execution_count": 6,
   "id": "c9152955",
   "metadata": {},
   "outputs": [],
   "source": [
    "# import the pass\n",
    "from dace.transformation.passes.gpustream_scheduling import NaiveGPUStreamScheduler\n",
    "\n",
    "# Define backend stream access expression, which is used as below. \n",
    "# (I do this explicitly such that any change in the access expression can be detected easier in future)\n",
    "gpu_stream_access_template = \"__state->gpu_context->streams[{gpu_stream}]\"  \n",
    "\n",
    "# Initialize and configure GPU stream scheduling pass\n",
    "gpu_stream_pass = NaiveGPUStreamScheduler()\n",
    "gpu_stream_pass.set_gpu_stream_access_template(gpu_stream_access_template)\n",
    "assigned_streams = gpu_stream_pass.apply_pass(sdfg, None)\n"
   ]
  },
  {
   "cell_type": "markdown",
   "id": "415675f7",
   "metadata": {},
   "source": [
    "Look at which nodes get assigned to which streams - as expected, right?"
   ]
  },
  {
   "cell_type": "code",
   "execution_count": 7,
   "id": "964ac157",
   "metadata": {},
   "outputs": [
    {
     "data": {
      "text/plain": [
       "{AccessNode (B): 0,\n",
       " AccessNode (A): 0,\n",
       " AccessNode (D): 1,\n",
       " MapEntry (test3_10[i=0:3]): 1,\n",
       " MapEntry (test3_10_4_11[j=0:10]): 1,\n",
       " Tasklet (assign_12_12): 1,\n",
       " MapExit (test3_10_4_11[j=0:10]): 1,\n",
       " MapExit (test3_10[i=0:3]): 1,\n",
       " AccessNode (C): 1}"
      ]
     },
     "execution_count": 7,
     "metadata": {},
     "output_type": "execute_result"
    }
   ],
   "source": [
    "assigned_streams"
   ]
  },
  {
   "cell_type": "markdown",
   "id": "69b5a1c0",
   "metadata": {},
   "source": [
    "Look at the extended sdfg, now the synchronization is explicit and not the job of the codegen to figure out and implement."
   ]
  },
  {
   "cell_type": "code",
   "execution_count": 8,
   "id": "f0cbcd1f",
   "metadata": {},
   "outputs": [
    {
     "data": {
      "text/html": [
       "\n",
       "<div class=\"sdfv\">\n",
       "<div id=\"contents_6908922308180090928\" style=\"position: relative; resize: vertical; overflow: auto\"></div>\n",
       "</div>\n",
       "<script>\n",
       "    var sdfg_6908922308180090928 = \"{\\n  \\\"type\\\": \\\"SDFG\\\",\\n  \\\"attributes\\\": {\\n    \\\"name\\\": \\\"test3\\\",\\n    \\\"arg_names\\\": [\\n      \\\"A\\\",\\n      \\\"B\\\",\\n      \\\"C\\\",\\n      \\\"D\\\"\\n    ],\\n    \\\"_arrays\\\": {\\n      \\\"A\\\": {\\n        \\\"type\\\": \\\"Array\\\",\\n        \\\"attributes\\\": {\\n          \\\"strides\\\": [\\n            \\\"1\\\"\\n          ],\\n          \\\"total_size\\\": \\\"10\\\",\\n          \\\"offset\\\": [\\n            \\\"0\\\"\\n          ],\\n          \\\"optional\\\": false,\\n          \\\"dtype\\\": \\\"uint32\\\",\\n          \\\"shape\\\": [\\n            \\\"10\\\"\\n          ],\\n          \\\"storage\\\": \\\"GPU_Global\\\",\\n          \\\"debuginfo\\\": null\\n        }\\n      },\\n      \\\"B\\\": {\\n        \\\"type\\\": \\\"Array\\\",\\n        \\\"attributes\\\": {\\n          \\\"strides\\\": [\\n            \\\"1\\\"\\n          ],\\n          \\\"total_size\\\": \\\"10\\\",\\n          \\\"offset\\\": [\\n            \\\"0\\\"\\n          ],\\n          \\\"optional\\\": false,\\n          \\\"dtype\\\": \\\"uint32\\\",\\n          \\\"shape\\\": [\\n            \\\"10\\\"\\n          ],\\n          \\\"storage\\\": \\\"GPU_Global\\\",\\n          \\\"debuginfo\\\": null\\n        }\\n      },\\n      \\\"C\\\": {\\n        \\\"type\\\": \\\"Array\\\",\\n        \\\"attributes\\\": {\\n          \\\"strides\\\": [\\n            \\\"1\\\"\\n          ],\\n          \\\"total_size\\\": \\\"10\\\",\\n          \\\"offset\\\": [\\n            \\\"0\\\"\\n          ],\\n          \\\"optional\\\": false,\\n          \\\"dtype\\\": \\\"uint32\\\",\\n          \\\"shape\\\": [\\n            \\\"10\\\"\\n          ],\\n          \\\"storage\\\": \\\"GPU_Global\\\",\\n          \\\"debuginfo\\\": null\\n        }\\n      },\\n      \\\"D\\\": {\\n        \\\"type\\\": \\\"Array\\\",\\n        \\\"attributes\\\": {\\n          \\\"strides\\\": [\\n            \\\"1\\\"\\n          ],\\n          \\\"total_size\\\": \\\"10\\\",\\n          \\\"offset\\\": [\\n            \\\"0\\\"\\n          ],\\n          \\\"optional\\\": false,\\n          \\\"dtype\\\": \\\"uint32\\\",\\n          \\\"shape\\\": [\\n            \\\"10\\\"\\n          ],\\n          \\\"storage\\\": \\\"GPU_Global\\\",\\n          \\\"debuginfo\\\": null\\n        }\\n      }\\n    },\\n    \\\"global_code\\\": {\\n      \\\"frame\\\": {\\n        \\\"string_data\\\": \\\"\\\",\\n        \\\"language\\\": \\\"CPP\\\"\\n      }\\n    },\\n    \\\"init_code\\\": {\\n      \\\"frame\\\": {\\n        \\\"string_data\\\": \\\"\\\",\\n        \\\"language\\\": \\\"CPP\\\"\\n      }\\n    },\\n    \\\"exit_code\\\": {\\n      \\\"frame\\\": {\\n        \\\"string_data\\\": \\\"\\\",\\n        \\\"language\\\": \\\"CPP\\\"\\n      }\\n    },\\n    \\\"debuginfo\\\": {\\n      \\\"type\\\": \\\"DebugInfo\\\",\\n      \\\"start_line\\\": 1,\\n      \\\"end_line\\\": 12,\\n      \\\"start_column\\\": 0,\\n      \\\"end_column\\\": 0,\\n      \\\"filename\\\": \\\"/tmp/ipykernel_261448/1354861503.py\\\"\\n    },\\n    \\\"using_explicit_control_flow\\\": true,\\n    \\\"guid\\\": \\\"1d222e65-5a95-4610-9d80-e9cc157193c5\\\"\\n  },\\n  \\\"nodes\\\": [\\n    {\\n      \\\"type\\\": \\\"SDFGState\\\",\\n      \\\"label\\\": \\\"assign_8_4\\\",\\n      \\\"id\\\": 0,\\n      \\\"collapsed\\\": false,\\n      \\\"scope_dict\\\": {\\n        \\\"-1\\\": [\\n          0,\\n          1,\\n          2,\\n          4,\\n          5,\\n          9,\\n          10\\n        ],\\n        \\\"2\\\": [\\n          3,\\n          6\\n        ],\\n        \\\"6\\\": [\\n          7,\\n          8\\n        ]\\n      },\\n      \\\"nodes\\\": [\\n        {\\n          \\\"type\\\": \\\"AccessNode\\\",\\n          \\\"label\\\": \\\"A\\\",\\n          \\\"attributes\\\": {\\n            \\\"debuginfo\\\": {\\n              \\\"type\\\": \\\"DebugInfo\\\",\\n              \\\"start_line\\\": 8,\\n              \\\"end_line\\\": 8,\\n              \\\"start_column\\\": 11,\\n              \\\"end_column\\\": 11,\\n              \\\"filename\\\": \\\"/tmp/ipykernel_261448/1354861503.py\\\"\\n            },\\n            \\\"data\\\": \\\"A\\\",\\n            \\\"guid\\\": \\\"a074c778-1f77-490b-b4fc-d0710186abf6\\\"\\n          },\\n          \\\"id\\\": 0,\\n          \\\"scope_entry\\\": null,\\n          \\\"scope_exit\\\": null\\n        },\\n        {\\n          \\\"type\\\": \\\"AccessNode\\\",\\n          \\\"label\\\": \\\"B\\\",\\n          \\\"attributes\\\": {\\n            \\\"debuginfo\\\": {\\n              \\\"type\\\": \\\"DebugInfo\\\",\\n              \\\"start_line\\\": 1291,\\n              \\\"end_line\\\": 1291,\\n              \\\"start_column\\\": 0,\\n              \\\"end_column\\\": 0,\\n              \\\"filename\\\": \\\"/home/berkay/master-thesis/dace/dace/frontend/python/newast.py\\\"\\n            },\\n            \\\"data\\\": \\\"B\\\",\\n            \\\"guid\\\": \\\"257bfb1e-cf35-4db4-a8b0-63845e28bf9f\\\"\\n          },\\n          \\\"id\\\": 1,\\n          \\\"scope_entry\\\": null,\\n          \\\"scope_exit\\\": null\\n        },\\n        {\\n          \\\"type\\\": \\\"MapEntry\\\",\\n          \\\"label\\\": \\\"test3_10[i=0:3]\\\",\\n          \\\"attributes\\\": {\\n            \\\"label\\\": \\\"test3_10\\\",\\n            \\\"params\\\": [\\n              \\\"i\\\"\\n            ],\\n            \\\"range\\\": {\\n              \\\"type\\\": \\\"Range\\\",\\n              \\\"ranges\\\": [\\n                {\\n                  \\\"start\\\": \\\"0\\\",\\n                  \\\"end\\\": \\\"2\\\",\\n                  \\\"step\\\": \\\"1\\\",\\n                  \\\"tile\\\": \\\"1\\\"\\n                }\\n              ]\\n            },\\n            \\\"schedule\\\": \\\"Sequential\\\",\\n            \\\"debuginfo\\\": {\\n              \\\"type\\\": \\\"DebugInfo\\\",\\n              \\\"start_line\\\": 10,\\n              \\\"end_line\\\": 10,\\n              \\\"start_column\\\": 4,\\n              \\\"end_column\\\": 4,\\n              \\\"filename\\\": \\\"/tmp/ipykernel_261448/1354861503.py\\\"\\n            },\\n            \\\"in_connectors\\\": {\\n              \\\"IN_D\\\": null\\n            },\\n            \\\"out_connectors\\\": {\\n              \\\"OUT_D\\\": null\\n            },\\n            \\\"guid\\\": \\\"cc9c7492-39a3-4474-b7dc-b9a6370e4a53\\\"\\n          },\\n          \\\"id\\\": 2,\\n          \\\"scope_entry\\\": null,\\n          \\\"scope_exit\\\": \\\"3\\\"\\n        },\\n        {\\n          \\\"type\\\": \\\"MapExit\\\",\\n          \\\"label\\\": \\\"test3_10[i=0:3]\\\",\\n          \\\"attributes\\\": {\\n            \\\"in_connectors\\\": {\\n              \\\"IN_C\\\": null\\n            },\\n            \\\"out_connectors\\\": {\\n              \\\"OUT_C\\\": null\\n            },\\n            \\\"guid\\\": \\\"71be6c9e-4399-41d3-a5e2-5cc62985087c\\\"\\n          },\\n          \\\"id\\\": 3,\\n          \\\"scope_entry\\\": \\\"2\\\",\\n          \\\"scope_exit\\\": \\\"3\\\"\\n        },\\n        {\\n          \\\"type\\\": \\\"AccessNode\\\",\\n          \\\"label\\\": \\\"D\\\",\\n          \\\"attributes\\\": {\\n            \\\"debuginfo\\\": {\\n              \\\"type\\\": \\\"DebugInfo\\\",\\n              \\\"start_line\\\": 10,\\n              \\\"end_line\\\": 10,\\n              \\\"start_column\\\": 4,\\n              \\\"end_column\\\": 4,\\n              \\\"filename\\\": \\\"/tmp/ipykernel_261448/1354861503.py\\\"\\n            },\\n            \\\"data\\\": \\\"D\\\",\\n            \\\"guid\\\": \\\"8ede0475-0540-48fa-a960-e98ec6bc9d3f\\\"\\n          },\\n          \\\"id\\\": 4,\\n          \\\"scope_entry\\\": null,\\n          \\\"scope_exit\\\": null\\n        },\\n        {\\n          \\\"type\\\": \\\"AccessNode\\\",\\n          \\\"label\\\": \\\"C\\\",\\n          \\\"attributes\\\": {\\n            \\\"debuginfo\\\": {\\n              \\\"type\\\": \\\"DebugInfo\\\",\\n              \\\"start_line\\\": 10,\\n              \\\"end_line\\\": 10,\\n              \\\"start_column\\\": 4,\\n              \\\"end_column\\\": 4,\\n              \\\"filename\\\": \\\"/tmp/ipykernel_261448/1354861503.py\\\"\\n            },\\n            \\\"data\\\": \\\"C\\\",\\n            \\\"guid\\\": \\\"c5154f4d-57fa-4a6b-80ca-7ae95ed37a4f\\\"\\n          },\\n          \\\"id\\\": 5,\\n          \\\"scope_entry\\\": null,\\n          \\\"scope_exit\\\": null\\n        },\\n        {\\n          \\\"type\\\": \\\"MapEntry\\\",\\n          \\\"label\\\": \\\"test3_10_4_11[j=0:10]\\\",\\n          \\\"attributes\\\": {\\n            \\\"label\\\": \\\"test3_10_4_11\\\",\\n            \\\"params\\\": [\\n              \\\"j\\\"\\n            ],\\n            \\\"range\\\": {\\n              \\\"type\\\": \\\"Range\\\",\\n              \\\"ranges\\\": [\\n                {\\n                  \\\"start\\\": \\\"0\\\",\\n                  \\\"end\\\": \\\"9\\\",\\n                  \\\"step\\\": \\\"1\\\",\\n                  \\\"tile\\\": \\\"1\\\"\\n                }\\n              ]\\n            },\\n            \\\"schedule\\\": \\\"GPU_Device\\\",\\n            \\\"debuginfo\\\": {\\n              \\\"type\\\": \\\"DebugInfo\\\",\\n              \\\"start_line\\\": 11,\\n              \\\"end_line\\\": 11,\\n              \\\"start_column\\\": 8,\\n              \\\"end_column\\\": 8,\\n              \\\"filename\\\": \\\"/tmp/ipykernel_261448/1354861503.py\\\"\\n            },\\n            \\\"in_connectors\\\": {\\n              \\\"IN___tmp_12_19_r_in_from_1_0\\\": null\\n            },\\n            \\\"out_connectors\\\": {\\n              \\\"OUT___tmp_12_19_r_in_from_1_0\\\": null\\n            },\\n            \\\"guid\\\": \\\"a1844f8d-5ec9-4038-8bcc-15d99afed4b6\\\"\\n          },\\n          \\\"id\\\": 6,\\n          \\\"scope_entry\\\": \\\"2\\\",\\n          \\\"scope_exit\\\": \\\"7\\\"\\n        },\\n        {\\n          \\\"type\\\": \\\"MapExit\\\",\\n          \\\"label\\\": \\\"test3_10_4_11[j=0:10]\\\",\\n          \\\"attributes\\\": {\\n            \\\"in_connectors\\\": {\\n              \\\"IN___tmp_12_12_w_out_of_1_1\\\": null\\n            },\\n            \\\"out_connectors\\\": {\\n              \\\"OUT___tmp_12_12_w_out_of_1_1\\\": null\\n            },\\n            \\\"guid\\\": \\\"b69f1669-848d-4e38-88bc-dbffbf31f173\\\"\\n          },\\n          \\\"id\\\": 7,\\n          \\\"scope_entry\\\": \\\"6\\\",\\n          \\\"scope_exit\\\": \\\"7\\\"\\n        },\\n        {\\n          \\\"type\\\": \\\"Tasklet\\\",\\n          \\\"label\\\": \\\"assign_12_12\\\",\\n          \\\"attributes\\\": {\\n            \\\"code\\\": {\\n              \\\"string_data\\\": \\\"__out = __inp\\\",\\n              \\\"language\\\": \\\"Python\\\"\\n            },\\n            \\\"debuginfo\\\": {\\n              \\\"type\\\": \\\"DebugInfo\\\",\\n              \\\"start_line\\\": 12,\\n              \\\"end_line\\\": 12,\\n              \\\"start_column\\\": 14,\\n              \\\"end_column\\\": 14,\\n              \\\"filename\\\": \\\"/tmp/ipykernel_261448/1354861503.py\\\"\\n            },\\n            \\\"label\\\": \\\"assign_12_12\\\",\\n            \\\"in_connectors\\\": {\\n              \\\"__inp\\\": null\\n            },\\n            \\\"out_connectors\\\": {\\n              \\\"__out\\\": null\\n            },\\n            \\\"guid\\\": \\\"253d6c95-d926-4aab-90f5-4d54eeec6718\\\"\\n          },\\n          \\\"id\\\": 8,\\n          \\\"scope_entry\\\": \\\"6\\\",\\n          \\\"scope_exit\\\": \\\"7\\\"\\n        },\\n        {\\n          \\\"type\\\": \\\"Tasklet\\\",\\n          \\\"label\\\": \\\"sync_0\\\",\\n          \\\"attributes\\\": {\\n            \\\"code\\\": {\\n              \\\"string_data\\\": \\\"DACE_GPU_CHECK(cudaStreamSynchronize(__state->gpu_context->streams[0]));\\\\n\\\",\\n              \\\"language\\\": \\\"CPP\\\"\\n            },\\n            \\\"debuginfo\\\": {\\n              \\\"type\\\": \\\"DebugInfo\\\",\\n              \\\"start_line\\\": 197,\\n              \\\"end_line\\\": 197,\\n              \\\"start_column\\\": 0,\\n              \\\"end_column\\\": 0,\\n              \\\"filename\\\": \\\"/home/berkay/master-thesis/dace/dace/transformation/passes/gpustream_scheduling.py\\\"\\n            },\\n            \\\"label\\\": \\\"sync_0\\\",\\n            \\\"guid\\\": \\\"f23b539c-b370-45ae-a31b-0a928fa1391f\\\"\\n          },\\n          \\\"id\\\": 9,\\n          \\\"scope_entry\\\": null,\\n          \\\"scope_exit\\\": null\\n        },\\n        {\\n          \\\"type\\\": \\\"Tasklet\\\",\\n          \\\"label\\\": \\\"sync_1\\\",\\n          \\\"attributes\\\": {\\n            \\\"code\\\": {\\n              \\\"string_data\\\": \\\"DACE_GPU_CHECK(cudaStreamSynchronize(__state->gpu_context->streams[1]));\\\\n\\\",\\n              \\\"language\\\": \\\"CPP\\\"\\n            },\\n            \\\"debuginfo\\\": {\\n              \\\"type\\\": \\\"DebugInfo\\\",\\n              \\\"start_line\\\": 197,\\n              \\\"end_line\\\": 197,\\n              \\\"start_column\\\": 0,\\n              \\\"end_column\\\": 0,\\n              \\\"filename\\\": \\\"/home/berkay/master-thesis/dace/dace/transformation/passes/gpustream_scheduling.py\\\"\\n            },\\n            \\\"label\\\": \\\"sync_1\\\",\\n            \\\"guid\\\": \\\"8c47b020-485b-42ff-9f90-cbeb26576ec1\\\"\\n          },\\n          \\\"id\\\": 10,\\n          \\\"scope_entry\\\": null,\\n          \\\"scope_exit\\\": null\\n        }\\n      ],\\n      \\\"edges\\\": [\\n        {\\n          \\\"type\\\": \\\"MultiConnectorEdge\\\",\\n          \\\"attributes\\\": {\\n            \\\"data\\\": {\\n              \\\"type\\\": \\\"Memlet\\\",\\n              \\\"attributes\\\": {\\n                \\\"volume\\\": \\\"10\\\",\\n                \\\"subset\\\": {\\n                  \\\"type\\\": \\\"Range\\\",\\n                  \\\"ranges\\\": [\\n                    {\\n                      \\\"start\\\": \\\"0\\\",\\n                      \\\"end\\\": \\\"9\\\",\\n                      \\\"step\\\": \\\"1\\\",\\n                      \\\"tile\\\": \\\"1\\\"\\n                    }\\n                  ]\\n                },\\n                \\\"other_subset\\\": {\\n                  \\\"type\\\": \\\"Range\\\",\\n                  \\\"ranges\\\": [\\n                    {\\n                      \\\"start\\\": \\\"0\\\",\\n                      \\\"end\\\": \\\"9\\\",\\n                      \\\"step\\\": \\\"1\\\",\\n                      \\\"tile\\\": \\\"1\\\"\\n                    }\\n                  ]\\n                },\\n                \\\"data\\\": \\\"A\\\",\\n                \\\"debuginfo\\\": null,\\n                \\\"guid\\\": \\\"c4f33220-fee9-43f7-b597-b6e2ad428364\\\",\\n                \\\"src_subset\\\": {\\n                  \\\"type\\\": \\\"Range\\\",\\n                  \\\"ranges\\\": [\\n                    {\\n                      \\\"start\\\": \\\"0\\\",\\n                      \\\"end\\\": \\\"9\\\",\\n                      \\\"step\\\": \\\"1\\\",\\n                      \\\"tile\\\": \\\"1\\\"\\n                    }\\n                  ]\\n                },\\n                \\\"dst_subset\\\": {\\n                  \\\"type\\\": \\\"Range\\\",\\n                  \\\"ranges\\\": [\\n                    {\\n                      \\\"start\\\": \\\"0\\\",\\n                      \\\"end\\\": \\\"9\\\",\\n                      \\\"step\\\": \\\"1\\\",\\n                      \\\"tile\\\": \\\"1\\\"\\n                    }\\n                  ]\\n                },\\n                \\\"is_data_src\\\": false,\\n                \\\"num_accesses\\\": \\\"10\\\"\\n              }\\n            }\\n          },\\n          \\\"src\\\": \\\"1\\\",\\n          \\\"dst\\\": \\\"0\\\",\\n          \\\"dst_connector\\\": null,\\n          \\\"src_connector\\\": null\\n        },\\n        {\\n          \\\"type\\\": \\\"MultiConnectorEdge\\\",\\n          \\\"attributes\\\": {\\n            \\\"data\\\": {\\n              \\\"type\\\": \\\"Memlet\\\",\\n              \\\"attributes\\\": {\\n                \\\"volume\\\": \\\"1\\\",\\n                \\\"debuginfo\\\": null,\\n                \\\"guid\\\": \\\"0b22e4c5-1188-47ca-8e92-f246f39068dd\\\",\\n                \\\"src_subset\\\": null,\\n                \\\"dst_subset\\\": null,\\n                \\\"is_data_src\\\": false,\\n                \\\"num_accesses\\\": \\\"1\\\"\\n              }\\n            }\\n          },\\n          \\\"src\\\": \\\"0\\\",\\n          \\\"dst\\\": \\\"9\\\",\\n          \\\"dst_connector\\\": null,\\n          \\\"src_connector\\\": null\\n        },\\n        {\\n          \\\"type\\\": \\\"MultiConnectorEdge\\\",\\n          \\\"attributes\\\": {\\n            \\\"data\\\": {\\n              \\\"type\\\": \\\"Memlet\\\",\\n              \\\"attributes\\\": {\\n                \\\"volume\\\": \\\"1\\\",\\n                \\\"debuginfo\\\": null,\\n                \\\"guid\\\": \\\"b7f080dc-3195-40d9-8eae-7e196c71d1e2\\\",\\n                \\\"src_subset\\\": null,\\n                \\\"dst_subset\\\": null,\\n                \\\"is_data_src\\\": false,\\n                \\\"num_accesses\\\": \\\"1\\\"\\n              }\\n            }\\n          },\\n          \\\"src\\\": \\\"5\\\",\\n          \\\"dst\\\": \\\"10\\\",\\n          \\\"dst_connector\\\": null,\\n          \\\"src_connector\\\": null\\n        },\\n        {\\n          \\\"type\\\": \\\"MultiConnectorEdge\\\",\\n          \\\"attributes\\\": {\\n            \\\"data\\\": {\\n              \\\"type\\\": \\\"Memlet\\\",\\n              \\\"attributes\\\": {\\n                \\\"volume\\\": \\\"30\\\",\\n                \\\"subset\\\": {\\n                  \\\"type\\\": \\\"Range\\\",\\n                  \\\"ranges\\\": [\\n                    {\\n                      \\\"start\\\": \\\"0\\\",\\n                      \\\"end\\\": \\\"9\\\",\\n                      \\\"step\\\": \\\"1\\\",\\n                      \\\"tile\\\": \\\"1\\\"\\n                    }\\n                  ]\\n                },\\n                \\\"data\\\": \\\"D\\\",\\n                \\\"debuginfo\\\": null,\\n                \\\"guid\\\": \\\"7d4bbd0f-f1c8-41b5-9ae8-91edb214f001\\\",\\n                \\\"src_subset\\\": {\\n                  \\\"type\\\": \\\"Range\\\",\\n                  \\\"ranges\\\": [\\n                    {\\n                      \\\"start\\\": \\\"0\\\",\\n                      \\\"end\\\": \\\"9\\\",\\n                      \\\"step\\\": \\\"1\\\",\\n                      \\\"tile\\\": \\\"1\\\"\\n                    }\\n                  ]\\n                },\\n                \\\"dst_subset\\\": null,\\n                \\\"is_data_src\\\": true,\\n                \\\"num_accesses\\\": \\\"30\\\"\\n              }\\n            }\\n          },\\n          \\\"src\\\": \\\"4\\\",\\n          \\\"dst\\\": \\\"2\\\",\\n          \\\"dst_connector\\\": \\\"IN_D\\\",\\n          \\\"src_connector\\\": null\\n        },\\n        {\\n          \\\"type\\\": \\\"MultiConnectorEdge\\\",\\n          \\\"attributes\\\": {\\n            \\\"data\\\": {\\n              \\\"type\\\": \\\"Memlet\\\",\\n              \\\"attributes\\\": {\\n                \\\"volume\\\": \\\"30\\\",\\n                \\\"subset\\\": {\\n                  \\\"type\\\": \\\"Range\\\",\\n                  \\\"ranges\\\": [\\n                    {\\n                      \\\"start\\\": \\\"0\\\",\\n                      \\\"end\\\": \\\"9\\\",\\n                      \\\"step\\\": \\\"1\\\",\\n                      \\\"tile\\\": \\\"1\\\"\\n                    }\\n                  ]\\n                },\\n                \\\"data\\\": \\\"C\\\",\\n                \\\"debuginfo\\\": null,\\n                \\\"guid\\\": \\\"0aaa3018-d1b9-439e-a9e4-642c45e3dd25\\\",\\n                \\\"src_subset\\\": null,\\n                \\\"dst_subset\\\": {\\n                  \\\"type\\\": \\\"Range\\\",\\n                  \\\"ranges\\\": [\\n                    {\\n                      \\\"start\\\": \\\"0\\\",\\n                      \\\"end\\\": \\\"9\\\",\\n                      \\\"step\\\": \\\"1\\\",\\n                      \\\"tile\\\": \\\"1\\\"\\n                    }\\n                  ]\\n                },\\n                \\\"is_data_src\\\": false,\\n                \\\"num_accesses\\\": \\\"30\\\"\\n              }\\n            }\\n          },\\n          \\\"src\\\": \\\"3\\\",\\n          \\\"dst\\\": \\\"5\\\",\\n          \\\"dst_connector\\\": null,\\n          \\\"src_connector\\\": \\\"OUT_C\\\"\\n        },\\n        {\\n          \\\"type\\\": \\\"MultiConnectorEdge\\\",\\n          \\\"attributes\\\": {\\n            \\\"data\\\": {\\n              \\\"type\\\": \\\"Memlet\\\",\\n              \\\"attributes\\\": {\\n                \\\"volume\\\": \\\"10\\\",\\n                \\\"subset\\\": {\\n                  \\\"type\\\": \\\"Range\\\",\\n                  \\\"ranges\\\": [\\n                    {\\n                      \\\"start\\\": \\\"0\\\",\\n                      \\\"end\\\": \\\"9\\\",\\n                      \\\"step\\\": \\\"1\\\",\\n                      \\\"tile\\\": \\\"1\\\"\\n                    }\\n                  ]\\n                },\\n                \\\"data\\\": \\\"D\\\",\\n                \\\"debuginfo\\\": null,\\n                \\\"guid\\\": \\\"c541808f-d1c0-445d-acbd-a8f6c187c77d\\\",\\n                \\\"src_subset\\\": {\\n                  \\\"type\\\": \\\"Range\\\",\\n                  \\\"ranges\\\": [\\n                    {\\n                      \\\"start\\\": \\\"0\\\",\\n                      \\\"end\\\": \\\"9\\\",\\n                      \\\"step\\\": \\\"1\\\",\\n                      \\\"tile\\\": \\\"1\\\"\\n                    }\\n                  ]\\n                },\\n                \\\"dst_subset\\\": null,\\n                \\\"is_data_src\\\": true,\\n                \\\"num_accesses\\\": \\\"10\\\"\\n              }\\n            }\\n          },\\n          \\\"src\\\": \\\"2\\\",\\n          \\\"dst\\\": \\\"6\\\",\\n          \\\"dst_connector\\\": \\\"IN___tmp_12_19_r_in_from_1_0\\\",\\n          \\\"src_connector\\\": \\\"OUT_D\\\"\\n        },\\n        {\\n          \\\"type\\\": \\\"MultiConnectorEdge\\\",\\n          \\\"attributes\\\": {\\n            \\\"data\\\": {\\n              \\\"type\\\": \\\"Memlet\\\",\\n              \\\"attributes\\\": {\\n                \\\"volume\\\": \\\"10\\\",\\n                \\\"subset\\\": {\\n                  \\\"type\\\": \\\"Range\\\",\\n                  \\\"ranges\\\": [\\n                    {\\n                      \\\"start\\\": \\\"0\\\",\\n                      \\\"end\\\": \\\"9\\\",\\n                      \\\"step\\\": \\\"1\\\",\\n                      \\\"tile\\\": \\\"1\\\"\\n                    }\\n                  ]\\n                },\\n                \\\"data\\\": \\\"C\\\",\\n                \\\"debuginfo\\\": null,\\n                \\\"guid\\\": \\\"21f5c1aa-3bcb-4399-9640-f48134cadaa1\\\",\\n                \\\"src_subset\\\": null,\\n                \\\"dst_subset\\\": {\\n                  \\\"type\\\": \\\"Range\\\",\\n                  \\\"ranges\\\": [\\n                    {\\n                      \\\"start\\\": \\\"0\\\",\\n                      \\\"end\\\": \\\"9\\\",\\n                      \\\"step\\\": \\\"1\\\",\\n                      \\\"tile\\\": \\\"1\\\"\\n                    }\\n                  ]\\n                },\\n                \\\"is_data_src\\\": false,\\n                \\\"num_accesses\\\": \\\"10\\\"\\n              }\\n            }\\n          },\\n          \\\"src\\\": \\\"7\\\",\\n          \\\"dst\\\": \\\"3\\\",\\n          \\\"dst_connector\\\": \\\"IN_C\\\",\\n          \\\"src_connector\\\": \\\"OUT___tmp_12_12_w_out_of_1_1\\\"\\n        },\\n        {\\n          \\\"type\\\": \\\"MultiConnectorEdge\\\",\\n          \\\"attributes\\\": {\\n            \\\"data\\\": {\\n              \\\"type\\\": \\\"Memlet\\\",\\n              \\\"attributes\\\": {\\n                \\\"volume\\\": \\\"1\\\",\\n                \\\"subset\\\": {\\n                  \\\"type\\\": \\\"Range\\\",\\n                  \\\"ranges\\\": [\\n                    {\\n                      \\\"start\\\": \\\"j\\\",\\n                      \\\"end\\\": \\\"j\\\",\\n                      \\\"step\\\": \\\"1\\\",\\n                      \\\"tile\\\": \\\"1\\\"\\n                    }\\n                  ]\\n                },\\n                \\\"data\\\": \\\"D\\\",\\n                \\\"debuginfo\\\": null,\\n                \\\"guid\\\": \\\"4b59762f-13e1-4d47-9379-6424d8c48130\\\",\\n                \\\"src_subset\\\": {\\n                  \\\"type\\\": \\\"Range\\\",\\n                  \\\"ranges\\\": [\\n                    {\\n                      \\\"start\\\": \\\"j\\\",\\n                      \\\"end\\\": \\\"j\\\",\\n                      \\\"step\\\": \\\"1\\\",\\n                      \\\"tile\\\": \\\"1\\\"\\n                    }\\n                  ]\\n                },\\n                \\\"dst_subset\\\": null,\\n                \\\"is_data_src\\\": true,\\n                \\\"num_accesses\\\": \\\"1\\\"\\n              }\\n            }\\n          },\\n          \\\"src\\\": \\\"6\\\",\\n          \\\"dst\\\": \\\"8\\\",\\n          \\\"dst_connector\\\": \\\"__inp\\\",\\n          \\\"src_connector\\\": \\\"OUT___tmp_12_19_r_in_from_1_0\\\"\\n        },\\n        {\\n          \\\"type\\\": \\\"MultiConnectorEdge\\\",\\n          \\\"attributes\\\": {\\n            \\\"data\\\": {\\n              \\\"type\\\": \\\"Memlet\\\",\\n              \\\"attributes\\\": {\\n                \\\"volume\\\": \\\"1\\\",\\n                \\\"subset\\\": {\\n                  \\\"type\\\": \\\"Range\\\",\\n                  \\\"ranges\\\": [\\n                    {\\n                      \\\"start\\\": \\\"j\\\",\\n                      \\\"end\\\": \\\"j\\\",\\n                      \\\"step\\\": \\\"1\\\",\\n                      \\\"tile\\\": \\\"1\\\"\\n                    }\\n                  ]\\n                },\\n                \\\"data\\\": \\\"C\\\",\\n                \\\"debuginfo\\\": null,\\n                \\\"guid\\\": \\\"4efe77f4-c8a3-4847-83de-66cc2d5ca90b\\\",\\n                \\\"src_subset\\\": null,\\n                \\\"dst_subset\\\": {\\n                  \\\"type\\\": \\\"Range\\\",\\n                  \\\"ranges\\\": [\\n                    {\\n                      \\\"start\\\": \\\"j\\\",\\n                      \\\"end\\\": \\\"j\\\",\\n                      \\\"step\\\": \\\"1\\\",\\n                      \\\"tile\\\": \\\"1\\\"\\n                    }\\n                  ]\\n                },\\n                \\\"is_data_src\\\": false,\\n                \\\"num_accesses\\\": \\\"1\\\"\\n              }\\n            }\\n          },\\n          \\\"src\\\": \\\"8\\\",\\n          \\\"dst\\\": \\\"7\\\",\\n          \\\"dst_connector\\\": \\\"IN___tmp_12_12_w_out_of_1_1\\\",\\n          \\\"src_connector\\\": \\\"__out\\\"\\n        }\\n      ],\\n      \\\"attributes\\\": {\\n        \\\"guid\\\": \\\"17831168-c9cc-460d-bcb7-25b1dd1f4b24\\\",\\n        \\\"executions\\\": \\\"1\\\",\\n        \\\"dynamic_executions\\\": false\\n      }\\n    }\\n  ],\\n  \\\"edges\\\": [],\\n  \\\"collapsed\\\": false,\\n  \\\"label\\\": \\\"\\\",\\n  \\\"id\\\": null,\\n  \\\"cfg_list_id\\\": 0,\\n  \\\"start_block\\\": 0,\\n  \\\"dace_version\\\": \\\"1.0.0\\\"\\n}\";\n",
       "</script>\n",
       "<script>\n",
       "    new SDFGRenderer(\n",
       "        checkCompatLoad(parse_sdfg(sdfg_6908922308180090928)),\n",
       "        document.getElementById(\"contents_6908922308180090928\"),\n",
       "        undefined, null, null, false, null, null\n",
       "    );\n",
       "</script>"
      ],
      "text/plain": [
       "SDFG (test3)"
      ]
     },
     "execution_count": 8,
     "metadata": {},
     "output_type": "execute_result"
    }
   ],
   "source": [
    "sdfg "
   ]
  },
  {
   "cell_type": "markdown",
   "id": "804d8436",
   "metadata": {},
   "source": [
    "And you can also inspect the corresponding code. Just ensure that you are using the experimental codegen:"
   ]
  },
  {
   "cell_type": "code",
   "execution_count": 9,
   "id": "60d817de",
   "metadata": {},
   "outputs": [],
   "source": [
    "from dace.config import Config\n",
    "\n",
    "assert Config.get('compiler', 'cuda', 'implementation') == \"experimental\""
   ]
  },
  {
   "cell_type": "code",
   "execution_count": 10,
   "id": "bf7c6836",
   "metadata": {},
   "outputs": [
    {
     "name": "stderr",
     "output_type": "stream",
     "text": [
      "/home/berkay/master-thesis/dace/dace/codegen/targets/new_cuda_codegen/experimental_cuda.py:1728: UserWarning: No `gpu_block_size` property specified on map \"test3_10_4_11\". Falling back to the configuration entry `compiler.cuda.default_block_size`: 32,1,1. You can either specify the block size to use with the gpu_block_size property, or by adding nested `GPU_ThreadBlock` maps, which map work to individual threads. For more information, see https://spcldace.readthedocs.io/en/latest/optimization/gpu.html\n",
      "  warnings.warn(\n"
     ]
    },
    {
     "data": {
      "text/html": [
       "<style>pre { line-height: 125%; }\n",
       "td.linenos .normal { color: inherit; background-color: transparent; padding-left: 5px; padding-right: 5px; }\n",
       "span.linenos { color: inherit; background-color: transparent; padding-left: 5px; padding-right: 5px; }\n",
       "td.linenos .special { color: #000000; background-color: #ffffc0; padding-left: 5px; padding-right: 5px; }\n",
       "span.linenos.special { color: #000000; background-color: #ffffc0; padding-left: 5px; padding-right: 5px; }\n",
       ".output_html .hll { background-color: #ffffcc }\n",
       ".output_html { background: #f8f8f8; }\n",
       ".output_html .c { color: #3D7B7B; font-style: italic } /* Comment */\n",
       ".output_html .err { border: 1px solid #F00 } /* Error */\n",
       ".output_html .k { color: #008000; font-weight: bold } /* Keyword */\n",
       ".output_html .o { color: #666 } /* Operator */\n",
       ".output_html .ch { color: #3D7B7B; font-style: italic } /* Comment.Hashbang */\n",
       ".output_html .cm { color: #3D7B7B; font-style: italic } /* Comment.Multiline */\n",
       ".output_html .cp { color: #9C6500 } /* Comment.Preproc */\n",
       ".output_html .cpf { color: #3D7B7B; font-style: italic } /* Comment.PreprocFile */\n",
       ".output_html .c1 { color: #3D7B7B; font-style: italic } /* Comment.Single */\n",
       ".output_html .cs { color: #3D7B7B; font-style: italic } /* Comment.Special */\n",
       ".output_html .gd { color: #A00000 } /* Generic.Deleted */\n",
       ".output_html .ge { font-style: italic } /* Generic.Emph */\n",
       ".output_html .ges { font-weight: bold; font-style: italic } /* Generic.EmphStrong */\n",
       ".output_html .gr { color: #E40000 } /* Generic.Error */\n",
       ".output_html .gh { color: #000080; font-weight: bold } /* Generic.Heading */\n",
       ".output_html .gi { color: #008400 } /* Generic.Inserted */\n",
       ".output_html .go { color: #717171 } /* Generic.Output */\n",
       ".output_html .gp { color: #000080; font-weight: bold } /* Generic.Prompt */\n",
       ".output_html .gs { font-weight: bold } /* Generic.Strong */\n",
       ".output_html .gu { color: #800080; font-weight: bold } /* Generic.Subheading */\n",
       ".output_html .gt { color: #04D } /* Generic.Traceback */\n",
       ".output_html .kc { color: #008000; font-weight: bold } /* Keyword.Constant */\n",
       ".output_html .kd { color: #008000; font-weight: bold } /* Keyword.Declaration */\n",
       ".output_html .kn { color: #008000; font-weight: bold } /* Keyword.Namespace */\n",
       ".output_html .kp { color: #008000 } /* Keyword.Pseudo */\n",
       ".output_html .kr { color: #008000; font-weight: bold } /* Keyword.Reserved */\n",
       ".output_html .kt { color: #B00040 } /* Keyword.Type */\n",
       ".output_html .m { color: #666 } /* Literal.Number */\n",
       ".output_html .s { color: #BA2121 } /* Literal.String */\n",
       ".output_html .na { color: #687822 } /* Name.Attribute */\n",
       ".output_html .nb { color: #008000 } /* Name.Builtin */\n",
       ".output_html .nc { color: #00F; font-weight: bold } /* Name.Class */\n",
       ".output_html .no { color: #800 } /* Name.Constant */\n",
       ".output_html .nd { color: #A2F } /* Name.Decorator */\n",
       ".output_html .ni { color: #717171; font-weight: bold } /* Name.Entity */\n",
       ".output_html .ne { color: #CB3F38; font-weight: bold } /* Name.Exception */\n",
       ".output_html .nf { color: #00F } /* Name.Function */\n",
       ".output_html .nl { color: #767600 } /* Name.Label */\n",
       ".output_html .nn { color: #00F; font-weight: bold } /* Name.Namespace */\n",
       ".output_html .nt { color: #008000; font-weight: bold } /* Name.Tag */\n",
       ".output_html .nv { color: #19177C } /* Name.Variable */\n",
       ".output_html .ow { color: #A2F; font-weight: bold } /* Operator.Word */\n",
       ".output_html .w { color: #BBB } /* Text.Whitespace */\n",
       ".output_html .mb { color: #666 } /* Literal.Number.Bin */\n",
       ".output_html .mf { color: #666 } /* Literal.Number.Float */\n",
       ".output_html .mh { color: #666 } /* Literal.Number.Hex */\n",
       ".output_html .mi { color: #666 } /* Literal.Number.Integer */\n",
       ".output_html .mo { color: #666 } /* Literal.Number.Oct */\n",
       ".output_html .sa { color: #BA2121 } /* Literal.String.Affix */\n",
       ".output_html .sb { color: #BA2121 } /* Literal.String.Backtick */\n",
       ".output_html .sc { color: #BA2121 } /* Literal.String.Char */\n",
       ".output_html .dl { color: #BA2121 } /* Literal.String.Delimiter */\n",
       ".output_html .sd { color: #BA2121; font-style: italic } /* Literal.String.Doc */\n",
       ".output_html .s2 { color: #BA2121 } /* Literal.String.Double */\n",
       ".output_html .se { color: #AA5D1F; font-weight: bold } /* Literal.String.Escape */\n",
       ".output_html .sh { color: #BA2121 } /* Literal.String.Heredoc */\n",
       ".output_html .si { color: #A45A77; font-weight: bold } /* Literal.String.Interpol */\n",
       ".output_html .sx { color: #008000 } /* Literal.String.Other */\n",
       ".output_html .sr { color: #A45A77 } /* Literal.String.Regex */\n",
       ".output_html .s1 { color: #BA2121 } /* Literal.String.Single */\n",
       ".output_html .ss { color: #19177C } /* Literal.String.Symbol */\n",
       ".output_html .bp { color: #008000 } /* Name.Builtin.Pseudo */\n",
       ".output_html .fm { color: #00F } /* Name.Function.Magic */\n",
       ".output_html .vc { color: #19177C } /* Name.Variable.Class */\n",
       ".output_html .vg { color: #19177C } /* Name.Variable.Global */\n",
       ".output_html .vi { color: #19177C } /* Name.Variable.Instance */\n",
       ".output_html .vm { color: #19177C } /* Name.Variable.Magic */\n",
       ".output_html .il { color: #666 } /* Literal.Number.Integer.Long */</style><div class=\"highlight\"><pre><span></span><span class=\"cm\">/* DaCe AUTO-GENERATED FILE. DO NOT MODIFY */</span>\n",
       "<span class=\"cp\">#include</span><span class=\"w\"> </span><span class=\"cpf\">&lt;dace/dace.h&gt;</span>\n",
       "<span class=\"cp\">#include</span><span class=\"w\"> </span><span class=\"cpf\">&quot;../../include/hash.h&quot;</span>\n",
       "\n",
       "<span class=\"k\">struct</span><span class=\"w\"> </span><span class=\"nc\">test3_state_t</span><span class=\"w\"> </span><span class=\"p\">{</span>\n",
       "<span class=\"w\">    </span><span class=\"n\">dace</span><span class=\"o\">::</span><span class=\"n\">cuda</span><span class=\"o\">::</span><span class=\"n\">Context</span><span class=\"w\"> </span><span class=\"o\">*</span><span class=\"n\">gpu_context</span><span class=\"p\">;</span>\n",
       "<span class=\"p\">};</span>\n",
       "\n",
       "<span class=\"n\">DACE_EXPORTED</span><span class=\"w\"> </span><span class=\"kt\">void</span><span class=\"w\"> </span><span class=\"n\">__dace_runkernel_test3_10_4_11_0_0_6</span><span class=\"p\">(</span><span class=\"n\">test3_state_t</span><span class=\"w\"> </span><span class=\"o\">*</span><span class=\"n\">__state</span><span class=\"p\">,</span><span class=\"w\"> </span><span class=\"n\">dace</span><span class=\"o\">::</span><span class=\"n\">uint</span><span class=\"w\"> </span><span class=\"o\">*</span><span class=\"w\"> </span><span class=\"n\">__restrict__</span><span class=\"w\"> </span><span class=\"n\">C</span><span class=\"p\">,</span><span class=\"w\"> </span><span class=\"n\">dace</span><span class=\"o\">::</span><span class=\"n\">uint</span><span class=\"w\"> </span><span class=\"o\">*</span><span class=\"w\"> </span><span class=\"n\">__restrict__</span><span class=\"w\"> </span><span class=\"n\">D</span><span class=\"p\">);</span>\n",
       "<span class=\"kt\">void</span><span class=\"w\"> </span><span class=\"nf\">__program_test3_internal</span><span class=\"p\">(</span><span class=\"n\">test3_state_t</span><span class=\"o\">*</span><span class=\"n\">__state</span><span class=\"p\">,</span><span class=\"w\"> </span><span class=\"n\">dace</span><span class=\"o\">::</span><span class=\"n\">uint</span><span class=\"w\"> </span><span class=\"o\">*</span><span class=\"w\"> </span><span class=\"n\">__restrict__</span><span class=\"w\"> </span><span class=\"n\">A</span><span class=\"p\">,</span><span class=\"w\"> </span><span class=\"n\">dace</span><span class=\"o\">::</span><span class=\"n\">uint</span><span class=\"w\"> </span><span class=\"o\">*</span><span class=\"w\"> </span><span class=\"n\">__restrict__</span><span class=\"w\"> </span><span class=\"n\">B</span><span class=\"p\">,</span><span class=\"w\"> </span><span class=\"n\">dace</span><span class=\"o\">::</span><span class=\"n\">uint</span><span class=\"w\"> </span><span class=\"o\">*</span><span class=\"w\"> </span><span class=\"n\">__restrict__</span><span class=\"w\"> </span><span class=\"n\">C</span><span class=\"p\">,</span><span class=\"w\"> </span><span class=\"n\">dace</span><span class=\"o\">::</span><span class=\"n\">uint</span><span class=\"w\"> </span><span class=\"o\">*</span><span class=\"w\"> </span><span class=\"n\">__restrict__</span><span class=\"w\"> </span><span class=\"n\">D</span><span class=\"p\">)</span>\n",
       "<span class=\"p\">{</span>\n",
       "\n",
       "<span class=\"w\">    </span><span class=\"p\">{</span>\n",
       "\n",
       "<span class=\"w\">        </span><span class=\"n\">DACE_GPU_CHECK</span><span class=\"p\">(</span><span class=\"n\">cudaMemcpyAsync</span><span class=\"p\">(</span><span class=\"n\">A</span><span class=\"p\">,</span><span class=\"w\"> </span><span class=\"n\">B</span><span class=\"p\">,</span><span class=\"w\"> </span><span class=\"mi\">10</span><span class=\"w\"> </span><span class=\"o\">*</span><span class=\"w\"> </span><span class=\"k\">sizeof</span><span class=\"p\">(</span><span class=\"n\">dace</span><span class=\"o\">::</span><span class=\"n\">uint</span><span class=\"p\">),</span><span class=\"w\"> </span><span class=\"n\">cudaMemcpyDeviceToDevice</span><span class=\"p\">,</span><span class=\"w\"> </span><span class=\"n\">__state</span><span class=\"o\">-&gt;</span><span class=\"n\">gpu_context</span><span class=\"o\">-&gt;</span><span class=\"n\">streams</span><span class=\"p\">[</span><span class=\"mi\">0</span><span class=\"p\">]));</span>\n",
       "<span class=\"w\">        </span><span class=\"p\">{</span>\n",
       "\n",
       "<span class=\"w\">            </span><span class=\"c1\">///////////////////</span>\n",
       "<span class=\"w\">            </span><span class=\"n\">DACE_GPU_CHECK</span><span class=\"p\">(</span><span class=\"n\">cudaStreamSynchronize</span><span class=\"p\">(</span><span class=\"n\">__state</span><span class=\"o\">-&gt;</span><span class=\"n\">gpu_context</span><span class=\"o\">-&gt;</span><span class=\"n\">streams</span><span class=\"p\">[</span><span class=\"mi\">0</span><span class=\"p\">]));</span>\n",
       "<span class=\"w\">            </span><span class=\"c1\">///////////////////</span>\n",
       "\n",
       "<span class=\"w\">        </span><span class=\"p\">}</span>\n",
       "<span class=\"w\">        </span><span class=\"p\">{</span>\n",
       "<span class=\"w\">            </span><span class=\"k\">for</span><span class=\"w\"> </span><span class=\"p\">(</span><span class=\"k\">auto</span><span class=\"w\"> </span><span class=\"n\">i</span><span class=\"w\"> </span><span class=\"o\">=</span><span class=\"w\"> </span><span class=\"mi\">0</span><span class=\"p\">;</span><span class=\"w\"> </span><span class=\"n\">i</span><span class=\"w\"> </span><span class=\"o\">&lt;</span><span class=\"w\"> </span><span class=\"mi\">3</span><span class=\"p\">;</span><span class=\"w\"> </span><span class=\"n\">i</span><span class=\"w\"> </span><span class=\"o\">+=</span><span class=\"w\"> </span><span class=\"mi\">1</span><span class=\"p\">)</span><span class=\"w\"> </span><span class=\"p\">{</span>\n",
       "<span class=\"w\">                </span><span class=\"n\">__dace_runkernel_test3_10_4_11_0_0_6</span><span class=\"p\">(</span><span class=\"n\">__state</span><span class=\"p\">,</span><span class=\"w\"> </span><span class=\"n\">C</span><span class=\"p\">,</span><span class=\"w\"> </span><span class=\"n\">D</span><span class=\"p\">);</span>\n",
       "<span class=\"w\">            </span><span class=\"p\">}</span>\n",
       "<span class=\"w\">        </span><span class=\"p\">}</span>\n",
       "<span class=\"w\">        </span><span class=\"p\">{</span>\n",
       "\n",
       "<span class=\"w\">            </span><span class=\"c1\">///////////////////</span>\n",
       "<span class=\"w\">            </span><span class=\"n\">DACE_GPU_CHECK</span><span class=\"p\">(</span><span class=\"n\">cudaStreamSynchronize</span><span class=\"p\">(</span><span class=\"n\">__state</span><span class=\"o\">-&gt;</span><span class=\"n\">gpu_context</span><span class=\"o\">-&gt;</span><span class=\"n\">streams</span><span class=\"p\">[</span><span class=\"mi\">1</span><span class=\"p\">]));</span>\n",
       "<span class=\"w\">            </span><span class=\"c1\">///////////////////</span>\n",
       "\n",
       "<span class=\"w\">        </span><span class=\"p\">}</span>\n",
       "\n",
       "<span class=\"w\">    </span><span class=\"p\">}</span>\n",
       "<span class=\"p\">}</span>\n",
       "\n",
       "<span class=\"n\">DACE_EXPORTED</span><span class=\"w\"> </span><span class=\"kt\">void</span><span class=\"w\"> </span><span class=\"n\">__program_test3</span><span class=\"p\">(</span><span class=\"n\">test3_state_t</span><span class=\"w\"> </span><span class=\"o\">*</span><span class=\"n\">__state</span><span class=\"p\">,</span><span class=\"w\"> </span><span class=\"n\">dace</span><span class=\"o\">::</span><span class=\"n\">uint</span><span class=\"w\"> </span><span class=\"o\">*</span><span class=\"w\"> </span><span class=\"n\">__restrict__</span><span class=\"w\"> </span><span class=\"n\">A</span><span class=\"p\">,</span><span class=\"w\"> </span><span class=\"n\">dace</span><span class=\"o\">::</span><span class=\"n\">uint</span><span class=\"w\"> </span><span class=\"o\">*</span><span class=\"w\"> </span><span class=\"n\">__restrict__</span><span class=\"w\"> </span><span class=\"n\">B</span><span class=\"p\">,</span><span class=\"w\"> </span><span class=\"n\">dace</span><span class=\"o\">::</span><span class=\"n\">uint</span><span class=\"w\"> </span><span class=\"o\">*</span><span class=\"w\"> </span><span class=\"n\">__restrict__</span><span class=\"w\"> </span><span class=\"n\">C</span><span class=\"p\">,</span><span class=\"w\"> </span><span class=\"n\">dace</span><span class=\"o\">::</span><span class=\"n\">uint</span><span class=\"w\"> </span><span class=\"o\">*</span><span class=\"w\"> </span><span class=\"n\">__restrict__</span><span class=\"w\"> </span><span class=\"n\">D</span><span class=\"p\">)</span>\n",
       "<span class=\"p\">{</span>\n",
       "<span class=\"w\">    </span><span class=\"n\">__program_test3_internal</span><span class=\"p\">(</span><span class=\"n\">__state</span><span class=\"p\">,</span><span class=\"w\"> </span><span class=\"n\">A</span><span class=\"p\">,</span><span class=\"w\"> </span><span class=\"n\">B</span><span class=\"p\">,</span><span class=\"w\"> </span><span class=\"n\">C</span><span class=\"p\">,</span><span class=\"w\"> </span><span class=\"n\">D</span><span class=\"p\">);</span>\n",
       "<span class=\"p\">}</span>\n",
       "<span class=\"n\">DACE_EXPORTED</span><span class=\"w\"> </span><span class=\"kt\">int</span><span class=\"w\"> </span><span class=\"n\">__dace_init_experimental_cuda</span><span class=\"p\">(</span><span class=\"n\">test3_state_t</span><span class=\"w\"> </span><span class=\"o\">*</span><span class=\"n\">__state</span><span class=\"p\">);</span>\n",
       "<span class=\"n\">DACE_EXPORTED</span><span class=\"w\"> </span><span class=\"kt\">int</span><span class=\"w\"> </span><span class=\"n\">__dace_exit_experimental_cuda</span><span class=\"p\">(</span><span class=\"n\">test3_state_t</span><span class=\"w\"> </span><span class=\"o\">*</span><span class=\"n\">__state</span><span class=\"p\">);</span>\n",
       "\n",
       "<span class=\"n\">DACE_EXPORTED</span><span class=\"w\"> </span><span class=\"n\">test3_state_t</span><span class=\"w\"> </span><span class=\"o\">*</span><span class=\"n\">__dace_init_test3</span><span class=\"p\">()</span>\n",
       "<span class=\"p\">{</span>\n",
       "<span class=\"w\">    </span><span class=\"kt\">int</span><span class=\"w\"> </span><span class=\"n\">__result</span><span class=\"w\"> </span><span class=\"o\">=</span><span class=\"w\"> </span><span class=\"mi\">0</span><span class=\"p\">;</span>\n",
       "<span class=\"w\">    </span><span class=\"n\">test3_state_t</span><span class=\"w\"> </span><span class=\"o\">*</span><span class=\"n\">__state</span><span class=\"w\"> </span><span class=\"o\">=</span><span class=\"w\"> </span><span class=\"k\">new</span><span class=\"w\"> </span><span class=\"n\">test3_state_t</span><span class=\"p\">;</span>\n",
       "\n",
       "\n",
       "<span class=\"w\">    </span><span class=\"n\">__result</span><span class=\"w\"> </span><span class=\"o\">|=</span><span class=\"w\"> </span><span class=\"n\">__dace_init_experimental_cuda</span><span class=\"p\">(</span><span class=\"n\">__state</span><span class=\"p\">);</span>\n",
       "\n",
       "<span class=\"w\">    </span><span class=\"k\">if</span><span class=\"w\"> </span><span class=\"p\">(</span><span class=\"n\">__result</span><span class=\"p\">)</span><span class=\"w\"> </span><span class=\"p\">{</span>\n",
       "<span class=\"w\">        </span><span class=\"k\">delete</span><span class=\"w\"> </span><span class=\"n\">__state</span><span class=\"p\">;</span>\n",
       "<span class=\"w\">        </span><span class=\"k\">return</span><span class=\"w\"> </span><span class=\"k\">nullptr</span><span class=\"p\">;</span>\n",
       "<span class=\"w\">    </span><span class=\"p\">}</span>\n",
       "<span class=\"w\">    </span><span class=\"k\">return</span><span class=\"w\"> </span><span class=\"n\">__state</span><span class=\"p\">;</span>\n",
       "<span class=\"p\">}</span>\n",
       "\n",
       "<span class=\"n\">DACE_EXPORTED</span><span class=\"w\"> </span><span class=\"kt\">int</span><span class=\"w\"> </span><span class=\"n\">__dace_exit_test3</span><span class=\"p\">(</span><span class=\"n\">test3_state_t</span><span class=\"w\"> </span><span class=\"o\">*</span><span class=\"n\">__state</span><span class=\"p\">)</span>\n",
       "<span class=\"p\">{</span>\n",
       "<span class=\"w\">    </span><span class=\"kt\">int</span><span class=\"w\"> </span><span class=\"n\">__err</span><span class=\"w\"> </span><span class=\"o\">=</span><span class=\"w\"> </span><span class=\"mi\">0</span><span class=\"p\">;</span>\n",
       "\n",
       "<span class=\"w\">    </span><span class=\"kt\">int</span><span class=\"w\"> </span><span class=\"n\">__err_experimental_cuda</span><span class=\"w\"> </span><span class=\"o\">=</span><span class=\"w\"> </span><span class=\"n\">__dace_exit_experimental_cuda</span><span class=\"p\">(</span><span class=\"n\">__state</span><span class=\"p\">);</span>\n",
       "<span class=\"w\">    </span><span class=\"k\">if</span><span class=\"w\"> </span><span class=\"p\">(</span><span class=\"n\">__err_experimental_cuda</span><span class=\"p\">)</span><span class=\"w\"> </span><span class=\"p\">{</span>\n",
       "<span class=\"w\">        </span><span class=\"n\">__err</span><span class=\"w\"> </span><span class=\"o\">=</span><span class=\"w\"> </span><span class=\"n\">__err_experimental_cuda</span><span class=\"p\">;</span>\n",
       "<span class=\"w\">    </span><span class=\"p\">}</span>\n",
       "<span class=\"w\">    </span><span class=\"k\">delete</span><span class=\"w\"> </span><span class=\"n\">__state</span><span class=\"p\">;</span>\n",
       "<span class=\"w\">    </span><span class=\"k\">return</span><span class=\"w\"> </span><span class=\"n\">__err</span><span class=\"p\">;</span>\n",
       "<span class=\"p\">}</span>\n",
       "</pre></div>\n"
      ],
      "text/latex": [
       "\\begin{Verbatim}[commandchars=\\\\\\{\\}]\n",
       "\\PY{c+cm}{/* DaCe AUTO\\PYZhy{}GENERATED FILE. DO NOT MODIFY */}\n",
       "\\PY{c+cp}{\\PYZsh{}}\\PY{c+cp}{include}\\PY{+w}{ }\\PY{c+cpf}{\\PYZlt{}dace/dace.h\\PYZgt{}}\n",
       "\\PY{c+cp}{\\PYZsh{}}\\PY{c+cp}{include}\\PY{+w}{ }\\PY{c+cpf}{\\PYZdq{}../../include/hash.h\\PYZdq{}}\n",
       "\n",
       "\\PY{k}{struct}\\PY{+w}{ }\\PY{n+nc}{test3\\PYZus{}state\\PYZus{}t}\\PY{+w}{ }\\PY{p}{\\PYZob{}}\n",
       "\\PY{+w}{    }\\PY{n}{dace}\\PY{o}{:}\\PY{o}{:}\\PY{n}{cuda}\\PY{o}{:}\\PY{o}{:}\\PY{n}{Context}\\PY{+w}{ }\\PY{o}{*}\\PY{n}{gpu\\PYZus{}context}\\PY{p}{;}\n",
       "\\PY{p}{\\PYZcb{}}\\PY{p}{;}\n",
       "\n",
       "\\PY{n}{DACE\\PYZus{}EXPORTED}\\PY{+w}{ }\\PY{k+kt}{void}\\PY{+w}{ }\\PY{n}{\\PYZus{}\\PYZus{}dace\\PYZus{}runkernel\\PYZus{}test3\\PYZus{}10\\PYZus{}4\\PYZus{}11\\PYZus{}0\\PYZus{}0\\PYZus{}6}\\PY{p}{(}\\PY{n}{test3\\PYZus{}state\\PYZus{}t}\\PY{+w}{ }\\PY{o}{*}\\PY{n}{\\PYZus{}\\PYZus{}state}\\PY{p}{,}\\PY{+w}{ }\\PY{n}{dace}\\PY{o}{:}\\PY{o}{:}\\PY{n}{uint}\\PY{+w}{ }\\PY{o}{*}\\PY{+w}{ }\\PY{n}{\\PYZus{}\\PYZus{}restrict\\PYZus{}\\PYZus{}}\\PY{+w}{ }\\PY{n}{C}\\PY{p}{,}\\PY{+w}{ }\\PY{n}{dace}\\PY{o}{:}\\PY{o}{:}\\PY{n}{uint}\\PY{+w}{ }\\PY{o}{*}\\PY{+w}{ }\\PY{n}{\\PYZus{}\\PYZus{}restrict\\PYZus{}\\PYZus{}}\\PY{+w}{ }\\PY{n}{D}\\PY{p}{)}\\PY{p}{;}\n",
       "\\PY{k+kt}{void}\\PY{+w}{ }\\PY{n+nf}{\\PYZus{}\\PYZus{}program\\PYZus{}test3\\PYZus{}internal}\\PY{p}{(}\\PY{n}{test3\\PYZus{}state\\PYZus{}t}\\PY{o}{*}\\PY{n}{\\PYZus{}\\PYZus{}state}\\PY{p}{,}\\PY{+w}{ }\\PY{n}{dace}\\PY{o}{:}\\PY{o}{:}\\PY{n}{uint}\\PY{+w}{ }\\PY{o}{*}\\PY{+w}{ }\\PY{n}{\\PYZus{}\\PYZus{}restrict\\PYZus{}\\PYZus{}}\\PY{+w}{ }\\PY{n}{A}\\PY{p}{,}\\PY{+w}{ }\\PY{n}{dace}\\PY{o}{:}\\PY{o}{:}\\PY{n}{uint}\\PY{+w}{ }\\PY{o}{*}\\PY{+w}{ }\\PY{n}{\\PYZus{}\\PYZus{}restrict\\PYZus{}\\PYZus{}}\\PY{+w}{ }\\PY{n}{B}\\PY{p}{,}\\PY{+w}{ }\\PY{n}{dace}\\PY{o}{:}\\PY{o}{:}\\PY{n}{uint}\\PY{+w}{ }\\PY{o}{*}\\PY{+w}{ }\\PY{n}{\\PYZus{}\\PYZus{}restrict\\PYZus{}\\PYZus{}}\\PY{+w}{ }\\PY{n}{C}\\PY{p}{,}\\PY{+w}{ }\\PY{n}{dace}\\PY{o}{:}\\PY{o}{:}\\PY{n}{uint}\\PY{+w}{ }\\PY{o}{*}\\PY{+w}{ }\\PY{n}{\\PYZus{}\\PYZus{}restrict\\PYZus{}\\PYZus{}}\\PY{+w}{ }\\PY{n}{D}\\PY{p}{)}\n",
       "\\PY{p}{\\PYZob{}}\n",
       "\n",
       "\\PY{+w}{    }\\PY{p}{\\PYZob{}}\n",
       "\n",
       "\\PY{+w}{        }\\PY{n}{DACE\\PYZus{}GPU\\PYZus{}CHECK}\\PY{p}{(}\\PY{n}{cudaMemcpyAsync}\\PY{p}{(}\\PY{n}{A}\\PY{p}{,}\\PY{+w}{ }\\PY{n}{B}\\PY{p}{,}\\PY{+w}{ }\\PY{l+m+mi}{10}\\PY{+w}{ }\\PY{o}{*}\\PY{+w}{ }\\PY{k}{sizeof}\\PY{p}{(}\\PY{n}{dace}\\PY{o}{:}\\PY{o}{:}\\PY{n}{uint}\\PY{p}{)}\\PY{p}{,}\\PY{+w}{ }\\PY{n}{cudaMemcpyDeviceToDevice}\\PY{p}{,}\\PY{+w}{ }\\PY{n}{\\PYZus{}\\PYZus{}state}\\PY{o}{\\PYZhy{}}\\PY{o}{\\PYZgt{}}\\PY{n}{gpu\\PYZus{}context}\\PY{o}{\\PYZhy{}}\\PY{o}{\\PYZgt{}}\\PY{n}{streams}\\PY{p}{[}\\PY{l+m+mi}{0}\\PY{p}{]}\\PY{p}{)}\\PY{p}{)}\\PY{p}{;}\n",
       "\\PY{+w}{        }\\PY{p}{\\PYZob{}}\n",
       "\n",
       "\\PY{+w}{            }\\PY{c+c1}{///////////////////}\n",
       "\\PY{+w}{            }\\PY{n}{DACE\\PYZus{}GPU\\PYZus{}CHECK}\\PY{p}{(}\\PY{n}{cudaStreamSynchronize}\\PY{p}{(}\\PY{n}{\\PYZus{}\\PYZus{}state}\\PY{o}{\\PYZhy{}}\\PY{o}{\\PYZgt{}}\\PY{n}{gpu\\PYZus{}context}\\PY{o}{\\PYZhy{}}\\PY{o}{\\PYZgt{}}\\PY{n}{streams}\\PY{p}{[}\\PY{l+m+mi}{0}\\PY{p}{]}\\PY{p}{)}\\PY{p}{)}\\PY{p}{;}\n",
       "\\PY{+w}{            }\\PY{c+c1}{///////////////////}\n",
       "\n",
       "\\PY{+w}{        }\\PY{p}{\\PYZcb{}}\n",
       "\\PY{+w}{        }\\PY{p}{\\PYZob{}}\n",
       "\\PY{+w}{            }\\PY{k}{for}\\PY{+w}{ }\\PY{p}{(}\\PY{k}{auto}\\PY{+w}{ }\\PY{n}{i}\\PY{+w}{ }\\PY{o}{=}\\PY{+w}{ }\\PY{l+m+mi}{0}\\PY{p}{;}\\PY{+w}{ }\\PY{n}{i}\\PY{+w}{ }\\PY{o}{\\PYZlt{}}\\PY{+w}{ }\\PY{l+m+mi}{3}\\PY{p}{;}\\PY{+w}{ }\\PY{n}{i}\\PY{+w}{ }\\PY{o}{+}\\PY{o}{=}\\PY{+w}{ }\\PY{l+m+mi}{1}\\PY{p}{)}\\PY{+w}{ }\\PY{p}{\\PYZob{}}\n",
       "\\PY{+w}{                }\\PY{n}{\\PYZus{}\\PYZus{}dace\\PYZus{}runkernel\\PYZus{}test3\\PYZus{}10\\PYZus{}4\\PYZus{}11\\PYZus{}0\\PYZus{}0\\PYZus{}6}\\PY{p}{(}\\PY{n}{\\PYZus{}\\PYZus{}state}\\PY{p}{,}\\PY{+w}{ }\\PY{n}{C}\\PY{p}{,}\\PY{+w}{ }\\PY{n}{D}\\PY{p}{)}\\PY{p}{;}\n",
       "\\PY{+w}{            }\\PY{p}{\\PYZcb{}}\n",
       "\\PY{+w}{        }\\PY{p}{\\PYZcb{}}\n",
       "\\PY{+w}{        }\\PY{p}{\\PYZob{}}\n",
       "\n",
       "\\PY{+w}{            }\\PY{c+c1}{///////////////////}\n",
       "\\PY{+w}{            }\\PY{n}{DACE\\PYZus{}GPU\\PYZus{}CHECK}\\PY{p}{(}\\PY{n}{cudaStreamSynchronize}\\PY{p}{(}\\PY{n}{\\PYZus{}\\PYZus{}state}\\PY{o}{\\PYZhy{}}\\PY{o}{\\PYZgt{}}\\PY{n}{gpu\\PYZus{}context}\\PY{o}{\\PYZhy{}}\\PY{o}{\\PYZgt{}}\\PY{n}{streams}\\PY{p}{[}\\PY{l+m+mi}{1}\\PY{p}{]}\\PY{p}{)}\\PY{p}{)}\\PY{p}{;}\n",
       "\\PY{+w}{            }\\PY{c+c1}{///////////////////}\n",
       "\n",
       "\\PY{+w}{        }\\PY{p}{\\PYZcb{}}\n",
       "\n",
       "\\PY{+w}{    }\\PY{p}{\\PYZcb{}}\n",
       "\\PY{p}{\\PYZcb{}}\n",
       "\n",
       "\\PY{n}{DACE\\PYZus{}EXPORTED}\\PY{+w}{ }\\PY{k+kt}{void}\\PY{+w}{ }\\PY{n}{\\PYZus{}\\PYZus{}program\\PYZus{}test3}\\PY{p}{(}\\PY{n}{test3\\PYZus{}state\\PYZus{}t}\\PY{+w}{ }\\PY{o}{*}\\PY{n}{\\PYZus{}\\PYZus{}state}\\PY{p}{,}\\PY{+w}{ }\\PY{n}{dace}\\PY{o}{:}\\PY{o}{:}\\PY{n}{uint}\\PY{+w}{ }\\PY{o}{*}\\PY{+w}{ }\\PY{n}{\\PYZus{}\\PYZus{}restrict\\PYZus{}\\PYZus{}}\\PY{+w}{ }\\PY{n}{A}\\PY{p}{,}\\PY{+w}{ }\\PY{n}{dace}\\PY{o}{:}\\PY{o}{:}\\PY{n}{uint}\\PY{+w}{ }\\PY{o}{*}\\PY{+w}{ }\\PY{n}{\\PYZus{}\\PYZus{}restrict\\PYZus{}\\PYZus{}}\\PY{+w}{ }\\PY{n}{B}\\PY{p}{,}\\PY{+w}{ }\\PY{n}{dace}\\PY{o}{:}\\PY{o}{:}\\PY{n}{uint}\\PY{+w}{ }\\PY{o}{*}\\PY{+w}{ }\\PY{n}{\\PYZus{}\\PYZus{}restrict\\PYZus{}\\PYZus{}}\\PY{+w}{ }\\PY{n}{C}\\PY{p}{,}\\PY{+w}{ }\\PY{n}{dace}\\PY{o}{:}\\PY{o}{:}\\PY{n}{uint}\\PY{+w}{ }\\PY{o}{*}\\PY{+w}{ }\\PY{n}{\\PYZus{}\\PYZus{}restrict\\PYZus{}\\PYZus{}}\\PY{+w}{ }\\PY{n}{D}\\PY{p}{)}\n",
       "\\PY{p}{\\PYZob{}}\n",
       "\\PY{+w}{    }\\PY{n}{\\PYZus{}\\PYZus{}program\\PYZus{}test3\\PYZus{}internal}\\PY{p}{(}\\PY{n}{\\PYZus{}\\PYZus{}state}\\PY{p}{,}\\PY{+w}{ }\\PY{n}{A}\\PY{p}{,}\\PY{+w}{ }\\PY{n}{B}\\PY{p}{,}\\PY{+w}{ }\\PY{n}{C}\\PY{p}{,}\\PY{+w}{ }\\PY{n}{D}\\PY{p}{)}\\PY{p}{;}\n",
       "\\PY{p}{\\PYZcb{}}\n",
       "\\PY{n}{DACE\\PYZus{}EXPORTED}\\PY{+w}{ }\\PY{k+kt}{int}\\PY{+w}{ }\\PY{n}{\\PYZus{}\\PYZus{}dace\\PYZus{}init\\PYZus{}experimental\\PYZus{}cuda}\\PY{p}{(}\\PY{n}{test3\\PYZus{}state\\PYZus{}t}\\PY{+w}{ }\\PY{o}{*}\\PY{n}{\\PYZus{}\\PYZus{}state}\\PY{p}{)}\\PY{p}{;}\n",
       "\\PY{n}{DACE\\PYZus{}EXPORTED}\\PY{+w}{ }\\PY{k+kt}{int}\\PY{+w}{ }\\PY{n}{\\PYZus{}\\PYZus{}dace\\PYZus{}exit\\PYZus{}experimental\\PYZus{}cuda}\\PY{p}{(}\\PY{n}{test3\\PYZus{}state\\PYZus{}t}\\PY{+w}{ }\\PY{o}{*}\\PY{n}{\\PYZus{}\\PYZus{}state}\\PY{p}{)}\\PY{p}{;}\n",
       "\n",
       "\\PY{n}{DACE\\PYZus{}EXPORTED}\\PY{+w}{ }\\PY{n}{test3\\PYZus{}state\\PYZus{}t}\\PY{+w}{ }\\PY{o}{*}\\PY{n}{\\PYZus{}\\PYZus{}dace\\PYZus{}init\\PYZus{}test3}\\PY{p}{(}\\PY{p}{)}\n",
       "\\PY{p}{\\PYZob{}}\n",
       "\\PY{+w}{    }\\PY{k+kt}{int}\\PY{+w}{ }\\PY{n}{\\PYZus{}\\PYZus{}result}\\PY{+w}{ }\\PY{o}{=}\\PY{+w}{ }\\PY{l+m+mi}{0}\\PY{p}{;}\n",
       "\\PY{+w}{    }\\PY{n}{test3\\PYZus{}state\\PYZus{}t}\\PY{+w}{ }\\PY{o}{*}\\PY{n}{\\PYZus{}\\PYZus{}state}\\PY{+w}{ }\\PY{o}{=}\\PY{+w}{ }\\PY{k}{new}\\PY{+w}{ }\\PY{n}{test3\\PYZus{}state\\PYZus{}t}\\PY{p}{;}\n",
       "\n",
       "\n",
       "\\PY{+w}{    }\\PY{n}{\\PYZus{}\\PYZus{}result}\\PY{+w}{ }\\PY{o}{|}\\PY{o}{=}\\PY{+w}{ }\\PY{n}{\\PYZus{}\\PYZus{}dace\\PYZus{}init\\PYZus{}experimental\\PYZus{}cuda}\\PY{p}{(}\\PY{n}{\\PYZus{}\\PYZus{}state}\\PY{p}{)}\\PY{p}{;}\n",
       "\n",
       "\\PY{+w}{    }\\PY{k}{if}\\PY{+w}{ }\\PY{p}{(}\\PY{n}{\\PYZus{}\\PYZus{}result}\\PY{p}{)}\\PY{+w}{ }\\PY{p}{\\PYZob{}}\n",
       "\\PY{+w}{        }\\PY{k}{delete}\\PY{+w}{ }\\PY{n}{\\PYZus{}\\PYZus{}state}\\PY{p}{;}\n",
       "\\PY{+w}{        }\\PY{k}{return}\\PY{+w}{ }\\PY{k}{nullptr}\\PY{p}{;}\n",
       "\\PY{+w}{    }\\PY{p}{\\PYZcb{}}\n",
       "\\PY{+w}{    }\\PY{k}{return}\\PY{+w}{ }\\PY{n}{\\PYZus{}\\PYZus{}state}\\PY{p}{;}\n",
       "\\PY{p}{\\PYZcb{}}\n",
       "\n",
       "\\PY{n}{DACE\\PYZus{}EXPORTED}\\PY{+w}{ }\\PY{k+kt}{int}\\PY{+w}{ }\\PY{n}{\\PYZus{}\\PYZus{}dace\\PYZus{}exit\\PYZus{}test3}\\PY{p}{(}\\PY{n}{test3\\PYZus{}state\\PYZus{}t}\\PY{+w}{ }\\PY{o}{*}\\PY{n}{\\PYZus{}\\PYZus{}state}\\PY{p}{)}\n",
       "\\PY{p}{\\PYZob{}}\n",
       "\\PY{+w}{    }\\PY{k+kt}{int}\\PY{+w}{ }\\PY{n}{\\PYZus{}\\PYZus{}err}\\PY{+w}{ }\\PY{o}{=}\\PY{+w}{ }\\PY{l+m+mi}{0}\\PY{p}{;}\n",
       "\n",
       "\\PY{+w}{    }\\PY{k+kt}{int}\\PY{+w}{ }\\PY{n}{\\PYZus{}\\PYZus{}err\\PYZus{}experimental\\PYZus{}cuda}\\PY{+w}{ }\\PY{o}{=}\\PY{+w}{ }\\PY{n}{\\PYZus{}\\PYZus{}dace\\PYZus{}exit\\PYZus{}experimental\\PYZus{}cuda}\\PY{p}{(}\\PY{n}{\\PYZus{}\\PYZus{}state}\\PY{p}{)}\\PY{p}{;}\n",
       "\\PY{+w}{    }\\PY{k}{if}\\PY{+w}{ }\\PY{p}{(}\\PY{n}{\\PYZus{}\\PYZus{}err\\PYZus{}experimental\\PYZus{}cuda}\\PY{p}{)}\\PY{+w}{ }\\PY{p}{\\PYZob{}}\n",
       "\\PY{+w}{        }\\PY{n}{\\PYZus{}\\PYZus{}err}\\PY{+w}{ }\\PY{o}{=}\\PY{+w}{ }\\PY{n}{\\PYZus{}\\PYZus{}err\\PYZus{}experimental\\PYZus{}cuda}\\PY{p}{;}\n",
       "\\PY{+w}{    }\\PY{p}{\\PYZcb{}}\n",
       "\\PY{+w}{    }\\PY{k}{delete}\\PY{+w}{ }\\PY{n}{\\PYZus{}\\PYZus{}state}\\PY{p}{;}\n",
       "\\PY{+w}{    }\\PY{k}{return}\\PY{+w}{ }\\PY{n}{\\PYZus{}\\PYZus{}err}\\PY{p}{;}\n",
       "\\PY{p}{\\PYZcb{}}\n",
       "\\end{Verbatim}\n"
      ],
      "text/plain": [
       "/* DaCe AUTO-GENERATED FILE. DO NOT MODIFY */\n",
       "#include <dace/dace.h>\n",
       "#include \"../../include/hash.h\"\n",
       "\n",
       "struct test3_state_t {\n",
       "    dace::cuda::Context *gpu_context;\n",
       "};\n",
       "\n",
       "DACE_EXPORTED void __dace_runkernel_test3_10_4_11_0_0_6(test3_state_t *__state, dace::uint * __restrict__ C, dace::uint * __restrict__ D);\n",
       "void __program_test3_internal(test3_state_t*__state, dace::uint * __restrict__ A, dace::uint * __restrict__ B, dace::uint * __restrict__ C, dace::uint * __restrict__ D)\n",
       "{\n",
       "\n",
       "    {\n",
       "\n",
       "        DACE_GPU_CHECK(cudaMemcpyAsync(A, B, 10 * sizeof(dace::uint), cudaMemcpyDeviceToDevice, __state->gpu_context->streams[0]));\n",
       "        {\n",
       "\n",
       "            ///////////////////\n",
       "            DACE_GPU_CHECK(cudaStreamSynchronize(__state->gpu_context->streams[0]));\n",
       "            ///////////////////\n",
       "\n",
       "        }\n",
       "        {\n",
       "            for (auto i = 0; i < 3; i += 1) {\n",
       "                __dace_runkernel_test3_10_4_11_0_0_6(__state, C, D);\n",
       "            }\n",
       "        }\n",
       "        {\n",
       "\n",
       "            ///////////////////\n",
       "            DACE_GPU_CHECK(cudaStreamSynchronize(__state->gpu_context->streams[1]));\n",
       "            ///////////////////\n",
       "\n",
       "        }\n",
       "\n",
       "    }\n",
       "}\n",
       "\n",
       "DACE_EXPORTED void __program_test3(test3_state_t *__state, dace::uint * __restrict__ A, dace::uint * __restrict__ B, dace::uint * __restrict__ C, dace::uint * __restrict__ D)\n",
       "{\n",
       "    __program_test3_internal(__state, A, B, C, D);\n",
       "}\n",
       "DACE_EXPORTED int __dace_init_experimental_cuda(test3_state_t *__state);\n",
       "DACE_EXPORTED int __dace_exit_experimental_cuda(test3_state_t *__state);\n",
       "\n",
       "DACE_EXPORTED test3_state_t *__dace_init_test3()\n",
       "{\n",
       "    int __result = 0;\n",
       "    test3_state_t *__state = new test3_state_t;\n",
       "\n",
       "\n",
       "    __result |= __dace_init_experimental_cuda(__state);\n",
       "\n",
       "    if (__result) {\n",
       "        delete __state;\n",
       "        return nullptr;\n",
       "    }\n",
       "    return __state;\n",
       "}\n",
       "\n",
       "DACE_EXPORTED int __dace_exit_test3(test3_state_t *__state)\n",
       "{\n",
       "    int __err = 0;\n",
       "\n",
       "    int __err_experimental_cuda = __dace_exit_experimental_cuda(__state);\n",
       "    if (__err_experimental_cuda) {\n",
       "        __err = __err_experimental_cuda;\n",
       "    }\n",
       "    delete __state;\n",
       "    return __err;\n",
       "}"
      ]
     },
     "execution_count": 10,
     "metadata": {},
     "output_type": "execute_result"
    }
   ],
   "source": [
    "Code(sdfg.generate_code()[0].clean_code, language='cpp')"
   ]
  },
  {
   "cell_type": "code",
   "execution_count": null,
   "id": "a029d5a5",
   "metadata": {},
   "outputs": [],
   "source": [
    "Code(sdfg.generate_code()[1].clean_code, language='cpp')"
   ]
  }
 ],
 "metadata": {
  "kernelspec": {
   "display_name": "dace_env",
   "language": "python",
   "name": "python3"
  },
  "language_info": {
   "codemirror_mode": {
    "name": "ipython",
    "version": 3
   },
   "file_extension": ".py",
   "mimetype": "text/x-python",
   "name": "python",
   "nbconvert_exporter": "python",
   "pygments_lexer": "ipython3",
   "version": "3.12.3"
  }
 },
 "nbformat": 4,
 "nbformat_minor": 5
}
