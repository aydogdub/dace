{
 "cells": [
  {
   "cell_type": "code",
   "execution_count": 1,
   "id": "f4d111db",
   "metadata": {},
   "outputs": [
    {
     "data": {
      "text/html": [
       "<script src=\"https://spcl.github.io/dace-webclient/dist/sdfv.js\"></script>\n"
      ],
      "text/plain": [
       "<IPython.core.display.HTML object>"
      ]
     },
     "metadata": {},
     "output_type": "display_data"
    }
   ],
   "source": [
    "import dace\n",
    "from IPython.display import Code\n",
    "from dace.transformation import pass_pipeline\n"
   ]
  },
  {
   "cell_type": "markdown",
   "id": "7bdf4ea6",
   "metadata": {},
   "source": [
    "Here you can choose any of the 3 following programs to see how the sdfg assigns streams and how it adds synchronization tasklets if required.\n",
    "You can, if you wish, also change e.g. the StorageType of one input- as long as you don't choose a strategy where the GPU is not used (e.g. a direct CPU\n",
    "to CPU copy), a synchronization tasklet should be added. \n",
    "\n",
    "Note: test1 is a special case - where we have only one connected component. I thought it would be cool if we just use the default nullptr in this case instead of \n",
    "creating a stream."
   ]
  },
  {
   "cell_type": "code",
   "execution_count": 2,
   "id": "3dfa8ad3",
   "metadata": {},
   "outputs": [],
   "source": [
    "@dace.program\n",
    "def test1(A: dace.uint32[10] @ dace.dtypes.StorageType.GPU_Global,\n",
    "          B: dace.uint32[10] @ dace.dtypes.StorageType.GPU_Global\n",
    "         ):\n",
    "    A[:] = B[:]"
   ]
  },
  {
   "cell_type": "code",
   "execution_count": 3,
   "id": "ad689f3d",
   "metadata": {},
   "outputs": [],
   "source": [
    "@dace.program\n",
    "def test2(A: dace.uint32[10] @ dace.dtypes.StorageType.GPU_Global,\n",
    "         B: dace.uint32[10] @ dace.dtypes.StorageType.GPU_Global,\n",
    "         C: dace.uint32[10] @ dace.dtypes.StorageType.GPU_Global,\n",
    "         D: dace.uint32[10] @ dace.dtypes.StorageType.GPU_Global\n",
    "         ):\n",
    "    \n",
    "    for i in dace.map[0:10] @ dace.dtypes.ScheduleType.GPU_Device:\n",
    "        A[i] = B[i]\n",
    "    \n",
    "    for j in dace.map[0:10] @ dace.dtypes.ScheduleType.GPU_Device:\n",
    "        C[j] = D[j]"
   ]
  },
  {
   "cell_type": "code",
   "execution_count": 4,
   "id": "104de517",
   "metadata": {},
   "outputs": [],
   "source": [
    "@dace.program\n",
    "def test3(A: dace.uint32[10] @ dace.dtypes.StorageType.GPU_Global,\n",
    "          B: dace.uint32[10] @ dace.dtypes.StorageType.GPU_Global,\n",
    "          C: dace.uint32[10] @ dace.dtypes.StorageType.GPU_Global,\n",
    "          D: dace.uint32[10] @ dace.dtypes.StorageType.GPU_Global\n",
    "         ):\n",
    "    \n",
    "    A[:] = B[:]\n",
    "    \n",
    "    for i in dace.map[0:3] @ dace.dtypes.ScheduleType.Sequential:\n",
    "        for j in dace.map[0:10] @ dace.dtypes.ScheduleType.GPU_Device:\n",
    "            C[j] = D[j]"
   ]
  },
  {
   "cell_type": "markdown",
   "id": "3ce0f3af",
   "metadata": {},
   "source": [
    "Choose which program you want to select for generating the sdfg below. It will give you the sdfg, without any snychronization tasklets.\n",
    "The old codegen, would figure out where synchronization has to occur. We will make this explicit, as you wanted :)."
   ]
  },
  {
   "cell_type": "code",
   "execution_count": 5,
   "id": "5ba1505c",
   "metadata": {},
   "outputs": [
    {
     "data": {
      "text/html": [
       "\n",
       "<div class=\"sdfv\">\n",
       "<div id=\"contents_2726111603322000412\" style=\"position: relative; resize: vertical; overflow: auto\"></div>\n",
       "</div>\n",
       "<script>\n",
       "    var sdfg_2726111603322000412 = \"{\\n  \\\"type\\\": \\\"SDFG\\\",\\n  \\\"attributes\\\": {\\n    \\\"name\\\": \\\"test3\\\",\\n    \\\"arg_names\\\": [\\n      \\\"A\\\",\\n      \\\"B\\\",\\n      \\\"C\\\",\\n      \\\"D\\\"\\n    ],\\n    \\\"_arrays\\\": {\\n      \\\"A\\\": {\\n        \\\"type\\\": \\\"Array\\\",\\n        \\\"attributes\\\": {\\n          \\\"strides\\\": [\\n            \\\"1\\\"\\n          ],\\n          \\\"total_size\\\": \\\"10\\\",\\n          \\\"offset\\\": [\\n            \\\"0\\\"\\n          ],\\n          \\\"optional\\\": false,\\n          \\\"dtype\\\": \\\"uint32\\\",\\n          \\\"shape\\\": [\\n            \\\"10\\\"\\n          ],\\n          \\\"storage\\\": \\\"GPU_Global\\\",\\n          \\\"debuginfo\\\": null\\n        }\\n      },\\n      \\\"B\\\": {\\n        \\\"type\\\": \\\"Array\\\",\\n        \\\"attributes\\\": {\\n          \\\"strides\\\": [\\n            \\\"1\\\"\\n          ],\\n          \\\"total_size\\\": \\\"10\\\",\\n          \\\"offset\\\": [\\n            \\\"0\\\"\\n          ],\\n          \\\"optional\\\": false,\\n          \\\"dtype\\\": \\\"uint32\\\",\\n          \\\"shape\\\": [\\n            \\\"10\\\"\\n          ],\\n          \\\"storage\\\": \\\"GPU_Global\\\",\\n          \\\"debuginfo\\\": null\\n        }\\n      },\\n      \\\"C\\\": {\\n        \\\"type\\\": \\\"Array\\\",\\n        \\\"attributes\\\": {\\n          \\\"strides\\\": [\\n            \\\"1\\\"\\n          ],\\n          \\\"total_size\\\": \\\"10\\\",\\n          \\\"offset\\\": [\\n            \\\"0\\\"\\n          ],\\n          \\\"optional\\\": false,\\n          \\\"dtype\\\": \\\"uint32\\\",\\n          \\\"shape\\\": [\\n            \\\"10\\\"\\n          ],\\n          \\\"storage\\\": \\\"GPU_Global\\\",\\n          \\\"debuginfo\\\": null\\n        }\\n      },\\n      \\\"D\\\": {\\n        \\\"type\\\": \\\"Array\\\",\\n        \\\"attributes\\\": {\\n          \\\"strides\\\": [\\n            \\\"1\\\"\\n          ],\\n          \\\"total_size\\\": \\\"10\\\",\\n          \\\"offset\\\": [\\n            \\\"0\\\"\\n          ],\\n          \\\"optional\\\": false,\\n          \\\"dtype\\\": \\\"uint32\\\",\\n          \\\"shape\\\": [\\n            \\\"10\\\"\\n          ],\\n          \\\"storage\\\": \\\"GPU_Global\\\",\\n          \\\"debuginfo\\\": null\\n        }\\n      }\\n    },\\n    \\\"global_code\\\": {\\n      \\\"frame\\\": {\\n        \\\"string_data\\\": \\\"\\\",\\n        \\\"language\\\": \\\"CPP\\\"\\n      }\\n    },\\n    \\\"init_code\\\": {\\n      \\\"frame\\\": {\\n        \\\"string_data\\\": \\\"\\\",\\n        \\\"language\\\": \\\"CPP\\\"\\n      }\\n    },\\n    \\\"exit_code\\\": {\\n      \\\"frame\\\": {\\n        \\\"string_data\\\": \\\"\\\",\\n        \\\"language\\\": \\\"CPP\\\"\\n      }\\n    },\\n    \\\"debuginfo\\\": {\\n      \\\"type\\\": \\\"DebugInfo\\\",\\n      \\\"start_line\\\": 1,\\n      \\\"end_line\\\": 12,\\n      \\\"start_column\\\": 0,\\n      \\\"end_column\\\": 0,\\n      \\\"filename\\\": \\\"/tmp/ipykernel_34901/1354861503.py\\\"\\n    },\\n    \\\"using_explicit_control_flow\\\": true,\\n    \\\"guid\\\": \\\"bbbd5be9-8bec-48b7-bb96-a4bfbee409a1\\\"\\n  },\\n  \\\"nodes\\\": [\\n    {\\n      \\\"type\\\": \\\"SDFGState\\\",\\n      \\\"label\\\": \\\"assign_8_4\\\",\\n      \\\"id\\\": 0,\\n      \\\"collapsed\\\": false,\\n      \\\"scope_dict\\\": {\\n        \\\"-1\\\": [\\n          0,\\n          1,\\n          2,\\n          4,\\n          5\\n        ],\\n        \\\"2\\\": [\\n          3,\\n          6\\n        ],\\n        \\\"6\\\": [\\n          7,\\n          8\\n        ]\\n      },\\n      \\\"nodes\\\": [\\n        {\\n          \\\"type\\\": \\\"AccessNode\\\",\\n          \\\"label\\\": \\\"A\\\",\\n          \\\"attributes\\\": {\\n            \\\"debuginfo\\\": {\\n              \\\"type\\\": \\\"DebugInfo\\\",\\n              \\\"start_line\\\": 8,\\n              \\\"end_line\\\": 8,\\n              \\\"start_column\\\": 11,\\n              \\\"end_column\\\": 11,\\n              \\\"filename\\\": \\\"/tmp/ipykernel_34901/1354861503.py\\\"\\n            },\\n            \\\"data\\\": \\\"A\\\",\\n            \\\"guid\\\": \\\"388f7e45-3ba6-4268-acb9-a5de58b5ecca\\\"\\n          },\\n          \\\"id\\\": 0,\\n          \\\"scope_entry\\\": null,\\n          \\\"scope_exit\\\": null\\n        },\\n        {\\n          \\\"type\\\": \\\"AccessNode\\\",\\n          \\\"label\\\": \\\"B\\\",\\n          \\\"attributes\\\": {\\n            \\\"debuginfo\\\": {\\n              \\\"type\\\": \\\"DebugInfo\\\",\\n              \\\"start_line\\\": 1291,\\n              \\\"end_line\\\": 1291,\\n              \\\"start_column\\\": 0,\\n              \\\"end_column\\\": 0,\\n              \\\"filename\\\": \\\"/home/berkay/master-thesis/dace/dace/frontend/python/newast.py\\\"\\n            },\\n            \\\"data\\\": \\\"B\\\",\\n            \\\"guid\\\": \\\"d1c86055-9681-4ed6-ad94-5e3901baf814\\\"\\n          },\\n          \\\"id\\\": 1,\\n          \\\"scope_entry\\\": null,\\n          \\\"scope_exit\\\": null\\n        },\\n        {\\n          \\\"type\\\": \\\"MapEntry\\\",\\n          \\\"label\\\": \\\"test3_10[i=0:3]\\\",\\n          \\\"attributes\\\": {\\n            \\\"label\\\": \\\"test3_10\\\",\\n            \\\"params\\\": [\\n              \\\"i\\\"\\n            ],\\n            \\\"range\\\": {\\n              \\\"type\\\": \\\"Range\\\",\\n              \\\"ranges\\\": [\\n                {\\n                  \\\"start\\\": \\\"0\\\",\\n                  \\\"end\\\": \\\"2\\\",\\n                  \\\"step\\\": \\\"1\\\",\\n                  \\\"tile\\\": \\\"1\\\"\\n                }\\n              ]\\n            },\\n            \\\"schedule\\\": \\\"Sequential\\\",\\n            \\\"debuginfo\\\": {\\n              \\\"type\\\": \\\"DebugInfo\\\",\\n              \\\"start_line\\\": 10,\\n              \\\"end_line\\\": 10,\\n              \\\"start_column\\\": 4,\\n              \\\"end_column\\\": 4,\\n              \\\"filename\\\": \\\"/tmp/ipykernel_34901/1354861503.py\\\"\\n            },\\n            \\\"in_connectors\\\": {\\n              \\\"IN_D\\\": null\\n            },\\n            \\\"out_connectors\\\": {\\n              \\\"OUT_D\\\": null\\n            },\\n            \\\"guid\\\": \\\"7ab65458-90ec-45b8-97f0-6a46b3f62567\\\"\\n          },\\n          \\\"id\\\": 2,\\n          \\\"scope_entry\\\": null,\\n          \\\"scope_exit\\\": \\\"3\\\"\\n        },\\n        {\\n          \\\"type\\\": \\\"MapExit\\\",\\n          \\\"label\\\": \\\"test3_10[i=0:3]\\\",\\n          \\\"attributes\\\": {\\n            \\\"in_connectors\\\": {\\n              \\\"IN_C\\\": null\\n            },\\n            \\\"out_connectors\\\": {\\n              \\\"OUT_C\\\": null\\n            },\\n            \\\"guid\\\": \\\"7b90919e-7db9-4ca3-8cd2-441ed55276a2\\\"\\n          },\\n          \\\"id\\\": 3,\\n          \\\"scope_entry\\\": \\\"2\\\",\\n          \\\"scope_exit\\\": \\\"3\\\"\\n        },\\n        {\\n          \\\"type\\\": \\\"AccessNode\\\",\\n          \\\"label\\\": \\\"D\\\",\\n          \\\"attributes\\\": {\\n            \\\"debuginfo\\\": {\\n              \\\"type\\\": \\\"DebugInfo\\\",\\n              \\\"start_line\\\": 10,\\n              \\\"end_line\\\": 10,\\n              \\\"start_column\\\": 4,\\n              \\\"end_column\\\": 4,\\n              \\\"filename\\\": \\\"/tmp/ipykernel_34901/1354861503.py\\\"\\n            },\\n            \\\"data\\\": \\\"D\\\",\\n            \\\"guid\\\": \\\"029230b8-344c-42c7-b3a9-cac8efb05bb2\\\"\\n          },\\n          \\\"id\\\": 4,\\n          \\\"scope_entry\\\": null,\\n          \\\"scope_exit\\\": null\\n        },\\n        {\\n          \\\"type\\\": \\\"AccessNode\\\",\\n          \\\"label\\\": \\\"C\\\",\\n          \\\"attributes\\\": {\\n            \\\"debuginfo\\\": {\\n              \\\"type\\\": \\\"DebugInfo\\\",\\n              \\\"start_line\\\": 10,\\n              \\\"end_line\\\": 10,\\n              \\\"start_column\\\": 4,\\n              \\\"end_column\\\": 4,\\n              \\\"filename\\\": \\\"/tmp/ipykernel_34901/1354861503.py\\\"\\n            },\\n            \\\"data\\\": \\\"C\\\",\\n            \\\"guid\\\": \\\"332c8d9b-61f8-42aa-9eae-aa22e65555b9\\\"\\n          },\\n          \\\"id\\\": 5,\\n          \\\"scope_entry\\\": null,\\n          \\\"scope_exit\\\": null\\n        },\\n        {\\n          \\\"type\\\": \\\"MapEntry\\\",\\n          \\\"label\\\": \\\"test3_10_4_11[j=0:10]\\\",\\n          \\\"attributes\\\": {\\n            \\\"label\\\": \\\"test3_10_4_11\\\",\\n            \\\"params\\\": [\\n              \\\"j\\\"\\n            ],\\n            \\\"range\\\": {\\n              \\\"type\\\": \\\"Range\\\",\\n              \\\"ranges\\\": [\\n                {\\n                  \\\"start\\\": \\\"0\\\",\\n                  \\\"end\\\": \\\"9\\\",\\n                  \\\"step\\\": \\\"1\\\",\\n                  \\\"tile\\\": \\\"1\\\"\\n                }\\n              ]\\n            },\\n            \\\"schedule\\\": \\\"GPU_Device\\\",\\n            \\\"debuginfo\\\": {\\n              \\\"type\\\": \\\"DebugInfo\\\",\\n              \\\"start_line\\\": 11,\\n              \\\"end_line\\\": 11,\\n              \\\"start_column\\\": 8,\\n              \\\"end_column\\\": 8,\\n              \\\"filename\\\": \\\"/tmp/ipykernel_34901/1354861503.py\\\"\\n            },\\n            \\\"in_connectors\\\": {\\n              \\\"IN___tmp_12_19_r_in_from_1_0\\\": null\\n            },\\n            \\\"out_connectors\\\": {\\n              \\\"OUT___tmp_12_19_r_in_from_1_0\\\": null\\n            },\\n            \\\"guid\\\": \\\"76d280df-eb78-4bbe-9090-e7cfc1773d8a\\\"\\n          },\\n          \\\"id\\\": 6,\\n          \\\"scope_entry\\\": \\\"2\\\",\\n          \\\"scope_exit\\\": \\\"7\\\"\\n        },\\n        {\\n          \\\"type\\\": \\\"MapExit\\\",\\n          \\\"label\\\": \\\"test3_10_4_11[j=0:10]\\\",\\n          \\\"attributes\\\": {\\n            \\\"in_connectors\\\": {\\n              \\\"IN___tmp_12_12_w_out_of_1_1\\\": null\\n            },\\n            \\\"out_connectors\\\": {\\n              \\\"OUT___tmp_12_12_w_out_of_1_1\\\": null\\n            },\\n            \\\"guid\\\": \\\"c05e46bd-aae9-46eb-b406-08acb2702965\\\"\\n          },\\n          \\\"id\\\": 7,\\n          \\\"scope_entry\\\": \\\"6\\\",\\n          \\\"scope_exit\\\": \\\"7\\\"\\n        },\\n        {\\n          \\\"type\\\": \\\"Tasklet\\\",\\n          \\\"label\\\": \\\"assign_12_12\\\",\\n          \\\"attributes\\\": {\\n            \\\"code\\\": {\\n              \\\"string_data\\\": \\\"__out = __inp\\\",\\n              \\\"language\\\": \\\"Python\\\"\\n            },\\n            \\\"debuginfo\\\": {\\n              \\\"type\\\": \\\"DebugInfo\\\",\\n              \\\"start_line\\\": 12,\\n              \\\"end_line\\\": 12,\\n              \\\"start_column\\\": 14,\\n              \\\"end_column\\\": 14,\\n              \\\"filename\\\": \\\"/tmp/ipykernel_34901/1354861503.py\\\"\\n            },\\n            \\\"label\\\": \\\"assign_12_12\\\",\\n            \\\"in_connectors\\\": {\\n              \\\"__inp\\\": null\\n            },\\n            \\\"out_connectors\\\": {\\n              \\\"__out\\\": null\\n            },\\n            \\\"guid\\\": \\\"91ab1451-2408-4c41-84e4-60ab62c0e94c\\\"\\n          },\\n          \\\"id\\\": 8,\\n          \\\"scope_entry\\\": \\\"6\\\",\\n          \\\"scope_exit\\\": \\\"7\\\"\\n        }\\n      ],\\n      \\\"edges\\\": [\\n        {\\n          \\\"type\\\": \\\"MultiConnectorEdge\\\",\\n          \\\"attributes\\\": {\\n            \\\"data\\\": {\\n              \\\"type\\\": \\\"Memlet\\\",\\n              \\\"attributes\\\": {\\n                \\\"volume\\\": \\\"10\\\",\\n                \\\"subset\\\": {\\n                  \\\"type\\\": \\\"Range\\\",\\n                  \\\"ranges\\\": [\\n                    {\\n                      \\\"start\\\": \\\"0\\\",\\n                      \\\"end\\\": \\\"9\\\",\\n                      \\\"step\\\": \\\"1\\\",\\n                      \\\"tile\\\": \\\"1\\\"\\n                    }\\n                  ]\\n                },\\n                \\\"other_subset\\\": {\\n                  \\\"type\\\": \\\"Range\\\",\\n                  \\\"ranges\\\": [\\n                    {\\n                      \\\"start\\\": \\\"0\\\",\\n                      \\\"end\\\": \\\"9\\\",\\n                      \\\"step\\\": \\\"1\\\",\\n                      \\\"tile\\\": \\\"1\\\"\\n                    }\\n                  ]\\n                },\\n                \\\"data\\\": \\\"A\\\",\\n                \\\"debuginfo\\\": null,\\n                \\\"guid\\\": \\\"2f8a7303-0fc4-45a5-a185-6a12f07583fd\\\",\\n                \\\"src_subset\\\": {\\n                  \\\"type\\\": \\\"Range\\\",\\n                  \\\"ranges\\\": [\\n                    {\\n                      \\\"start\\\": \\\"0\\\",\\n                      \\\"end\\\": \\\"9\\\",\\n                      \\\"step\\\": \\\"1\\\",\\n                      \\\"tile\\\": \\\"1\\\"\\n                    }\\n                  ]\\n                },\\n                \\\"dst_subset\\\": {\\n                  \\\"type\\\": \\\"Range\\\",\\n                  \\\"ranges\\\": [\\n                    {\\n                      \\\"start\\\": \\\"0\\\",\\n                      \\\"end\\\": \\\"9\\\",\\n                      \\\"step\\\": \\\"1\\\",\\n                      \\\"tile\\\": \\\"1\\\"\\n                    }\\n                  ]\\n                },\\n                \\\"is_data_src\\\": false,\\n                \\\"num_accesses\\\": \\\"10\\\"\\n              }\\n            }\\n          },\\n          \\\"src\\\": \\\"1\\\",\\n          \\\"dst\\\": \\\"0\\\",\\n          \\\"dst_connector\\\": null,\\n          \\\"src_connector\\\": null\\n        },\\n        {\\n          \\\"type\\\": \\\"MultiConnectorEdge\\\",\\n          \\\"attributes\\\": {\\n            \\\"data\\\": {\\n              \\\"type\\\": \\\"Memlet\\\",\\n              \\\"attributes\\\": {\\n                \\\"volume\\\": \\\"30\\\",\\n                \\\"subset\\\": {\\n                  \\\"type\\\": \\\"Range\\\",\\n                  \\\"ranges\\\": [\\n                    {\\n                      \\\"start\\\": \\\"0\\\",\\n                      \\\"end\\\": \\\"9\\\",\\n                      \\\"step\\\": \\\"1\\\",\\n                      \\\"tile\\\": \\\"1\\\"\\n                    }\\n                  ]\\n                },\\n                \\\"data\\\": \\\"D\\\",\\n                \\\"debuginfo\\\": null,\\n                \\\"guid\\\": \\\"3d676750-ff04-449e-9282-d0e7f4648653\\\",\\n                \\\"src_subset\\\": {\\n                  \\\"type\\\": \\\"Range\\\",\\n                  \\\"ranges\\\": [\\n                    {\\n                      \\\"start\\\": \\\"0\\\",\\n                      \\\"end\\\": \\\"9\\\",\\n                      \\\"step\\\": \\\"1\\\",\\n                      \\\"tile\\\": \\\"1\\\"\\n                    }\\n                  ]\\n                },\\n                \\\"dst_subset\\\": null,\\n                \\\"is_data_src\\\": true,\\n                \\\"num_accesses\\\": \\\"30\\\"\\n              }\\n            }\\n          },\\n          \\\"src\\\": \\\"4\\\",\\n          \\\"dst\\\": \\\"2\\\",\\n          \\\"dst_connector\\\": \\\"IN_D\\\",\\n          \\\"src_connector\\\": null\\n        },\\n        {\\n          \\\"type\\\": \\\"MultiConnectorEdge\\\",\\n          \\\"attributes\\\": {\\n            \\\"data\\\": {\\n              \\\"type\\\": \\\"Memlet\\\",\\n              \\\"attributes\\\": {\\n                \\\"volume\\\": \\\"30\\\",\\n                \\\"subset\\\": {\\n                  \\\"type\\\": \\\"Range\\\",\\n                  \\\"ranges\\\": [\\n                    {\\n                      \\\"start\\\": \\\"0\\\",\\n                      \\\"end\\\": \\\"9\\\",\\n                      \\\"step\\\": \\\"1\\\",\\n                      \\\"tile\\\": \\\"1\\\"\\n                    }\\n                  ]\\n                },\\n                \\\"data\\\": \\\"C\\\",\\n                \\\"debuginfo\\\": null,\\n                \\\"guid\\\": \\\"bf1f8221-7dcc-4451-8306-324358319ba6\\\",\\n                \\\"src_subset\\\": null,\\n                \\\"dst_subset\\\": {\\n                  \\\"type\\\": \\\"Range\\\",\\n                  \\\"ranges\\\": [\\n                    {\\n                      \\\"start\\\": \\\"0\\\",\\n                      \\\"end\\\": \\\"9\\\",\\n                      \\\"step\\\": \\\"1\\\",\\n                      \\\"tile\\\": \\\"1\\\"\\n                    }\\n                  ]\\n                },\\n                \\\"is_data_src\\\": false,\\n                \\\"num_accesses\\\": \\\"30\\\"\\n              }\\n            }\\n          },\\n          \\\"src\\\": \\\"3\\\",\\n          \\\"dst\\\": \\\"5\\\",\\n          \\\"dst_connector\\\": null,\\n          \\\"src_connector\\\": \\\"OUT_C\\\"\\n        },\\n        {\\n          \\\"type\\\": \\\"MultiConnectorEdge\\\",\\n          \\\"attributes\\\": {\\n            \\\"data\\\": {\\n              \\\"type\\\": \\\"Memlet\\\",\\n              \\\"attributes\\\": {\\n                \\\"volume\\\": \\\"10\\\",\\n                \\\"subset\\\": {\\n                  \\\"type\\\": \\\"Range\\\",\\n                  \\\"ranges\\\": [\\n                    {\\n                      \\\"start\\\": \\\"0\\\",\\n                      \\\"end\\\": \\\"9\\\",\\n                      \\\"step\\\": \\\"1\\\",\\n                      \\\"tile\\\": \\\"1\\\"\\n                    }\\n                  ]\\n                },\\n                \\\"data\\\": \\\"D\\\",\\n                \\\"debuginfo\\\": null,\\n                \\\"guid\\\": \\\"66f195dd-651e-4060-a7db-a0478cc87bcb\\\",\\n                \\\"src_subset\\\": {\\n                  \\\"type\\\": \\\"Range\\\",\\n                  \\\"ranges\\\": [\\n                    {\\n                      \\\"start\\\": \\\"0\\\",\\n                      \\\"end\\\": \\\"9\\\",\\n                      \\\"step\\\": \\\"1\\\",\\n                      \\\"tile\\\": \\\"1\\\"\\n                    }\\n                  ]\\n                },\\n                \\\"dst_subset\\\": null,\\n                \\\"is_data_src\\\": true,\\n                \\\"num_accesses\\\": \\\"10\\\"\\n              }\\n            }\\n          },\\n          \\\"src\\\": \\\"2\\\",\\n          \\\"dst\\\": \\\"6\\\",\\n          \\\"dst_connector\\\": \\\"IN___tmp_12_19_r_in_from_1_0\\\",\\n          \\\"src_connector\\\": \\\"OUT_D\\\"\\n        },\\n        {\\n          \\\"type\\\": \\\"MultiConnectorEdge\\\",\\n          \\\"attributes\\\": {\\n            \\\"data\\\": {\\n              \\\"type\\\": \\\"Memlet\\\",\\n              \\\"attributes\\\": {\\n                \\\"volume\\\": \\\"10\\\",\\n                \\\"subset\\\": {\\n                  \\\"type\\\": \\\"Range\\\",\\n                  \\\"ranges\\\": [\\n                    {\\n                      \\\"start\\\": \\\"0\\\",\\n                      \\\"end\\\": \\\"9\\\",\\n                      \\\"step\\\": \\\"1\\\",\\n                      \\\"tile\\\": \\\"1\\\"\\n                    }\\n                  ]\\n                },\\n                \\\"data\\\": \\\"C\\\",\\n                \\\"debuginfo\\\": null,\\n                \\\"guid\\\": \\\"0f1dcc18-5658-4d5d-b9cc-0041311e24ff\\\",\\n                \\\"src_subset\\\": null,\\n                \\\"dst_subset\\\": {\\n                  \\\"type\\\": \\\"Range\\\",\\n                  \\\"ranges\\\": [\\n                    {\\n                      \\\"start\\\": \\\"0\\\",\\n                      \\\"end\\\": \\\"9\\\",\\n                      \\\"step\\\": \\\"1\\\",\\n                      \\\"tile\\\": \\\"1\\\"\\n                    }\\n                  ]\\n                },\\n                \\\"is_data_src\\\": false,\\n                \\\"num_accesses\\\": \\\"10\\\"\\n              }\\n            }\\n          },\\n          \\\"src\\\": \\\"7\\\",\\n          \\\"dst\\\": \\\"3\\\",\\n          \\\"dst_connector\\\": \\\"IN_C\\\",\\n          \\\"src_connector\\\": \\\"OUT___tmp_12_12_w_out_of_1_1\\\"\\n        },\\n        {\\n          \\\"type\\\": \\\"MultiConnectorEdge\\\",\\n          \\\"attributes\\\": {\\n            \\\"data\\\": {\\n              \\\"type\\\": \\\"Memlet\\\",\\n              \\\"attributes\\\": {\\n                \\\"volume\\\": \\\"1\\\",\\n                \\\"subset\\\": {\\n                  \\\"type\\\": \\\"Range\\\",\\n                  \\\"ranges\\\": [\\n                    {\\n                      \\\"start\\\": \\\"j\\\",\\n                      \\\"end\\\": \\\"j\\\",\\n                      \\\"step\\\": \\\"1\\\",\\n                      \\\"tile\\\": \\\"1\\\"\\n                    }\\n                  ]\\n                },\\n                \\\"data\\\": \\\"D\\\",\\n                \\\"debuginfo\\\": null,\\n                \\\"guid\\\": \\\"e0304fdd-57ea-43e9-b134-0073cc295398\\\",\\n                \\\"src_subset\\\": {\\n                  \\\"type\\\": \\\"Range\\\",\\n                  \\\"ranges\\\": [\\n                    {\\n                      \\\"start\\\": \\\"j\\\",\\n                      \\\"end\\\": \\\"j\\\",\\n                      \\\"step\\\": \\\"1\\\",\\n                      \\\"tile\\\": \\\"1\\\"\\n                    }\\n                  ]\\n                },\\n                \\\"dst_subset\\\": null,\\n                \\\"is_data_src\\\": true,\\n                \\\"num_accesses\\\": \\\"1\\\"\\n              }\\n            }\\n          },\\n          \\\"src\\\": \\\"6\\\",\\n          \\\"dst\\\": \\\"8\\\",\\n          \\\"dst_connector\\\": \\\"__inp\\\",\\n          \\\"src_connector\\\": \\\"OUT___tmp_12_19_r_in_from_1_0\\\"\\n        },\\n        {\\n          \\\"type\\\": \\\"MultiConnectorEdge\\\",\\n          \\\"attributes\\\": {\\n            \\\"data\\\": {\\n              \\\"type\\\": \\\"Memlet\\\",\\n              \\\"attributes\\\": {\\n                \\\"volume\\\": \\\"1\\\",\\n                \\\"subset\\\": {\\n                  \\\"type\\\": \\\"Range\\\",\\n                  \\\"ranges\\\": [\\n                    {\\n                      \\\"start\\\": \\\"j\\\",\\n                      \\\"end\\\": \\\"j\\\",\\n                      \\\"step\\\": \\\"1\\\",\\n                      \\\"tile\\\": \\\"1\\\"\\n                    }\\n                  ]\\n                },\\n                \\\"data\\\": \\\"C\\\",\\n                \\\"debuginfo\\\": null,\\n                \\\"guid\\\": \\\"5923e868-5243-489c-911a-a4a65de53ecd\\\",\\n                \\\"src_subset\\\": null,\\n                \\\"dst_subset\\\": {\\n                  \\\"type\\\": \\\"Range\\\",\\n                  \\\"ranges\\\": [\\n                    {\\n                      \\\"start\\\": \\\"j\\\",\\n                      \\\"end\\\": \\\"j\\\",\\n                      \\\"step\\\": \\\"1\\\",\\n                      \\\"tile\\\": \\\"1\\\"\\n                    }\\n                  ]\\n                },\\n                \\\"is_data_src\\\": false,\\n                \\\"num_accesses\\\": \\\"1\\\"\\n              }\\n            }\\n          },\\n          \\\"src\\\": \\\"8\\\",\\n          \\\"dst\\\": \\\"7\\\",\\n          \\\"dst_connector\\\": \\\"IN___tmp_12_12_w_out_of_1_1\\\",\\n          \\\"src_connector\\\": \\\"__out\\\"\\n        }\\n      ],\\n      \\\"attributes\\\": {\\n        \\\"guid\\\": \\\"e51f367b-444d-4ce3-b8f1-22fe7b1414ce\\\",\\n        \\\"executions\\\": \\\"1\\\",\\n        \\\"dynamic_executions\\\": false\\n      }\\n    }\\n  ],\\n  \\\"edges\\\": [],\\n  \\\"collapsed\\\": false,\\n  \\\"label\\\": \\\"\\\",\\n  \\\"id\\\": null,\\n  \\\"cfg_list_id\\\": 0,\\n  \\\"start_block\\\": 0,\\n  \\\"dace_version\\\": \\\"1.0.0\\\"\\n}\";\n",
       "</script>\n",
       "<script>\n",
       "    new SDFGRenderer(\n",
       "        checkCompatLoad(parse_sdfg(sdfg_2726111603322000412)),\n",
       "        document.getElementById(\"contents_2726111603322000412\"),\n",
       "        undefined, null, null, false, null, null\n",
       "    );\n",
       "</script>"
      ],
      "text/plain": [
       "SDFG (test3)"
      ]
     },
     "execution_count": 5,
     "metadata": {},
     "output_type": "execute_result"
    }
   ],
   "source": [
    "# Choose\n",
    "# sdfg = test1.to_sdfg()\n",
    "# sdfg = test2.to_sdfg()\n",
    "sdfg = test3.to_sdfg()\n",
    "sdfg"
   ]
  },
  {
   "cell_type": "markdown",
   "id": "16c0f318",
   "metadata": {},
   "source": [
    "Now we apply the pass to see the change:"
   ]
  },
  {
   "cell_type": "code",
   "execution_count": 6,
   "id": "c9152955",
   "metadata": {},
   "outputs": [],
   "source": [
    "# import the pass\n",
    "from dace.transformation.passes.gpustream_scheduling import NaiveGPUStreamScheduler\n",
    "\n",
    "# Define backend stream access expression, which is used as below. \n",
    "# (I do this explicitly such that any change in the access expression can be detected easier in future)\n",
    "gpu_stream_access_template = \"__state->gpu_context->streams[{gpu_stream}]\"  \n",
    "\n",
    "# Initialize and configure GPU stream scheduling pass\n",
    "gpu_stream_pass = NaiveGPUStreamScheduler()\n",
    "gpu_stream_pass.set_gpu_stream_access_template(gpu_stream_access_template)\n",
    "assigned_streams = gpu_stream_pass.apply_pass(sdfg, None)\n"
   ]
  },
  {
   "cell_type": "markdown",
   "id": "415675f7",
   "metadata": {},
   "source": [
    "Look at which nodes get assigned to which streams - as expected, right?"
   ]
  },
  {
   "cell_type": "code",
   "execution_count": 7,
   "id": "964ac157",
   "metadata": {},
   "outputs": [
    {
     "data": {
      "text/plain": [
       "{AccessNode (B): 0,\n",
       " AccessNode (A): 0,\n",
       " AccessNode (D): 1,\n",
       " MapEntry (test3_10[i=0:3]): 1,\n",
       " MapEntry (test3_10_4_11[j=0:10]): 1,\n",
       " Tasklet (assign_12_12): 1,\n",
       " MapExit (test3_10_4_11[j=0:10]): 1,\n",
       " MapExit (test3_10[i=0:3]): 1,\n",
       " AccessNode (C): 1}"
      ]
     },
     "execution_count": 7,
     "metadata": {},
     "output_type": "execute_result"
    }
   ],
   "source": [
    "assigned_streams"
   ]
  },
  {
   "cell_type": "markdown",
   "id": "69b5a1c0",
   "metadata": {},
   "source": [
    "Look at the extended sdfg, now the synchronization is explicit and not the job of the codegen to figure out and implement."
   ]
  },
  {
   "cell_type": "code",
   "execution_count": 8,
   "id": "f0cbcd1f",
   "metadata": {},
   "outputs": [
    {
     "data": {
      "text/html": [
       "\n",
       "<div class=\"sdfv\">\n",
       "<div id=\"contents_7926536835349080826\" style=\"position: relative; resize: vertical; overflow: auto\"></div>\n",
       "</div>\n",
       "<script>\n",
       "    var sdfg_7926536835349080826 = \"{\\n  \\\"type\\\": \\\"SDFG\\\",\\n  \\\"attributes\\\": {\\n    \\\"name\\\": \\\"test3\\\",\\n    \\\"arg_names\\\": [\\n      \\\"A\\\",\\n      \\\"B\\\",\\n      \\\"C\\\",\\n      \\\"D\\\"\\n    ],\\n    \\\"_arrays\\\": {\\n      \\\"A\\\": {\\n        \\\"type\\\": \\\"Array\\\",\\n        \\\"attributes\\\": {\\n          \\\"strides\\\": [\\n            \\\"1\\\"\\n          ],\\n          \\\"total_size\\\": \\\"10\\\",\\n          \\\"offset\\\": [\\n            \\\"0\\\"\\n          ],\\n          \\\"optional\\\": false,\\n          \\\"dtype\\\": \\\"uint32\\\",\\n          \\\"shape\\\": [\\n            \\\"10\\\"\\n          ],\\n          \\\"storage\\\": \\\"GPU_Global\\\",\\n          \\\"debuginfo\\\": null\\n        }\\n      },\\n      \\\"B\\\": {\\n        \\\"type\\\": \\\"Array\\\",\\n        \\\"attributes\\\": {\\n          \\\"strides\\\": [\\n            \\\"1\\\"\\n          ],\\n          \\\"total_size\\\": \\\"10\\\",\\n          \\\"offset\\\": [\\n            \\\"0\\\"\\n          ],\\n          \\\"optional\\\": false,\\n          \\\"dtype\\\": \\\"uint32\\\",\\n          \\\"shape\\\": [\\n            \\\"10\\\"\\n          ],\\n          \\\"storage\\\": \\\"GPU_Global\\\",\\n          \\\"debuginfo\\\": null\\n        }\\n      },\\n      \\\"C\\\": {\\n        \\\"type\\\": \\\"Array\\\",\\n        \\\"attributes\\\": {\\n          \\\"strides\\\": [\\n            \\\"1\\\"\\n          ],\\n          \\\"total_size\\\": \\\"10\\\",\\n          \\\"offset\\\": [\\n            \\\"0\\\"\\n          ],\\n          \\\"optional\\\": false,\\n          \\\"dtype\\\": \\\"uint32\\\",\\n          \\\"shape\\\": [\\n            \\\"10\\\"\\n          ],\\n          \\\"storage\\\": \\\"GPU_Global\\\",\\n          \\\"debuginfo\\\": null\\n        }\\n      },\\n      \\\"D\\\": {\\n        \\\"type\\\": \\\"Array\\\",\\n        \\\"attributes\\\": {\\n          \\\"strides\\\": [\\n            \\\"1\\\"\\n          ],\\n          \\\"total_size\\\": \\\"10\\\",\\n          \\\"offset\\\": [\\n            \\\"0\\\"\\n          ],\\n          \\\"optional\\\": false,\\n          \\\"dtype\\\": \\\"uint32\\\",\\n          \\\"shape\\\": [\\n            \\\"10\\\"\\n          ],\\n          \\\"storage\\\": \\\"GPU_Global\\\",\\n          \\\"debuginfo\\\": null\\n        }\\n      }\\n    },\\n    \\\"global_code\\\": {\\n      \\\"frame\\\": {\\n        \\\"string_data\\\": \\\"\\\",\\n        \\\"language\\\": \\\"CPP\\\"\\n      }\\n    },\\n    \\\"init_code\\\": {\\n      \\\"frame\\\": {\\n        \\\"string_data\\\": \\\"\\\",\\n        \\\"language\\\": \\\"CPP\\\"\\n      }\\n    },\\n    \\\"exit_code\\\": {\\n      \\\"frame\\\": {\\n        \\\"string_data\\\": \\\"\\\",\\n        \\\"language\\\": \\\"CPP\\\"\\n      }\\n    },\\n    \\\"debuginfo\\\": {\\n      \\\"type\\\": \\\"DebugInfo\\\",\\n      \\\"start_line\\\": 1,\\n      \\\"end_line\\\": 12,\\n      \\\"start_column\\\": 0,\\n      \\\"end_column\\\": 0,\\n      \\\"filename\\\": \\\"/tmp/ipykernel_34901/1354861503.py\\\"\\n    },\\n    \\\"using_explicit_control_flow\\\": true,\\n    \\\"guid\\\": \\\"bbbd5be9-8bec-48b7-bb96-a4bfbee409a1\\\"\\n  },\\n  \\\"nodes\\\": [\\n    {\\n      \\\"type\\\": \\\"SDFGState\\\",\\n      \\\"label\\\": \\\"assign_8_4\\\",\\n      \\\"id\\\": 0,\\n      \\\"collapsed\\\": false,\\n      \\\"scope_dict\\\": {\\n        \\\"-1\\\": [\\n          0,\\n          1,\\n          2,\\n          4,\\n          5,\\n          9,\\n          10\\n        ],\\n        \\\"2\\\": [\\n          3,\\n          6\\n        ],\\n        \\\"6\\\": [\\n          7,\\n          8\\n        ]\\n      },\\n      \\\"nodes\\\": [\\n        {\\n          \\\"type\\\": \\\"AccessNode\\\",\\n          \\\"label\\\": \\\"A\\\",\\n          \\\"attributes\\\": {\\n            \\\"debuginfo\\\": {\\n              \\\"type\\\": \\\"DebugInfo\\\",\\n              \\\"start_line\\\": 8,\\n              \\\"end_line\\\": 8,\\n              \\\"start_column\\\": 11,\\n              \\\"end_column\\\": 11,\\n              \\\"filename\\\": \\\"/tmp/ipykernel_34901/1354861503.py\\\"\\n            },\\n            \\\"data\\\": \\\"A\\\",\\n            \\\"guid\\\": \\\"388f7e45-3ba6-4268-acb9-a5de58b5ecca\\\"\\n          },\\n          \\\"id\\\": 0,\\n          \\\"scope_entry\\\": null,\\n          \\\"scope_exit\\\": null\\n        },\\n        {\\n          \\\"type\\\": \\\"AccessNode\\\",\\n          \\\"label\\\": \\\"B\\\",\\n          \\\"attributes\\\": {\\n            \\\"debuginfo\\\": {\\n              \\\"type\\\": \\\"DebugInfo\\\",\\n              \\\"start_line\\\": 1291,\\n              \\\"end_line\\\": 1291,\\n              \\\"start_column\\\": 0,\\n              \\\"end_column\\\": 0,\\n              \\\"filename\\\": \\\"/home/berkay/master-thesis/dace/dace/frontend/python/newast.py\\\"\\n            },\\n            \\\"data\\\": \\\"B\\\",\\n            \\\"guid\\\": \\\"d1c86055-9681-4ed6-ad94-5e3901baf814\\\"\\n          },\\n          \\\"id\\\": 1,\\n          \\\"scope_entry\\\": null,\\n          \\\"scope_exit\\\": null\\n        },\\n        {\\n          \\\"type\\\": \\\"MapEntry\\\",\\n          \\\"label\\\": \\\"test3_10[i=0:3]\\\",\\n          \\\"attributes\\\": {\\n            \\\"label\\\": \\\"test3_10\\\",\\n            \\\"params\\\": [\\n              \\\"i\\\"\\n            ],\\n            \\\"range\\\": {\\n              \\\"type\\\": \\\"Range\\\",\\n              \\\"ranges\\\": [\\n                {\\n                  \\\"start\\\": \\\"0\\\",\\n                  \\\"end\\\": \\\"2\\\",\\n                  \\\"step\\\": \\\"1\\\",\\n                  \\\"tile\\\": \\\"1\\\"\\n                }\\n              ]\\n            },\\n            \\\"schedule\\\": \\\"Sequential\\\",\\n            \\\"debuginfo\\\": {\\n              \\\"type\\\": \\\"DebugInfo\\\",\\n              \\\"start_line\\\": 10,\\n              \\\"end_line\\\": 10,\\n              \\\"start_column\\\": 4,\\n              \\\"end_column\\\": 4,\\n              \\\"filename\\\": \\\"/tmp/ipykernel_34901/1354861503.py\\\"\\n            },\\n            \\\"in_connectors\\\": {\\n              \\\"IN_D\\\": null\\n            },\\n            \\\"out_connectors\\\": {\\n              \\\"OUT_D\\\": null\\n            },\\n            \\\"guid\\\": \\\"7ab65458-90ec-45b8-97f0-6a46b3f62567\\\"\\n          },\\n          \\\"id\\\": 2,\\n          \\\"scope_entry\\\": null,\\n          \\\"scope_exit\\\": \\\"3\\\"\\n        },\\n        {\\n          \\\"type\\\": \\\"MapExit\\\",\\n          \\\"label\\\": \\\"test3_10[i=0:3]\\\",\\n          \\\"attributes\\\": {\\n            \\\"in_connectors\\\": {\\n              \\\"IN_C\\\": null\\n            },\\n            \\\"out_connectors\\\": {\\n              \\\"OUT_C\\\": null\\n            },\\n            \\\"guid\\\": \\\"7b90919e-7db9-4ca3-8cd2-441ed55276a2\\\"\\n          },\\n          \\\"id\\\": 3,\\n          \\\"scope_entry\\\": \\\"2\\\",\\n          \\\"scope_exit\\\": \\\"3\\\"\\n        },\\n        {\\n          \\\"type\\\": \\\"AccessNode\\\",\\n          \\\"label\\\": \\\"D\\\",\\n          \\\"attributes\\\": {\\n            \\\"debuginfo\\\": {\\n              \\\"type\\\": \\\"DebugInfo\\\",\\n              \\\"start_line\\\": 10,\\n              \\\"end_line\\\": 10,\\n              \\\"start_column\\\": 4,\\n              \\\"end_column\\\": 4,\\n              \\\"filename\\\": \\\"/tmp/ipykernel_34901/1354861503.py\\\"\\n            },\\n            \\\"data\\\": \\\"D\\\",\\n            \\\"guid\\\": \\\"029230b8-344c-42c7-b3a9-cac8efb05bb2\\\"\\n          },\\n          \\\"id\\\": 4,\\n          \\\"scope_entry\\\": null,\\n          \\\"scope_exit\\\": null\\n        },\\n        {\\n          \\\"type\\\": \\\"AccessNode\\\",\\n          \\\"label\\\": \\\"C\\\",\\n          \\\"attributes\\\": {\\n            \\\"debuginfo\\\": {\\n              \\\"type\\\": \\\"DebugInfo\\\",\\n              \\\"start_line\\\": 10,\\n              \\\"end_line\\\": 10,\\n              \\\"start_column\\\": 4,\\n              \\\"end_column\\\": 4,\\n              \\\"filename\\\": \\\"/tmp/ipykernel_34901/1354861503.py\\\"\\n            },\\n            \\\"data\\\": \\\"C\\\",\\n            \\\"guid\\\": \\\"332c8d9b-61f8-42aa-9eae-aa22e65555b9\\\"\\n          },\\n          \\\"id\\\": 5,\\n          \\\"scope_entry\\\": null,\\n          \\\"scope_exit\\\": null\\n        },\\n        {\\n          \\\"type\\\": \\\"MapEntry\\\",\\n          \\\"label\\\": \\\"test3_10_4_11[j=0:10]\\\",\\n          \\\"attributes\\\": {\\n            \\\"label\\\": \\\"test3_10_4_11\\\",\\n            \\\"params\\\": [\\n              \\\"j\\\"\\n            ],\\n            \\\"range\\\": {\\n              \\\"type\\\": \\\"Range\\\",\\n              \\\"ranges\\\": [\\n                {\\n                  \\\"start\\\": \\\"0\\\",\\n                  \\\"end\\\": \\\"9\\\",\\n                  \\\"step\\\": \\\"1\\\",\\n                  \\\"tile\\\": \\\"1\\\"\\n                }\\n              ]\\n            },\\n            \\\"schedule\\\": \\\"GPU_Device\\\",\\n            \\\"debuginfo\\\": {\\n              \\\"type\\\": \\\"DebugInfo\\\",\\n              \\\"start_line\\\": 11,\\n              \\\"end_line\\\": 11,\\n              \\\"start_column\\\": 8,\\n              \\\"end_column\\\": 8,\\n              \\\"filename\\\": \\\"/tmp/ipykernel_34901/1354861503.py\\\"\\n            },\\n            \\\"in_connectors\\\": {\\n              \\\"IN___tmp_12_19_r_in_from_1_0\\\": null\\n            },\\n            \\\"out_connectors\\\": {\\n              \\\"OUT___tmp_12_19_r_in_from_1_0\\\": null\\n            },\\n            \\\"guid\\\": \\\"76d280df-eb78-4bbe-9090-e7cfc1773d8a\\\"\\n          },\\n          \\\"id\\\": 6,\\n          \\\"scope_entry\\\": \\\"2\\\",\\n          \\\"scope_exit\\\": \\\"7\\\"\\n        },\\n        {\\n          \\\"type\\\": \\\"MapExit\\\",\\n          \\\"label\\\": \\\"test3_10_4_11[j=0:10]\\\",\\n          \\\"attributes\\\": {\\n            \\\"in_connectors\\\": {\\n              \\\"IN___tmp_12_12_w_out_of_1_1\\\": null\\n            },\\n            \\\"out_connectors\\\": {\\n              \\\"OUT___tmp_12_12_w_out_of_1_1\\\": null\\n            },\\n            \\\"guid\\\": \\\"c05e46bd-aae9-46eb-b406-08acb2702965\\\"\\n          },\\n          \\\"id\\\": 7,\\n          \\\"scope_entry\\\": \\\"6\\\",\\n          \\\"scope_exit\\\": \\\"7\\\"\\n        },\\n        {\\n          \\\"type\\\": \\\"Tasklet\\\",\\n          \\\"label\\\": \\\"assign_12_12\\\",\\n          \\\"attributes\\\": {\\n            \\\"code\\\": {\\n              \\\"string_data\\\": \\\"__out = __inp\\\",\\n              \\\"language\\\": \\\"Python\\\"\\n            },\\n            \\\"debuginfo\\\": {\\n              \\\"type\\\": \\\"DebugInfo\\\",\\n              \\\"start_line\\\": 12,\\n              \\\"end_line\\\": 12,\\n              \\\"start_column\\\": 14,\\n              \\\"end_column\\\": 14,\\n              \\\"filename\\\": \\\"/tmp/ipykernel_34901/1354861503.py\\\"\\n            },\\n            \\\"label\\\": \\\"assign_12_12\\\",\\n            \\\"in_connectors\\\": {\\n              \\\"__inp\\\": null\\n            },\\n            \\\"out_connectors\\\": {\\n              \\\"__out\\\": null\\n            },\\n            \\\"guid\\\": \\\"91ab1451-2408-4c41-84e4-60ab62c0e94c\\\"\\n          },\\n          \\\"id\\\": 8,\\n          \\\"scope_entry\\\": \\\"6\\\",\\n          \\\"scope_exit\\\": \\\"7\\\"\\n        },\\n        {\\n          \\\"type\\\": \\\"Tasklet\\\",\\n          \\\"label\\\": \\\"sync_0\\\",\\n          \\\"attributes\\\": {\\n            \\\"code\\\": {\\n              \\\"string_data\\\": \\\"DACE_GPU_CHECK(cudaStreamSynchronize(__state->gpu_context->streams[0]));\\\\n\\\",\\n              \\\"language\\\": \\\"CPP\\\"\\n            },\\n            \\\"debuginfo\\\": {\\n              \\\"type\\\": \\\"DebugInfo\\\",\\n              \\\"start_line\\\": 197,\\n              \\\"end_line\\\": 197,\\n              \\\"start_column\\\": 0,\\n              \\\"end_column\\\": 0,\\n              \\\"filename\\\": \\\"/home/berkay/master-thesis/dace/dace/transformation/passes/gpustream_scheduling.py\\\"\\n            },\\n            \\\"label\\\": \\\"sync_0\\\",\\n            \\\"guid\\\": \\\"d502cecf-2d27-4779-8bb9-b5006d5dbb9b\\\"\\n          },\\n          \\\"id\\\": 9,\\n          \\\"scope_entry\\\": null,\\n          \\\"scope_exit\\\": null\\n        },\\n        {\\n          \\\"type\\\": \\\"Tasklet\\\",\\n          \\\"label\\\": \\\"sync_1\\\",\\n          \\\"attributes\\\": {\\n            \\\"code\\\": {\\n              \\\"string_data\\\": \\\"DACE_GPU_CHECK(cudaStreamSynchronize(__state->gpu_context->streams[1]));\\\\n\\\",\\n              \\\"language\\\": \\\"CPP\\\"\\n            },\\n            \\\"debuginfo\\\": {\\n              \\\"type\\\": \\\"DebugInfo\\\",\\n              \\\"start_line\\\": 197,\\n              \\\"end_line\\\": 197,\\n              \\\"start_column\\\": 0,\\n              \\\"end_column\\\": 0,\\n              \\\"filename\\\": \\\"/home/berkay/master-thesis/dace/dace/transformation/passes/gpustream_scheduling.py\\\"\\n            },\\n            \\\"label\\\": \\\"sync_1\\\",\\n            \\\"guid\\\": \\\"21ba3249-dd53-4756-a551-f62ce4c51096\\\"\\n          },\\n          \\\"id\\\": 10,\\n          \\\"scope_entry\\\": null,\\n          \\\"scope_exit\\\": null\\n        }\\n      ],\\n      \\\"edges\\\": [\\n        {\\n          \\\"type\\\": \\\"MultiConnectorEdge\\\",\\n          \\\"attributes\\\": {\\n            \\\"data\\\": {\\n              \\\"type\\\": \\\"Memlet\\\",\\n              \\\"attributes\\\": {\\n                \\\"volume\\\": \\\"10\\\",\\n                \\\"subset\\\": {\\n                  \\\"type\\\": \\\"Range\\\",\\n                  \\\"ranges\\\": [\\n                    {\\n                      \\\"start\\\": \\\"0\\\",\\n                      \\\"end\\\": \\\"9\\\",\\n                      \\\"step\\\": \\\"1\\\",\\n                      \\\"tile\\\": \\\"1\\\"\\n                    }\\n                  ]\\n                },\\n                \\\"other_subset\\\": {\\n                  \\\"type\\\": \\\"Range\\\",\\n                  \\\"ranges\\\": [\\n                    {\\n                      \\\"start\\\": \\\"0\\\",\\n                      \\\"end\\\": \\\"9\\\",\\n                      \\\"step\\\": \\\"1\\\",\\n                      \\\"tile\\\": \\\"1\\\"\\n                    }\\n                  ]\\n                },\\n                \\\"data\\\": \\\"A\\\",\\n                \\\"debuginfo\\\": null,\\n                \\\"guid\\\": \\\"2f8a7303-0fc4-45a5-a185-6a12f07583fd\\\",\\n                \\\"src_subset\\\": {\\n                  \\\"type\\\": \\\"Range\\\",\\n                  \\\"ranges\\\": [\\n                    {\\n                      \\\"start\\\": \\\"0\\\",\\n                      \\\"end\\\": \\\"9\\\",\\n                      \\\"step\\\": \\\"1\\\",\\n                      \\\"tile\\\": \\\"1\\\"\\n                    }\\n                  ]\\n                },\\n                \\\"dst_subset\\\": {\\n                  \\\"type\\\": \\\"Range\\\",\\n                  \\\"ranges\\\": [\\n                    {\\n                      \\\"start\\\": \\\"0\\\",\\n                      \\\"end\\\": \\\"9\\\",\\n                      \\\"step\\\": \\\"1\\\",\\n                      \\\"tile\\\": \\\"1\\\"\\n                    }\\n                  ]\\n                },\\n                \\\"is_data_src\\\": false,\\n                \\\"num_accesses\\\": \\\"10\\\"\\n              }\\n            }\\n          },\\n          \\\"src\\\": \\\"1\\\",\\n          \\\"dst\\\": \\\"0\\\",\\n          \\\"dst_connector\\\": null,\\n          \\\"src_connector\\\": null\\n        },\\n        {\\n          \\\"type\\\": \\\"MultiConnectorEdge\\\",\\n          \\\"attributes\\\": {\\n            \\\"data\\\": {\\n              \\\"type\\\": \\\"Memlet\\\",\\n              \\\"attributes\\\": {\\n                \\\"volume\\\": \\\"1\\\",\\n                \\\"debuginfo\\\": null,\\n                \\\"guid\\\": \\\"31c5b406-50d9-4d0e-801a-36b928a5c692\\\",\\n                \\\"src_subset\\\": null,\\n                \\\"dst_subset\\\": null,\\n                \\\"is_data_src\\\": false,\\n                \\\"num_accesses\\\": \\\"1\\\"\\n              }\\n            }\\n          },\\n          \\\"src\\\": \\\"0\\\",\\n          \\\"dst\\\": \\\"9\\\",\\n          \\\"dst_connector\\\": null,\\n          \\\"src_connector\\\": null\\n        },\\n        {\\n          \\\"type\\\": \\\"MultiConnectorEdge\\\",\\n          \\\"attributes\\\": {\\n            \\\"data\\\": {\\n              \\\"type\\\": \\\"Memlet\\\",\\n              \\\"attributes\\\": {\\n                \\\"volume\\\": \\\"1\\\",\\n                \\\"debuginfo\\\": null,\\n                \\\"guid\\\": \\\"51a25b8f-7ee5-43c7-a124-c8ae9740d8f1\\\",\\n                \\\"src_subset\\\": null,\\n                \\\"dst_subset\\\": null,\\n                \\\"is_data_src\\\": false,\\n                \\\"num_accesses\\\": \\\"1\\\"\\n              }\\n            }\\n          },\\n          \\\"src\\\": \\\"5\\\",\\n          \\\"dst\\\": \\\"10\\\",\\n          \\\"dst_connector\\\": null,\\n          \\\"src_connector\\\": null\\n        },\\n        {\\n          \\\"type\\\": \\\"MultiConnectorEdge\\\",\\n          \\\"attributes\\\": {\\n            \\\"data\\\": {\\n              \\\"type\\\": \\\"Memlet\\\",\\n              \\\"attributes\\\": {\\n                \\\"volume\\\": \\\"30\\\",\\n                \\\"subset\\\": {\\n                  \\\"type\\\": \\\"Range\\\",\\n                  \\\"ranges\\\": [\\n                    {\\n                      \\\"start\\\": \\\"0\\\",\\n                      \\\"end\\\": \\\"9\\\",\\n                      \\\"step\\\": \\\"1\\\",\\n                      \\\"tile\\\": \\\"1\\\"\\n                    }\\n                  ]\\n                },\\n                \\\"data\\\": \\\"D\\\",\\n                \\\"debuginfo\\\": null,\\n                \\\"guid\\\": \\\"3d676750-ff04-449e-9282-d0e7f4648653\\\",\\n                \\\"src_subset\\\": {\\n                  \\\"type\\\": \\\"Range\\\",\\n                  \\\"ranges\\\": [\\n                    {\\n                      \\\"start\\\": \\\"0\\\",\\n                      \\\"end\\\": \\\"9\\\",\\n                      \\\"step\\\": \\\"1\\\",\\n                      \\\"tile\\\": \\\"1\\\"\\n                    }\\n                  ]\\n                },\\n                \\\"dst_subset\\\": null,\\n                \\\"is_data_src\\\": true,\\n                \\\"num_accesses\\\": \\\"30\\\"\\n              }\\n            }\\n          },\\n          \\\"src\\\": \\\"4\\\",\\n          \\\"dst\\\": \\\"2\\\",\\n          \\\"dst_connector\\\": \\\"IN_D\\\",\\n          \\\"src_connector\\\": null\\n        },\\n        {\\n          \\\"type\\\": \\\"MultiConnectorEdge\\\",\\n          \\\"attributes\\\": {\\n            \\\"data\\\": {\\n              \\\"type\\\": \\\"Memlet\\\",\\n              \\\"attributes\\\": {\\n                \\\"volume\\\": \\\"30\\\",\\n                \\\"subset\\\": {\\n                  \\\"type\\\": \\\"Range\\\",\\n                  \\\"ranges\\\": [\\n                    {\\n                      \\\"start\\\": \\\"0\\\",\\n                      \\\"end\\\": \\\"9\\\",\\n                      \\\"step\\\": \\\"1\\\",\\n                      \\\"tile\\\": \\\"1\\\"\\n                    }\\n                  ]\\n                },\\n                \\\"data\\\": \\\"C\\\",\\n                \\\"debuginfo\\\": null,\\n                \\\"guid\\\": \\\"bf1f8221-7dcc-4451-8306-324358319ba6\\\",\\n                \\\"src_subset\\\": null,\\n                \\\"dst_subset\\\": {\\n                  \\\"type\\\": \\\"Range\\\",\\n                  \\\"ranges\\\": [\\n                    {\\n                      \\\"start\\\": \\\"0\\\",\\n                      \\\"end\\\": \\\"9\\\",\\n                      \\\"step\\\": \\\"1\\\",\\n                      \\\"tile\\\": \\\"1\\\"\\n                    }\\n                  ]\\n                },\\n                \\\"is_data_src\\\": false,\\n                \\\"num_accesses\\\": \\\"30\\\"\\n              }\\n            }\\n          },\\n          \\\"src\\\": \\\"3\\\",\\n          \\\"dst\\\": \\\"5\\\",\\n          \\\"dst_connector\\\": null,\\n          \\\"src_connector\\\": \\\"OUT_C\\\"\\n        },\\n        {\\n          \\\"type\\\": \\\"MultiConnectorEdge\\\",\\n          \\\"attributes\\\": {\\n            \\\"data\\\": {\\n              \\\"type\\\": \\\"Memlet\\\",\\n              \\\"attributes\\\": {\\n                \\\"volume\\\": \\\"10\\\",\\n                \\\"subset\\\": {\\n                  \\\"type\\\": \\\"Range\\\",\\n                  \\\"ranges\\\": [\\n                    {\\n                      \\\"start\\\": \\\"0\\\",\\n                      \\\"end\\\": \\\"9\\\",\\n                      \\\"step\\\": \\\"1\\\",\\n                      \\\"tile\\\": \\\"1\\\"\\n                    }\\n                  ]\\n                },\\n                \\\"data\\\": \\\"D\\\",\\n                \\\"debuginfo\\\": null,\\n                \\\"guid\\\": \\\"66f195dd-651e-4060-a7db-a0478cc87bcb\\\",\\n                \\\"src_subset\\\": {\\n                  \\\"type\\\": \\\"Range\\\",\\n                  \\\"ranges\\\": [\\n                    {\\n                      \\\"start\\\": \\\"0\\\",\\n                      \\\"end\\\": \\\"9\\\",\\n                      \\\"step\\\": \\\"1\\\",\\n                      \\\"tile\\\": \\\"1\\\"\\n                    }\\n                  ]\\n                },\\n                \\\"dst_subset\\\": null,\\n                \\\"is_data_src\\\": true,\\n                \\\"num_accesses\\\": \\\"10\\\"\\n              }\\n            }\\n          },\\n          \\\"src\\\": \\\"2\\\",\\n          \\\"dst\\\": \\\"6\\\",\\n          \\\"dst_connector\\\": \\\"IN___tmp_12_19_r_in_from_1_0\\\",\\n          \\\"src_connector\\\": \\\"OUT_D\\\"\\n        },\\n        {\\n          \\\"type\\\": \\\"MultiConnectorEdge\\\",\\n          \\\"attributes\\\": {\\n            \\\"data\\\": {\\n              \\\"type\\\": \\\"Memlet\\\",\\n              \\\"attributes\\\": {\\n                \\\"volume\\\": \\\"10\\\",\\n                \\\"subset\\\": {\\n                  \\\"type\\\": \\\"Range\\\",\\n                  \\\"ranges\\\": [\\n                    {\\n                      \\\"start\\\": \\\"0\\\",\\n                      \\\"end\\\": \\\"9\\\",\\n                      \\\"step\\\": \\\"1\\\",\\n                      \\\"tile\\\": \\\"1\\\"\\n                    }\\n                  ]\\n                },\\n                \\\"data\\\": \\\"C\\\",\\n                \\\"debuginfo\\\": null,\\n                \\\"guid\\\": \\\"0f1dcc18-5658-4d5d-b9cc-0041311e24ff\\\",\\n                \\\"src_subset\\\": null,\\n                \\\"dst_subset\\\": {\\n                  \\\"type\\\": \\\"Range\\\",\\n                  \\\"ranges\\\": [\\n                    {\\n                      \\\"start\\\": \\\"0\\\",\\n                      \\\"end\\\": \\\"9\\\",\\n                      \\\"step\\\": \\\"1\\\",\\n                      \\\"tile\\\": \\\"1\\\"\\n                    }\\n                  ]\\n                },\\n                \\\"is_data_src\\\": false,\\n                \\\"num_accesses\\\": \\\"10\\\"\\n              }\\n            }\\n          },\\n          \\\"src\\\": \\\"7\\\",\\n          \\\"dst\\\": \\\"3\\\",\\n          \\\"dst_connector\\\": \\\"IN_C\\\",\\n          \\\"src_connector\\\": \\\"OUT___tmp_12_12_w_out_of_1_1\\\"\\n        },\\n        {\\n          \\\"type\\\": \\\"MultiConnectorEdge\\\",\\n          \\\"attributes\\\": {\\n            \\\"data\\\": {\\n              \\\"type\\\": \\\"Memlet\\\",\\n              \\\"attributes\\\": {\\n                \\\"volume\\\": \\\"1\\\",\\n                \\\"subset\\\": {\\n                  \\\"type\\\": \\\"Range\\\",\\n                  \\\"ranges\\\": [\\n                    {\\n                      \\\"start\\\": \\\"j\\\",\\n                      \\\"end\\\": \\\"j\\\",\\n                      \\\"step\\\": \\\"1\\\",\\n                      \\\"tile\\\": \\\"1\\\"\\n                    }\\n                  ]\\n                },\\n                \\\"data\\\": \\\"D\\\",\\n                \\\"debuginfo\\\": null,\\n                \\\"guid\\\": \\\"e0304fdd-57ea-43e9-b134-0073cc295398\\\",\\n                \\\"src_subset\\\": {\\n                  \\\"type\\\": \\\"Range\\\",\\n                  \\\"ranges\\\": [\\n                    {\\n                      \\\"start\\\": \\\"j\\\",\\n                      \\\"end\\\": \\\"j\\\",\\n                      \\\"step\\\": \\\"1\\\",\\n                      \\\"tile\\\": \\\"1\\\"\\n                    }\\n                  ]\\n                },\\n                \\\"dst_subset\\\": null,\\n                \\\"is_data_src\\\": true,\\n                \\\"num_accesses\\\": \\\"1\\\"\\n              }\\n            }\\n          },\\n          \\\"src\\\": \\\"6\\\",\\n          \\\"dst\\\": \\\"8\\\",\\n          \\\"dst_connector\\\": \\\"__inp\\\",\\n          \\\"src_connector\\\": \\\"OUT___tmp_12_19_r_in_from_1_0\\\"\\n        },\\n        {\\n          \\\"type\\\": \\\"MultiConnectorEdge\\\",\\n          \\\"attributes\\\": {\\n            \\\"data\\\": {\\n              \\\"type\\\": \\\"Memlet\\\",\\n              \\\"attributes\\\": {\\n                \\\"volume\\\": \\\"1\\\",\\n                \\\"subset\\\": {\\n                  \\\"type\\\": \\\"Range\\\",\\n                  \\\"ranges\\\": [\\n                    {\\n                      \\\"start\\\": \\\"j\\\",\\n                      \\\"end\\\": \\\"j\\\",\\n                      \\\"step\\\": \\\"1\\\",\\n                      \\\"tile\\\": \\\"1\\\"\\n                    }\\n                  ]\\n                },\\n                \\\"data\\\": \\\"C\\\",\\n                \\\"debuginfo\\\": null,\\n                \\\"guid\\\": \\\"5923e868-5243-489c-911a-a4a65de53ecd\\\",\\n                \\\"src_subset\\\": null,\\n                \\\"dst_subset\\\": {\\n                  \\\"type\\\": \\\"Range\\\",\\n                  \\\"ranges\\\": [\\n                    {\\n                      \\\"start\\\": \\\"j\\\",\\n                      \\\"end\\\": \\\"j\\\",\\n                      \\\"step\\\": \\\"1\\\",\\n                      \\\"tile\\\": \\\"1\\\"\\n                    }\\n                  ]\\n                },\\n                \\\"is_data_src\\\": false,\\n                \\\"num_accesses\\\": \\\"1\\\"\\n              }\\n            }\\n          },\\n          \\\"src\\\": \\\"8\\\",\\n          \\\"dst\\\": \\\"7\\\",\\n          \\\"dst_connector\\\": \\\"IN___tmp_12_12_w_out_of_1_1\\\",\\n          \\\"src_connector\\\": \\\"__out\\\"\\n        }\\n      ],\\n      \\\"attributes\\\": {\\n        \\\"guid\\\": \\\"e51f367b-444d-4ce3-b8f1-22fe7b1414ce\\\",\\n        \\\"executions\\\": \\\"1\\\",\\n        \\\"dynamic_executions\\\": false\\n      }\\n    }\\n  ],\\n  \\\"edges\\\": [],\\n  \\\"collapsed\\\": false,\\n  \\\"label\\\": \\\"\\\",\\n  \\\"id\\\": null,\\n  \\\"cfg_list_id\\\": 0,\\n  \\\"start_block\\\": 0,\\n  \\\"dace_version\\\": \\\"1.0.0\\\"\\n}\";\n",
       "</script>\n",
       "<script>\n",
       "    new SDFGRenderer(\n",
       "        checkCompatLoad(parse_sdfg(sdfg_7926536835349080826)),\n",
       "        document.getElementById(\"contents_7926536835349080826\"),\n",
       "        undefined, null, null, false, null, null\n",
       "    );\n",
       "</script>"
      ],
      "text/plain": [
       "SDFG (test3)"
      ]
     },
     "execution_count": 8,
     "metadata": {},
     "output_type": "execute_result"
    }
   ],
   "source": [
    "sdfg "
   ]
  },
  {
   "cell_type": "markdown",
   "id": "804d8436",
   "metadata": {},
   "source": [
    "And you can also inspect the corresponding code. Just ensure that you are using the experimental codegen:"
   ]
  },
  {
   "cell_type": "code",
   "execution_count": 9,
   "id": "60d817de",
   "metadata": {},
   "outputs": [
    {
     "ename": "AssertionError",
     "evalue": "",
     "output_type": "error",
     "traceback": [
      "\u001b[31m---------------------------------------------------------------------------\u001b[39m",
      "\u001b[31mAssertionError\u001b[39m                            Traceback (most recent call last)",
      "\u001b[36mCell\u001b[39m\u001b[36m \u001b[39m\u001b[32mIn[9]\u001b[39m\u001b[32m, line 3\u001b[39m\n\u001b[32m      1\u001b[39m \u001b[38;5;28;01mfrom\u001b[39;00m\u001b[38;5;250m \u001b[39m\u001b[34;01mdace\u001b[39;00m\u001b[34;01m.\u001b[39;00m\u001b[34;01mconfig\u001b[39;00m\u001b[38;5;250m \u001b[39m\u001b[38;5;28;01mimport\u001b[39;00m Config\n\u001b[32m----> \u001b[39m\u001b[32m3\u001b[39m \u001b[38;5;28;01massert\u001b[39;00m Config.get(\u001b[33m'\u001b[39m\u001b[33mcompiler\u001b[39m\u001b[33m'\u001b[39m, \u001b[33m'\u001b[39m\u001b[33mcuda\u001b[39m\u001b[33m'\u001b[39m, \u001b[33m'\u001b[39m\u001b[33mimplementation\u001b[39m\u001b[33m'\u001b[39m) == \u001b[33m\"\u001b[39m\u001b[33mexperimental\u001b[39m\u001b[33m\"\u001b[39m\n",
      "\u001b[31mAssertionError\u001b[39m: "
     ]
    }
   ],
   "source": [
    "from dace.config import Config\n",
    "\n",
    "assert Config.get('compiler', 'cuda', 'implementation') == \"experimental\""
   ]
  },
  {
   "cell_type": "code",
   "execution_count": null,
   "id": "bf7c6836",
   "metadata": {},
   "outputs": [],
   "source": [
    "Code(sdfg.generate_code()[0].clean_code, language='cpp')"
   ]
  },
  {
   "cell_type": "code",
   "execution_count": null,
   "id": "a029d5a5",
   "metadata": {},
   "outputs": [],
   "source": [
    "Code(sdfg.generate_code()[1].clean_code, language='cpp')"
   ]
  }
 ],
 "metadata": {
  "kernelspec": {
   "display_name": "dace_env",
   "language": "python",
   "name": "python3"
  },
  "language_info": {
   "codemirror_mode": {
    "name": "ipython",
    "version": 3
   },
   "file_extension": ".py",
   "mimetype": "text/x-python",
   "name": "python",
   "nbconvert_exporter": "python",
   "pygments_lexer": "ipython3",
   "version": "3.12.3"
  }
 },
 "nbformat": 4,
 "nbformat_minor": 5
}
