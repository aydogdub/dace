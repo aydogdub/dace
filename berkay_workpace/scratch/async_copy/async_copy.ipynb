{
 "cells": [
  {
   "cell_type": "code",
   "execution_count": 1,
   "id": "ebf929d8",
   "metadata": {},
   "outputs": [
    {
     "data": {
      "text/html": [
       "<script src=\"https://spcl.github.io/dace-webclient/dist/sdfv.js\"></script>\n"
      ],
      "text/plain": [
       "<IPython.core.display.HTML object>"
      ]
     },
     "metadata": {},
     "output_type": "display_data"
    }
   ],
   "source": [
    "import dace\n",
    "import cupy as cp\n",
    "import numpy as np\n",
    "from IPython.display import Code\n"
   ]
  },
  {
   "cell_type": "code",
   "execution_count": 2,
   "id": "024e65c9",
   "metadata": {},
   "outputs": [
    {
     "ename": "TypeError",
     "evalue": "Memlet.__init__() got an unexpected keyword argument 'is_asynchronous'",
     "output_type": "error",
     "traceback": [
      "\u001b[31m---------------------------------------------------------------------------\u001b[39m",
      "\u001b[31mTypeError\u001b[39m                                 Traceback (most recent call last)",
      "\u001b[36mCell\u001b[39m\u001b[36m \u001b[39m\u001b[32mIn[2]\u001b[39m\u001b[32m, line 20\u001b[39m\n\u001b[32m     16\u001b[39m tb_map_entry, tb_map_exit = state.add_map(\u001b[33m\"\u001b[39m\u001b[33mtb_map\u001b[39m\u001b[33m\"\u001b[39m, \u001b[38;5;28mdict\u001b[39m(tid=\u001b[33m\"\u001b[39m\u001b[33m0:128\u001b[39m\u001b[33m\"\u001b[39m), schedule=dace.dtypes.ScheduleType.GPU_ThreadBlock)\n\u001b[32m     18\u001b[39m \u001b[38;5;66;03m# Edges with proper data flow\u001b[39;00m\n\u001b[32m     19\u001b[39m \u001b[38;5;66;03m# Global to device scope\u001b[39;00m\n\u001b[32m---> \u001b[39m\u001b[32m20\u001b[39m state.add_edge(a_acc, \u001b[38;5;28;01mNone\u001b[39;00m, gpu_map_entry, \u001b[38;5;28;01mNone\u001b[39;00m, \u001b[43mdace\u001b[49m\u001b[43m.\u001b[49m\u001b[43mMemlet\u001b[49m\u001b[43m(\u001b[49m\u001b[33;43m\"\u001b[39;49m\u001b[33;43mA[0:128]\u001b[39;49m\u001b[33;43m\"\u001b[39;49m\u001b[43m,\u001b[49m\u001b[43m \u001b[49m\u001b[43mis_asynchronous\u001b[49m\u001b[43m=\u001b[49m\u001b[38;5;28;43;01mTrue\u001b[39;49;00m\u001b[43m)\u001b[49m)\n\u001b[32m     21\u001b[39m \u001b[38;5;66;03m# Device scope to thread-block scope\u001b[39;00m\n\u001b[32m     22\u001b[39m state.add_edge(gpu_map_entry, \u001b[38;5;28;01mNone\u001b[39;00m, s_acc, \u001b[38;5;28;01mNone\u001b[39;00m,  dace.Memlet(\u001b[33m\"\u001b[39m\u001b[33mA[0:128]->S[0:128]\u001b[39m\u001b[33m\"\u001b[39m, is_asynchronous=\u001b[38;5;28;01mTrue\u001b[39;00m))\n",
      "\u001b[36mFile \u001b[39m\u001b[32m~/master-thesis/dace/dace/properties.py:337\u001b[39m, in \u001b[36mmake_properties.<locals>.initialize_properties\u001b[39m\u001b[34m(obj, *args, **kwargs)\u001b[39m\n\u001b[32m    335\u001b[39m             \u001b[38;5;28msetattr\u001b[39m(obj, name, prop.default)\n\u001b[32m    336\u001b[39m \u001b[38;5;66;03m# Now call vanilla __init__, which can initialize members\u001b[39;00m\n\u001b[32m--> \u001b[39m\u001b[32m337\u001b[39m \u001b[43minit\u001b[49m\u001b[43m(\u001b[49m\u001b[43mobj\u001b[49m\u001b[43m,\u001b[49m\u001b[43m \u001b[49m\u001b[43m*\u001b[49m\u001b[43margs\u001b[49m\u001b[43m,\u001b[49m\u001b[43m \u001b[49m\u001b[43m*\u001b[49m\u001b[43m*\u001b[49m\u001b[43mkwargs\u001b[49m\u001b[43m)\u001b[49m\n\u001b[32m    338\u001b[39m \u001b[38;5;66;03m# Assert that all properties have been set\u001b[39;00m\n\u001b[32m    339\u001b[39m \u001b[38;5;28;01mfor\u001b[39;00m name, prop \u001b[38;5;129;01min\u001b[39;00m properties.items():\n",
      "\u001b[31mTypeError\u001b[39m: Memlet.__init__() got an unexpected keyword argument 'is_asynchronous'"
     ]
    }
   ],
   "source": [
    "\n",
    "# SDFG and the main state\n",
    "sdfg = dace.SDFG(\"asyn_cpy_sdfg\")\n",
    "state = sdfg.add_state(\"main\")\n",
    "\n",
    "# Arrays and access nodes\n",
    "sdfg.add_array(\"A\", (128,), dace.uint32, storage=dace.dtypes.StorageType.GPU_Global)\n",
    "sdfg.add_array(\"B\", (128,), dace.uint32, storage=dace.dtypes.StorageType.GPU_Global)\n",
    "sdfg.add_array(\"S\", (128,), dace.uint32, storage=dace.dtypes.StorageType.GPU_Shared, transient=True)\n",
    "\n",
    "a_acc = state.add_read(\"A\")\n",
    "b_acc = state.add_access(\"B\")\n",
    "s_acc = state.add_access(\"S\")\n",
    "\n",
    "# Device and thread-block maps\n",
    "gpu_map_entry, gpu_map_exit = state.add_map(\"gpu_map\", dict(bid=\"0:128:128\"), schedule=dace.dtypes.ScheduleType.GPU_Device)\n",
    "tb_map_entry, tb_map_exit = state.add_map(\"tb_map\", dict(tid=\"0:128\"), schedule=dace.dtypes.ScheduleType.GPU_ThreadBlock)\n",
    "\n",
    "# Edges with proper data flow\n",
    "# Global to device scope\n",
    "state.add_edge(a_acc, None, gpu_map_entry, None, dace.Memlet(\"A[0:128]\", is_asynchronous=True))\n",
    "# Device scope to thread-block scope\n",
    "state.add_edge(gpu_map_entry, None, s_acc, None,  dace.Memlet(\"A[0:128]->S[0:128]\", is_asynchronous=True))\n",
    "state.add_edge(s_acc, None,  tb_map_entry, None, dace.Memlet(\"S[0:128]\", is_asynchronous=True))\n",
    "\n",
    "assign_tasklet = state.add_tasklet(\n",
    "    \"assign\", inputs={\"__in_S\"}, outputs={\"__out_S\"},\n",
    "    code=\"__out_S = __in_S;\",\n",
    "    language=dace.dtypes.Language.CPP\n",
    ")\n",
    "\n",
    "state.add_edge(tb_map_entry, None, assign_tasklet, \"__in_S\", dace.Memlet(\"S[tid]\", is_asynchronous=True))\n",
    "state.add_edge(assign_tasklet, \"__out_S\", tb_map_exit, None, dace.Memlet(\"B[tid]\", is_asynchronous=True))\n",
    "state.add_edge(tb_map_exit, None, gpu_map_exit, None, dace.Memlet(\"B[0:128]\", is_asynchronous=True))\n",
    "state.add_edge(gpu_map_exit, None, b_acc, None, dace.Memlet(\"B[0:128]\", is_asynchronous=True))\n",
    "\n",
    "# Fill scope connectors\n",
    "state.fill_scope_connectors()\n",
    "\n",
    "\n",
    "# Display the SDFG\n",
    "sdfg"
   ]
  },
  {
   "cell_type": "code",
   "execution_count": null,
   "id": "03fef73b",
   "metadata": {},
   "outputs": [],
   "source": []
  }
 ],
 "metadata": {
  "kernelspec": {
   "display_name": "dace_env",
   "language": "python",
   "name": "python3"
  },
  "language_info": {
   "codemirror_mode": {
    "name": "ipython",
    "version": 3
   },
   "file_extension": ".py",
   "mimetype": "text/x-python",
   "name": "python",
   "nbconvert_exporter": "python",
   "pygments_lexer": "ipython3",
   "version": "3.12.3"
  }
 },
 "nbformat": 4,
 "nbformat_minor": 5
}
