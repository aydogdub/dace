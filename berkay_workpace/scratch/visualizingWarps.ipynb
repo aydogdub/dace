{
 "cells": [
  {
   "cell_type": "code",
   "execution_count": 15,
   "id": "1497afd7",
   "metadata": {},
   "outputs": [],
   "source": [
    "import dace\n",
    "import cupy as cp\n",
    "import numpy as np\n",
    "\n",
    "from dace import registry\n",
    "\n",
    "from dace.sdfg.scope import ScopeSubgraphView\n",
    "from dace.codegen.prettycode import CodeIOStream\n",
    "from dace.codegen.targets.target import TargetCodeGenerator\n",
    "from dace.codegen.targets.framecode import DaCeCodeGenerator\n",
    "from dace.codegen.targets.cpp import sym2cpp\n",
    "from IPython.display import Code\n",
    "from dace.config import Config"
   ]
  },
  {
   "cell_type": "code",
   "execution_count": 16,
   "id": "3f6d665e",
   "metadata": {},
   "outputs": [],
   "source": [
    "@dace.program\n",
    "def test(A: dace.uint32[32,32] @ dace.dtypes.StorageType.GPU_Global):\n",
    "    for i, j in dace.map[0:32:32, 0:32:32] @ dace.dtypes.ScheduleType.GPU_Device:\n",
    "        for ii, jj in dace.map[0:32, 0:32] @ dace.dtypes.ScheduleType.GPU_ThreadBlock:\n",
    "            for wx,wy in dace.map[0:4, 0:8] @ dace.dtypes.ScheduleType.GPU_Warp:\n",
    "                r = wx\n",
    "                c = wy\n",
    "                result = dace.define_local_scalar(dace.uint32)\n",
    "                with dace.tasklet(dace.Language.CPP):\n",
    "                    iwx << r\n",
    "                    iwy << c\n",
    "                    out_result >> result\n",
    "                    \"\"\"\n",
    "                    out_result = iwx * 100 + iwy;\n",
    "                    \"\"\"\n",
    "                \n",
    "                A[i + ii, j + jj] = result\n",
    "\n",
    "sdfg = test.to_sdfg()\n",
    "A = cp.zeros((32,32), dtype=cp.uint32)\n",
    "sdfg(A=A)\n",
    "\n",
    "A_cpu = cp.asnumpy(A)\n",
    "A_reshaped = A_cpu.reshape(-1, 256)\n",
    "np.savetxt(\"A_output.txt\", A_reshaped, fmt='%d')\n"
   ]
  },
  {
   "cell_type": "code",
   "execution_count": 7,
   "id": "130d986f",
   "metadata": {},
   "outputs": [
    {
     "data": {
      "text/html": [
       "\n",
       "<div class=\"sdfv\">\n",
       "<div id=\"contents_6712029560834239889\" style=\"position: relative; resize: vertical; overflow: auto\"></div>\n",
       "</div>\n",
       "<script>\n",
       "    var sdfg_6712029560834239889 = \"{\\n  \\\"type\\\": \\\"SDFG\\\",\\n  \\\"attributes\\\": {\\n    \\\"name\\\": \\\"Warp_test_1\\\",\\n    \\\"_arrays\\\": {\\n      \\\"A\\\": {\\n        \\\"type\\\": \\\"Array\\\",\\n        \\\"attributes\\\": {\\n          \\\"strides\\\": [\\n            \\\"32\\\",\\n            \\\"1\\\"\\n          ],\\n          \\\"total_size\\\": \\\"1024\\\",\\n          \\\"offset\\\": [\\n            \\\"0\\\",\\n            \\\"0\\\"\\n          ],\\n          \\\"dtype\\\": \\\"uint32\\\",\\n          \\\"shape\\\": [\\n            \\\"32\\\",\\n            \\\"32\\\"\\n          ],\\n          \\\"storage\\\": \\\"GPU_Global\\\",\\n          \\\"debuginfo\\\": null\\n        }\\n      }\\n    },\\n    \\\"global_code\\\": {\\n      \\\"frame\\\": {\\n        \\\"string_data\\\": \\\"\\\",\\n        \\\"language\\\": \\\"CPP\\\"\\n      }\\n    },\\n    \\\"init_code\\\": {\\n      \\\"frame\\\": {\\n        \\\"string_data\\\": \\\"\\\",\\n        \\\"language\\\": \\\"CPP\\\"\\n      }\\n    },\\n    \\\"exit_code\\\": {\\n      \\\"frame\\\": {\\n        \\\"string_data\\\": \\\"\\\",\\n        \\\"language\\\": \\\"CPP\\\"\\n      }\\n    },\\n    \\\"guid\\\": \\\"794d465e-f770-4dea-83cc-99edddc436a5\\\"\\n  },\\n  \\\"nodes\\\": [\\n    {\\n      \\\"type\\\": \\\"SDFGState\\\",\\n      \\\"label\\\": \\\"main\\\",\\n      \\\"id\\\": 0,\\n      \\\"collapsed\\\": false,\\n      \\\"scope_dict\\\": {\\n        \\\"-1\\\": [\\n          0,\\n          1\\n        ],\\n        \\\"1\\\": [\\n          2,\\n          3\\n        ],\\n        \\\"3\\\": [\\n          4,\\n          5\\n        ],\\n        \\\"5\\\": [\\n          6,\\n          7\\n        ]\\n      },\\n      \\\"nodes\\\": [\\n        {\\n          \\\"type\\\": \\\"AccessNode\\\",\\n          \\\"label\\\": \\\"A\\\",\\n          \\\"attributes\\\": {\\n            \\\"debuginfo\\\": {\\n              \\\"type\\\": \\\"DebugInfo\\\",\\n              \\\"start_line\\\": 6,\\n              \\\"end_line\\\": 6,\\n              \\\"start_column\\\": 0,\\n              \\\"end_column\\\": 0,\\n              \\\"filename\\\": \\\"/tmp/ipykernel_55199/2712610590.py\\\"\\n            },\\n            \\\"data\\\": \\\"A\\\",\\n            \\\"guid\\\": \\\"e275a393-5fcd-47ae-b58a-a0c24daeeae6\\\"\\n          },\\n          \\\"id\\\": 0,\\n          \\\"scope_entry\\\": null,\\n          \\\"scope_exit\\\": null\\n        },\\n        {\\n          \\\"type\\\": \\\"MapEntry\\\",\\n          \\\"label\\\": \\\"GPU_Map[i=0:32:32, j=0:32:32]\\\",\\n          \\\"attributes\\\": {\\n            \\\"label\\\": \\\"GPU_Map\\\",\\n            \\\"params\\\": [\\n              \\\"i\\\",\\n              \\\"j\\\"\\n            ],\\n            \\\"range\\\": {\\n              \\\"type\\\": \\\"Range\\\",\\n              \\\"ranges\\\": [\\n                {\\n                  \\\"start\\\": \\\"0\\\",\\n                  \\\"end\\\": \\\"31\\\",\\n                  \\\"step\\\": \\\"32\\\",\\n                  \\\"tile\\\": \\\"1\\\"\\n                },\\n                {\\n                  \\\"start\\\": \\\"0\\\",\\n                  \\\"end\\\": \\\"31\\\",\\n                  \\\"step\\\": \\\"32\\\",\\n                  \\\"tile\\\": \\\"1\\\"\\n                }\\n              ]\\n            },\\n            \\\"schedule\\\": \\\"GPU_Device\\\",\\n            \\\"debuginfo\\\": {\\n              \\\"type\\\": \\\"DebugInfo\\\",\\n              \\\"start_line\\\": 11,\\n              \\\"end_line\\\": 11,\\n              \\\"start_column\\\": 0,\\n              \\\"end_column\\\": 0,\\n              \\\"filename\\\": \\\"/tmp/ipykernel_55199/2712610590.py\\\"\\n            },\\n            \\\"guid\\\": \\\"d34f0e21-e107-48c8-abc5-2ec4f06db9a4\\\"\\n          },\\n          \\\"id\\\": 1,\\n          \\\"scope_entry\\\": null,\\n          \\\"scope_exit\\\": \\\"2\\\"\\n        },\\n        {\\n          \\\"type\\\": \\\"MapExit\\\",\\n          \\\"label\\\": \\\"GPU_Map[i=0:32:32, j=0:32:32]\\\",\\n          \\\"attributes\\\": {\\n            \\\"in_connectors\\\": {\\n              \\\"IN_1\\\": null\\n            },\\n            \\\"out_connectors\\\": {\\n              \\\"OUT_1\\\": null\\n            },\\n            \\\"guid\\\": \\\"ade472fb-7fee-416a-8b99-40385c8356df\\\"\\n          },\\n          \\\"id\\\": 2,\\n          \\\"scope_entry\\\": \\\"1\\\",\\n          \\\"scope_exit\\\": \\\"2\\\"\\n        },\\n        {\\n          \\\"type\\\": \\\"MapEntry\\\",\\n          \\\"label\\\": \\\"Block_Map[ii=0:32, jj=0:32]\\\",\\n          \\\"attributes\\\": {\\n            \\\"label\\\": \\\"Block_Map\\\",\\n            \\\"params\\\": [\\n              \\\"ii\\\",\\n              \\\"jj\\\"\\n            ],\\n            \\\"range\\\": {\\n              \\\"type\\\": \\\"Range\\\",\\n              \\\"ranges\\\": [\\n                {\\n                  \\\"start\\\": \\\"0\\\",\\n                  \\\"end\\\": \\\"31\\\",\\n                  \\\"step\\\": \\\"1\\\",\\n                  \\\"tile\\\": \\\"1\\\"\\n                },\\n                {\\n                  \\\"start\\\": \\\"0\\\",\\n                  \\\"end\\\": \\\"31\\\",\\n                  \\\"step\\\": \\\"1\\\",\\n                  \\\"tile\\\": \\\"1\\\"\\n                }\\n              ]\\n            },\\n            \\\"schedule\\\": \\\"GPU_ThreadBlock\\\",\\n            \\\"debuginfo\\\": {\\n              \\\"type\\\": \\\"DebugInfo\\\",\\n              \\\"start_line\\\": 17,\\n              \\\"end_line\\\": 17,\\n              \\\"start_column\\\": 0,\\n              \\\"end_column\\\": 0,\\n              \\\"filename\\\": \\\"/tmp/ipykernel_55199/2712610590.py\\\"\\n            },\\n            \\\"guid\\\": \\\"0b68af80-9c41-41d8-88c7-1c04ce14a8b8\\\"\\n          },\\n          \\\"id\\\": 3,\\n          \\\"scope_entry\\\": \\\"1\\\",\\n          \\\"scope_exit\\\": \\\"4\\\"\\n        },\\n        {\\n          \\\"type\\\": \\\"MapExit\\\",\\n          \\\"label\\\": \\\"Block_Map[ii=0:32, jj=0:32]\\\",\\n          \\\"attributes\\\": {\\n            \\\"in_connectors\\\": {\\n              \\\"IN_1\\\": null\\n            },\\n            \\\"out_connectors\\\": {\\n              \\\"OUT_1\\\": null\\n            },\\n            \\\"guid\\\": \\\"6a58c896-8285-41c9-bd9a-c6551534b940\\\"\\n          },\\n          \\\"id\\\": 4,\\n          \\\"scope_entry\\\": \\\"3\\\",\\n          \\\"scope_exit\\\": \\\"4\\\"\\n        },\\n        {\\n          \\\"type\\\": \\\"MapEntry\\\",\\n          \\\"label\\\": \\\"WarpLevel_Operation_map[wi=0:32]\\\",\\n          \\\"attributes\\\": {\\n            \\\"label\\\": \\\"WarpLevel_Operation_map\\\",\\n            \\\"params\\\": [\\n              \\\"wi\\\"\\n            ],\\n            \\\"range\\\": {\\n              \\\"type\\\": \\\"Range\\\",\\n              \\\"ranges\\\": [\\n                {\\n                  \\\"start\\\": \\\"0\\\",\\n                  \\\"end\\\": \\\"31\\\",\\n                  \\\"step\\\": \\\"1\\\",\\n                  \\\"tile\\\": \\\"1\\\"\\n                }\\n              ]\\n            },\\n            \\\"schedule\\\": \\\"GPU_Warp\\\",\\n            \\\"debuginfo\\\": {\\n              \\\"type\\\": \\\"DebugInfo\\\",\\n              \\\"start_line\\\": 25,\\n              \\\"end_line\\\": 25,\\n              \\\"start_column\\\": 0,\\n              \\\"end_column\\\": 0,\\n              \\\"filename\\\": \\\"/tmp/ipykernel_55199/2712610590.py\\\"\\n            },\\n            \\\"guid\\\": \\\"306ed290-ea4f-4748-b65f-e1aeacc97659\\\"\\n          },\\n          \\\"id\\\": 5,\\n          \\\"scope_entry\\\": \\\"3\\\",\\n          \\\"scope_exit\\\": \\\"7\\\"\\n        },\\n        {\\n          \\\"type\\\": \\\"Tasklet\\\",\\n          \\\"label\\\": \\\"WarpLevel_Operation\\\",\\n          \\\"attributes\\\": {\\n            \\\"code\\\": {\\n              \\\"string_data\\\": \\\"out = wi\\\",\\n              \\\"language\\\": \\\"Python\\\"\\n            },\\n            \\\"debuginfo\\\": {\\n              \\\"type\\\": \\\"DebugInfo\\\",\\n              \\\"start_line\\\": 25,\\n              \\\"end_line\\\": 25,\\n              \\\"start_column\\\": 0,\\n              \\\"end_column\\\": 0,\\n              \\\"filename\\\": \\\"/tmp/ipykernel_55199/2712610590.py\\\"\\n            },\\n            \\\"label\\\": \\\"WarpLevel_Operation\\\",\\n            \\\"out_connectors\\\": {\\n              \\\"out\\\": null\\n            },\\n            \\\"guid\\\": \\\"b888b422-1340-499d-8c45-157f3884d6db\\\"\\n          },\\n          \\\"id\\\": 6,\\n          \\\"scope_entry\\\": \\\"5\\\",\\n          \\\"scope_exit\\\": \\\"7\\\"\\n        },\\n        {\\n          \\\"type\\\": \\\"MapExit\\\",\\n          \\\"label\\\": \\\"WarpLevel_Operation_map[wi=0:32]\\\",\\n          \\\"attributes\\\": {\\n            \\\"in_connectors\\\": {\\n              \\\"IN_1\\\": null\\n            },\\n            \\\"out_connectors\\\": {\\n              \\\"OUT_1\\\": null\\n            },\\n            \\\"guid\\\": \\\"2f57cb44-71b2-46ee-b011-14bae4baad60\\\"\\n          },\\n          \\\"id\\\": 7,\\n          \\\"scope_entry\\\": \\\"5\\\",\\n          \\\"scope_exit\\\": \\\"7\\\"\\n        }\\n      ],\\n      \\\"edges\\\": [\\n        {\\n          \\\"type\\\": \\\"MultiConnectorEdge\\\",\\n          \\\"attributes\\\": {\\n            \\\"data\\\": {\\n              \\\"type\\\": \\\"Memlet\\\",\\n              \\\"attributes\\\": {\\n                \\\"volume\\\": \\\"1\\\",\\n                \\\"debuginfo\\\": null,\\n                \\\"guid\\\": \\\"f7e8179c-387f-4647-ac41-7f29c5d0fc99\\\",\\n                \\\"src_subset\\\": null,\\n                \\\"dst_subset\\\": null,\\n                \\\"is_data_src\\\": false,\\n                \\\"num_accesses\\\": \\\"1\\\"\\n              }\\n            }\\n          },\\n          \\\"src\\\": \\\"1\\\",\\n          \\\"dst\\\": \\\"3\\\",\\n          \\\"dst_connector\\\": null,\\n          \\\"src_connector\\\": null\\n        },\\n        {\\n          \\\"type\\\": \\\"MultiConnectorEdge\\\",\\n          \\\"attributes\\\": {\\n            \\\"data\\\": {\\n              \\\"type\\\": \\\"Memlet\\\",\\n              \\\"attributes\\\": {\\n                \\\"volume\\\": \\\"1\\\",\\n                \\\"debuginfo\\\": null,\\n                \\\"guid\\\": \\\"4ada1936-09d3-4b21-8328-ebffa2cdcbaa\\\",\\n                \\\"src_subset\\\": null,\\n                \\\"dst_subset\\\": null,\\n                \\\"is_data_src\\\": false,\\n                \\\"num_accesses\\\": \\\"1\\\"\\n              }\\n            }\\n          },\\n          \\\"src\\\": \\\"5\\\",\\n          \\\"dst\\\": \\\"6\\\",\\n          \\\"dst_connector\\\": null,\\n          \\\"src_connector\\\": null\\n        },\\n        {\\n          \\\"type\\\": \\\"MultiConnectorEdge\\\",\\n          \\\"attributes\\\": {\\n            \\\"data\\\": {\\n              \\\"type\\\": \\\"Memlet\\\",\\n              \\\"attributes\\\": {\\n                \\\"volume\\\": \\\"1\\\",\\n                \\\"debuginfo\\\": null,\\n                \\\"guid\\\": \\\"bbcbfe09-ee4c-41c3-81b5-48bcd91f6fd3\\\",\\n                \\\"src_subset\\\": null,\\n                \\\"dst_subset\\\": null,\\n                \\\"is_data_src\\\": false,\\n                \\\"num_accesses\\\": \\\"1\\\"\\n              }\\n            }\\n          },\\n          \\\"src\\\": \\\"3\\\",\\n          \\\"dst\\\": \\\"5\\\",\\n          \\\"dst_connector\\\": null,\\n          \\\"src_connector\\\": null\\n        },\\n        {\\n          \\\"type\\\": \\\"MultiConnectorEdge\\\",\\n          \\\"attributes\\\": {\\n            \\\"data\\\": {\\n              \\\"type\\\": \\\"Memlet\\\",\\n              \\\"attributes\\\": {\\n                \\\"volume\\\": \\\"1024\\\",\\n                \\\"subset\\\": {\\n                  \\\"type\\\": \\\"Range\\\",\\n                  \\\"ranges\\\": [\\n                    {\\n                      \\\"start\\\": \\\"0\\\",\\n                      \\\"end\\\": \\\"31\\\",\\n                      \\\"step\\\": \\\"1\\\",\\n                      \\\"tile\\\": \\\"1\\\"\\n                    },\\n                    {\\n                      \\\"start\\\": \\\"0\\\",\\n                      \\\"end\\\": \\\"31\\\",\\n                      \\\"step\\\": \\\"1\\\",\\n                      \\\"tile\\\": \\\"1\\\"\\n                    }\\n                  ]\\n                },\\n                \\\"data\\\": \\\"A\\\",\\n                \\\"debuginfo\\\": null,\\n                \\\"guid\\\": \\\"b8454a9e-01b3-4f0b-8333-3d3c08b37b54\\\",\\n                \\\"src_subset\\\": null,\\n                \\\"dst_subset\\\": {\\n                  \\\"type\\\": \\\"Range\\\",\\n                  \\\"ranges\\\": [\\n                    {\\n                      \\\"start\\\": \\\"0\\\",\\n                      \\\"end\\\": \\\"31\\\",\\n                      \\\"step\\\": \\\"1\\\",\\n                      \\\"tile\\\": \\\"1\\\"\\n                    },\\n                    {\\n                      \\\"start\\\": \\\"0\\\",\\n                      \\\"end\\\": \\\"31\\\",\\n                      \\\"step\\\": \\\"1\\\",\\n                      \\\"tile\\\": \\\"1\\\"\\n                    }\\n                  ]\\n                },\\n                \\\"is_data_src\\\": false,\\n                \\\"num_accesses\\\": \\\"1024\\\"\\n              }\\n            }\\n          },\\n          \\\"src\\\": \\\"2\\\",\\n          \\\"dst\\\": \\\"0\\\",\\n          \\\"dst_connector\\\": null,\\n          \\\"src_connector\\\": \\\"OUT_1\\\"\\n        },\\n        {\\n          \\\"type\\\": \\\"MultiConnectorEdge\\\",\\n          \\\"attributes\\\": {\\n            \\\"data\\\": {\\n              \\\"type\\\": \\\"Memlet\\\",\\n              \\\"attributes\\\": {\\n                \\\"volume\\\": \\\"1\\\",\\n                \\\"subset\\\": {\\n                  \\\"type\\\": \\\"Range\\\",\\n                  \\\"ranges\\\": [\\n                    {\\n                      \\\"start\\\": \\\"i + ii\\\",\\n                      \\\"end\\\": \\\"i + ii\\\",\\n                      \\\"step\\\": \\\"1\\\",\\n                      \\\"tile\\\": \\\"1\\\"\\n                    },\\n                    {\\n                      \\\"start\\\": \\\"j + jj\\\",\\n                      \\\"end\\\": \\\"j + jj\\\",\\n                      \\\"step\\\": \\\"1\\\",\\n                      \\\"tile\\\": \\\"1\\\"\\n                    }\\n                  ]\\n                },\\n                \\\"data\\\": \\\"A\\\",\\n                \\\"debuginfo\\\": null,\\n                \\\"guid\\\": \\\"39817159-c050-4bbb-94b7-d1e0386f4e5e\\\",\\n                \\\"src_subset\\\": null,\\n                \\\"dst_subset\\\": {\\n                  \\\"type\\\": \\\"Range\\\",\\n                  \\\"ranges\\\": [\\n                    {\\n                      \\\"start\\\": \\\"i + ii\\\",\\n                      \\\"end\\\": \\\"i + ii\\\",\\n                      \\\"step\\\": \\\"1\\\",\\n                      \\\"tile\\\": \\\"1\\\"\\n                    },\\n                    {\\n                      \\\"start\\\": \\\"j + jj\\\",\\n                      \\\"end\\\": \\\"j + jj\\\",\\n                      \\\"step\\\": \\\"1\\\",\\n                      \\\"tile\\\": \\\"1\\\"\\n                    }\\n                  ]\\n                },\\n                \\\"is_data_src\\\": false,\\n                \\\"num_accesses\\\": \\\"1\\\"\\n              }\\n            }\\n          },\\n          \\\"src\\\": \\\"7\\\",\\n          \\\"dst\\\": \\\"4\\\",\\n          \\\"dst_connector\\\": \\\"IN_1\\\",\\n          \\\"src_connector\\\": \\\"OUT_1\\\"\\n        },\\n        {\\n          \\\"type\\\": \\\"MultiConnectorEdge\\\",\\n          \\\"attributes\\\": {\\n            \\\"data\\\": {\\n              \\\"type\\\": \\\"Memlet\\\",\\n              \\\"attributes\\\": {\\n                \\\"volume\\\": \\\"1024\\\",\\n                \\\"subset\\\": {\\n                  \\\"type\\\": \\\"Range\\\",\\n                  \\\"ranges\\\": [\\n                    {\\n                      \\\"start\\\": \\\"i\\\",\\n                      \\\"end\\\": \\\"i + 31\\\",\\n                      \\\"step\\\": \\\"1\\\",\\n                      \\\"tile\\\": \\\"1\\\"\\n                    },\\n                    {\\n                      \\\"start\\\": \\\"j\\\",\\n                      \\\"end\\\": \\\"j + 31\\\",\\n                      \\\"step\\\": \\\"1\\\",\\n                      \\\"tile\\\": \\\"1\\\"\\n                    }\\n                  ]\\n                },\\n                \\\"data\\\": \\\"A\\\",\\n                \\\"debuginfo\\\": null,\\n                \\\"guid\\\": \\\"58a2c4c0-eed0-4fe6-bdfb-901317029837\\\",\\n                \\\"src_subset\\\": null,\\n                \\\"dst_subset\\\": {\\n                  \\\"type\\\": \\\"Range\\\",\\n                  \\\"ranges\\\": [\\n                    {\\n                      \\\"start\\\": \\\"i\\\",\\n                      \\\"end\\\": \\\"i + 31\\\",\\n                      \\\"step\\\": \\\"1\\\",\\n                      \\\"tile\\\": \\\"1\\\"\\n                    },\\n                    {\\n                      \\\"start\\\": \\\"j\\\",\\n                      \\\"end\\\": \\\"j + 31\\\",\\n                      \\\"step\\\": \\\"1\\\",\\n                      \\\"tile\\\": \\\"1\\\"\\n                    }\\n                  ]\\n                },\\n                \\\"is_data_src\\\": false,\\n                \\\"num_accesses\\\": \\\"1024\\\"\\n              }\\n            }\\n          },\\n          \\\"src\\\": \\\"4\\\",\\n          \\\"dst\\\": \\\"2\\\",\\n          \\\"dst_connector\\\": \\\"IN_1\\\",\\n          \\\"src_connector\\\": \\\"OUT_1\\\"\\n        },\\n        {\\n          \\\"type\\\": \\\"MultiConnectorEdge\\\",\\n          \\\"attributes\\\": {\\n            \\\"data\\\": {\\n              \\\"type\\\": \\\"Memlet\\\",\\n              \\\"attributes\\\": {\\n                \\\"volume\\\": \\\"1\\\",\\n                \\\"subset\\\": {\\n                  \\\"type\\\": \\\"Range\\\",\\n                  \\\"ranges\\\": [\\n                    {\\n                      \\\"start\\\": \\\"i + ii\\\",\\n                      \\\"end\\\": \\\"i + ii\\\",\\n                      \\\"step\\\": \\\"1\\\",\\n                      \\\"tile\\\": \\\"1\\\"\\n                    },\\n                    {\\n                      \\\"start\\\": \\\"j + jj\\\",\\n                      \\\"end\\\": \\\"j + jj\\\",\\n                      \\\"step\\\": \\\"1\\\",\\n                      \\\"tile\\\": \\\"1\\\"\\n                    }\\n                  ]\\n                },\\n                \\\"data\\\": \\\"A\\\",\\n                \\\"debuginfo\\\": null,\\n                \\\"guid\\\": \\\"b594bf2d-8bfe-48fe-abca-30c22b0d9071\\\",\\n                \\\"src_subset\\\": null,\\n                \\\"dst_subset\\\": {\\n                  \\\"type\\\": \\\"Range\\\",\\n                  \\\"ranges\\\": [\\n                    {\\n                      \\\"start\\\": \\\"i + ii\\\",\\n                      \\\"end\\\": \\\"i + ii\\\",\\n                      \\\"step\\\": \\\"1\\\",\\n                      \\\"tile\\\": \\\"1\\\"\\n                    },\\n                    {\\n                      \\\"start\\\": \\\"j + jj\\\",\\n                      \\\"end\\\": \\\"j + jj\\\",\\n                      \\\"step\\\": \\\"1\\\",\\n                      \\\"tile\\\": \\\"1\\\"\\n                    }\\n                  ]\\n                },\\n                \\\"is_data_src\\\": false,\\n                \\\"num_accesses\\\": \\\"1\\\"\\n              }\\n            }\\n          },\\n          \\\"src\\\": \\\"6\\\",\\n          \\\"dst\\\": \\\"7\\\",\\n          \\\"dst_connector\\\": \\\"IN_1\\\",\\n          \\\"src_connector\\\": \\\"out\\\"\\n        }\\n      ],\\n      \\\"attributes\\\": {\\n        \\\"guid\\\": \\\"03fe6219-a3bc-4fd4-a826-16b27c188aec\\\"\\n      }\\n    }\\n  ],\\n  \\\"edges\\\": [],\\n  \\\"collapsed\\\": false,\\n  \\\"label\\\": \\\"\\\",\\n  \\\"id\\\": null,\\n  \\\"cfg_list_id\\\": 0,\\n  \\\"start_block\\\": null,\\n  \\\"dace_version\\\": \\\"1.0.0\\\"\\n}\";\n",
       "</script>\n",
       "<script>\n",
       "    new SDFGRenderer(\n",
       "        checkCompatLoad(parse_sdfg(sdfg_6712029560834239889)),\n",
       "        document.getElementById(\"contents_6712029560834239889\"),\n",
       "        undefined, null, null, false, null, null\n",
       "    );\n",
       "</script>"
      ],
      "text/plain": [
       "SDFG (Warp_test_1)"
      ]
     },
     "execution_count": 7,
     "metadata": {},
     "output_type": "execute_result"
    }
   ],
   "source": [
    "sdfg = dace.SDFG(\"Warp_test_1\")\n",
    "state = sdfg.add_state(\"main\")\n",
    "\n",
    "# Generate access nodes\n",
    "a_dev = sdfg.add_array(\"A\", (32,32), dace.uint32, dace.dtypes.StorageType.GPU_Global)\n",
    "a_acc = state.add_access(\"A\")\n",
    "\n",
    "\n",
    "\n",
    "# Generate maps, connect entries with access data\n",
    "gpu_map_entry, gpu_map_exit = state.add_map(name = \"GPU_Map\",\n",
    "                                            ndrange = dict(i='0:32:32', j ='0:32:32'),\n",
    "                                            schedule = dace.dtypes.ScheduleType.GPU_Device)\n",
    "\n",
    "\n",
    "\n",
    "tblock_map_entry, tblock_map_exit = state.add_map(name = \"Block_Map\",\n",
    "                                                ndrange = dict(ii='0:32', jj='0:32'),\n",
    "                                                schedule = dace.dtypes.ScheduleType.GPU_ThreadBlock)\n",
    "\n",
    "state.add_edge(gpu_map_entry, None, tblock_map_entry, None, dace.memlet.Memlet())\n",
    "\n",
    "\n",
    "\n",
    "tasklet, warp_scope_entry, warp_scope_exit = state.add_mapped_tasklet(\n",
    "    name='WarpLevel_Operation',\n",
    "    map_ranges=dict(wi='0:32'),\n",
    "    inputs=dict(),\n",
    "    code=\n",
    "\"\"\"\n",
    "out = wi\n",
    "\"\"\",\n",
    "    outputs=dict(out=dace.Memlet(\"A[i+ii, j+jj]\")),\n",
    "    schedule=dace.dtypes.ScheduleType.GPU_Warp\n",
    ")\n",
    "\n",
    "state.add_edge(tblock_map_entry, None, warp_scope_entry, None, dace.memlet.Memlet())\n",
    "\n",
    "state.add_edge(warp_scope_exit, None, tblock_map_exit, None, dace.memlet.Memlet('A[i+ii, j+jj]'))\n",
    "state.add_edge(tblock_map_exit, None, gpu_map_exit, None, dace.memlet.Memlet('A[i:i+32,j:j+32]'))\n",
    "state.add_edge(gpu_map_exit, None, a_acc, None, dace.memlet.Memlet('A[0:32, 0:32]'))\n",
    "\n",
    "sdfg.fill_scope_connectors()\n",
    "sdfg"
   ]
  },
  {
   "cell_type": "code",
   "execution_count": null,
   "id": "c0146590",
   "metadata": {},
   "outputs": [],
   "source": [
    "\n",
    "Code(sdfg.generate_code()[1].clean_code, language='cpp')"
   ]
  },
  {
   "cell_type": "code",
   "execution_count": null,
   "id": "141d0c40",
   "metadata": {},
   "outputs": [],
   "source": []
  }
 ],
 "metadata": {
  "kernelspec": {
   "display_name": "dace_env",
   "language": "python",
   "name": "python3"
  },
  "language_info": {
   "codemirror_mode": {
    "name": "ipython",
    "version": 3
   },
   "file_extension": ".py",
   "mimetype": "text/x-python",
   "name": "python",
   "nbconvert_exporter": "python",
   "pygments_lexer": "ipython3",
   "version": "3.12.3"
  }
 },
 "nbformat": 4,
 "nbformat_minor": 5
}
